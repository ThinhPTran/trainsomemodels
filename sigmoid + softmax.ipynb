{
 "cells": [
  {
   "cell_type": "code",
   "execution_count": 1,
   "id": "9a37701e",
   "metadata": {},
   "outputs": [],
   "source": [
    "import numpy as np\n",
    "import tensorflow as tf\n",
    "from tensorflow import keras\n",
    "from tensorflow.keras import layers\n",
    "from matplotlib import pyplot as plt"
   ]
  },
  {
   "cell_type": "code",
   "execution_count": 3,
   "id": "bc5936a8",
   "metadata": {},
   "outputs": [],
   "source": [
    "# Model / data parameters\n",
    "num_classes = 10\n",
    "input_shape = (28, 28, 1)\n",
    "\n",
    "# the data, split between train and test sets\n",
    "(x_train, y_train), (x_test, y_test) = keras.datasets.mnist.load_data()"
   ]
  },
  {
   "cell_type": "code",
   "execution_count": 4,
   "id": "b5455ea8",
   "metadata": {},
   "outputs": [],
   "source": [
    "# Scale images to the [0, 1] range\n",
    "x_train = x_train.astype(\"float32\") / 255\n",
    "x_test = x_test.astype(\"float32\") / 255"
   ]
  },
  {
   "cell_type": "code",
   "execution_count": 5,
   "id": "2616f260",
   "metadata": {},
   "outputs": [
    {
     "name": "stdout",
     "output_type": "stream",
     "text": [
      "x_train shape:  (60000, 784)\n",
      "60000 train samples\n",
      "10000 test samples\n"
     ]
    },
    {
     "data": {
      "text/plain": [
       "<matplotlib.image.AxesImage at 0x1430b2e80>"
      ]
     },
     "execution_count": 5,
     "metadata": {},
     "output_type": "execute_result"
    },
    {
     "data": {
      "image/png": "[encoded data removed]",
      "text/plain": [
       "<Figure size 432x288 with 1 Axes>"
      ]
     },
     "metadata": {
      "needs_background": "light"
     },
     "output_type": "display_data"
    }
   ],
   "source": [
    "# make suare images have shape (28, 28, 1)\n",
    "x_train = np.reshape(x_train, (60000, 784))\n",
    "x_test = np.reshape(x_test, (10000, 784))\n",
    "\n",
    "print(\"x_train shape: \", x_train.shape)\n",
    "print(x_train.shape[0], \"train samples\")\n",
    "print(x_test.shape[0], \"test samples\")\n",
    "\n",
    "a_train_img = x_train[0]\n",
    "a_train_img = np.reshape(a_train_img, (28, 28))\n",
    "plt.imshow(a_train_img)"
   ]
  },
  {
   "cell_type": "code",
   "execution_count": 6,
   "id": "aa2ee754",
   "metadata": {},
   "outputs": [],
   "source": [
    "# Convert class vectors to binary class matrices\n",
    "y_train = keras.utils.to_categorical(y_train, num_classes)\n",
    "y_test = keras.utils.to_categorical(y_test, num_classes)"
   ]
  },
  {
   "cell_type": "code",
   "execution_count": 9,
   "id": "663ae68a",
   "metadata": {},
   "outputs": [
    {
     "name": "stdout",
     "output_type": "stream",
     "text": [
      "Model: \"sequential_2\"\n",
      "_________________________________________________________________\n",
      " Layer (type)                Output Shape              Param #   \n",
      "=================================================================\n",
      " dense_2 (Dense)             (None, 200)               157000    \n",
      "                                                                 \n",
      " dense_3 (Dense)             (None, 60)                12060     \n",
      "                                                                 \n",
      " dense_4 (Dense)             (None, 10)                610       \n",
      "                                                                 \n",
      "=================================================================\n",
      "Total params: 169,670\n",
      "Trainable params: 169,670\n",
      "Non-trainable params: 0\n",
      "_________________________________________________________________\n"
     ]
    }
   ],
   "source": [
    "# Build the model\n",
    "model = keras.Sequential(\n",
    "[\n",
    "      tf.keras.layers.Input(shape=(28*28,)),\n",
    "      tf.keras.layers.Dense(200, activation='sigmoid'),\n",
    "      tf.keras.layers.Dense(60, activation='sigmoid'),\n",
    "      tf.keras.layers.Dense(10, activation='softmax')\n",
    "])\n",
    "\n",
    "model.summary()"
   ]
  },
  {
   "cell_type": "code",
   "execution_count": 10,
   "id": "7bb54f29",
   "metadata": {},
   "outputs": [
    {
     "name": "stdout",
     "output_type": "stream",
     "text": [
      "Epoch 1/30\n",
      "422/422 [==============================] - 2s 4ms/step - loss: 0.7671 - accuracy: 0.8184 - val_loss: 0.2782 - val_accuracy: 0.9287\n",
      "Epoch 2/30\n",
      "422/422 [==============================] - 1s 3ms/step - loss: 0.2727 - accuracy: 0.9240 - val_loss: 0.1880 - val_accuracy: 0.9517\n",
      "Epoch 3/30\n",
      "422/422 [==============================] - 1s 3ms/step - loss: 0.2044 - accuracy: 0.9412 - val_loss: 0.1545 - val_accuracy: 0.9583\n",
      "Epoch 4/30\n",
      "422/422 [==============================] - 1s 3ms/step - loss: 0.1648 - accuracy: 0.9521 - val_loss: 0.1283 - val_accuracy: 0.9650\n",
      "Epoch 5/30\n",
      "422/422 [==============================] - 2s 4ms/step - loss: 0.1352 - accuracy: 0.9606 - val_loss: 0.1124 - val_accuracy: 0.9687\n",
      "Epoch 6/30\n",
      "422/422 [==============================] - 1s 3ms/step - loss: 0.1123 - accuracy: 0.9679 - val_loss: 0.1042 - val_accuracy: 0.9697\n",
      "Epoch 7/30\n",
      "422/422 [==============================] - 1s 3ms/step - loss: 0.0948 - accuracy: 0.9731 - val_loss: 0.0919 - val_accuracy: 0.9738\n",
      "Epoch 8/30\n",
      "422/422 [==============================] - 1s 3ms/step - loss: 0.0797 - accuracy: 0.9777 - val_loss: 0.0873 - val_accuracy: 0.9737\n",
      "Epoch 9/30\n",
      "422/422 [==============================] - 2s 4ms/step - loss: 0.0682 - accuracy: 0.9810 - val_loss: 0.0795 - val_accuracy: 0.9752\n",
      "Epoch 10/30\n",
      "422/422 [==============================] - 1s 3ms/step - loss: 0.0583 - accuracy: 0.9837 - val_loss: 0.0755 - val_accuracy: 0.9773\n",
      "Epoch 11/30\n",
      "422/422 [==============================] - 1s 3ms/step - loss: 0.0499 - accuracy: 0.9860 - val_loss: 0.0740 - val_accuracy: 0.9777\n",
      "Epoch 12/30\n",
      "422/422 [==============================] - 1s 3ms/step - loss: 0.0424 - accuracy: 0.9888 - val_loss: 0.0713 - val_accuracy: 0.9782\n",
      "Epoch 13/30\n",
      "422/422 [==============================] - 2s 4ms/step - loss: 0.0361 - accuracy: 0.9906 - val_loss: 0.0751 - val_accuracy: 0.9757\n",
      "Epoch 14/30\n",
      "422/422 [==============================] - 1s 3ms/step - loss: 0.0307 - accuracy: 0.9923 - val_loss: 0.0687 - val_accuracy: 0.9778\n",
      "Epoch 15/30\n",
      "422/422 [==============================] - 1s 3ms/step - loss: 0.0262 - accuracy: 0.9938 - val_loss: 0.0670 - val_accuracy: 0.9797\n",
      "Epoch 16/30\n",
      "422/422 [==============================] - 1s 3ms/step - loss: 0.0219 - accuracy: 0.9955 - val_loss: 0.0697 - val_accuracy: 0.9798\n",
      "Epoch 17/30\n",
      "422/422 [==============================] - 2s 4ms/step - loss: 0.0181 - accuracy: 0.9965 - val_loss: 0.0742 - val_accuracy: 0.9782\n",
      "Epoch 18/30\n",
      "422/422 [==============================] - 2s 4ms/step - loss: 0.0153 - accuracy: 0.9971 - val_loss: 0.0667 - val_accuracy: 0.9810\n",
      "Epoch 19/30\n",
      "422/422 [==============================] - 2s 5ms/step - loss: 0.0123 - accuracy: 0.9980 - val_loss: 0.0694 - val_accuracy: 0.9793\n",
      "Epoch 20/30\n",
      "422/422 [==============================] - 2s 4ms/step - loss: 0.0103 - accuracy: 0.9984 - val_loss: 0.0748 - val_accuracy: 0.9790\n",
      "Epoch 21/30\n",
      "422/422 [==============================] - 2s 4ms/step - loss: 0.0085 - accuracy: 0.9990 - val_loss: 0.0755 - val_accuracy: 0.9797\n",
      "Epoch 22/30\n",
      "422/422 [==============================] - 1s 3ms/step - loss: 0.0067 - accuracy: 0.9991 - val_loss: 0.0683 - val_accuracy: 0.9815\n",
      "Epoch 23/30\n",
      "422/422 [==============================] - 1s 3ms/step - loss: 0.0056 - accuracy: 0.9994 - val_loss: 0.0695 - val_accuracy: 0.9810\n",
      "Epoch 24/30\n",
      "422/422 [==============================] - 1s 3ms/step - loss: 0.0044 - accuracy: 0.9996 - val_loss: 0.0720 - val_accuracy: 0.9805\n",
      "Epoch 25/30\n",
      "422/422 [==============================] - 1s 3ms/step - loss: 0.0037 - accuracy: 0.9998 - val_loss: 0.0738 - val_accuracy: 0.9810\n",
      "Epoch 26/30\n",
      "422/422 [==============================] - 1s 3ms/step - loss: 0.0029 - accuracy: 0.9998 - val_loss: 0.0768 - val_accuracy: 0.9793\n",
      "Epoch 27/30\n",
      "422/422 [==============================] - 2s 4ms/step - loss: 0.0022 - accuracy: 0.9999 - val_loss: 0.0755 - val_accuracy: 0.9807\n",
      "Epoch 28/30\n",
      "422/422 [==============================] - 3s 6ms/step - loss: 0.0027 - accuracy: 0.9997 - val_loss: 0.0788 - val_accuracy: 0.9803\n",
      "Epoch 29/30\n",
      "422/422 [==============================] - 3s 8ms/step - loss: 0.0038 - accuracy: 0.9994 - val_loss: 0.0746 - val_accuracy: 0.9810\n",
      "Epoch 30/30\n",
      "422/422 [==============================] - 2s 6ms/step - loss: 0.0014 - accuracy: 0.9999 - val_loss: 0.0759 - val_accuracy: 0.9807\n"
     ]
    }
   ],
   "source": [
    "batch_size = 128\n",
    "epochs = 30\n",
    "\n",
    "model.compile(\n",
    "    loss=\"categorical_crossentropy\", \n",
    "    optimizer=\"adam\", \n",
    "    metrics=[\"accuracy\"])\n",
    "\n",
    "# Train the model\n",
    "history = model.fit(x_train, y_train, batch_size=batch_size, epochs=epochs, validation_split=0.1)"
   ]
  },
  {
   "cell_type": "code",
   "execution_count": 11,
   "id": "0bc3b5fe",
   "metadata": {},
   "outputs": [
    {
     "name": "stdout",
     "output_type": "stream",
     "text": [
      "Test loss:  0.07297322154045105\n",
      "Test accuracy:  0.98089998960495\n"
     ]
    }
   ],
   "source": [
    "# Evaluate the trained model\n",
    "score = model.evaluate(x_test, y_test, verbose=0)\n",
    "print(\"Test loss: \", score[0])\n",
    "print(\"Test accuracy: \", score[1])"
   ]
  },
  {
   "cell_type": "code",
   "execution_count": 12,
   "id": "65adf1fb",
   "metadata": {},
   "outputs": [
    {
     "data": {
      "image/png": "[encoded data removed]",
      "text/plain": [
       "<Figure size 432x288 with 1 Axes>"
      ]
     },
     "metadata": {
      "needs_background": "light"
     },
     "output_type": "display_data"
    }
   ],
   "source": [
    "# Summarize history for accuracy\n",
    "plt.plot(history.history['accuracy'])\n",
    "plt.plot(history.history['val_accuracy'])\n",
    "plt.title('model accuracy')\n",
    "plt.ylabel('accuracy')\n",
    "plt.xlabel('epoch')\n",
    "plt.legend(['train', 'test'], loc='upper left')\n",
    "plt.show()"
   ]
  },
  {
   "cell_type": "code",
   "execution_count": 13,
   "id": "bda49b86",
   "metadata": {},
   "outputs": [
    {
     "data": {
      "image/png": "[encoded data removed]",
      "text/plain": [
       "<Figure size 432x288 with 1 Axes>"
      ]
     },
     "metadata": {
      "needs_background": "light"
     },
     "output_type": "display_data"
    }
   ],
   "source": [
    "# Summarize history for loss\n",
    "plt.plot(history.history['loss'])\n",
    "plt.plot(history.history['val_loss'])\n",
    "plt.title('model loss')\n",
    "plt.ylabel('loss')\n",
    "plt.xlabel('epoch')\n",
    "plt.legend(['train', 'test'], loc='upper left')\n",
    "plt.show()"
   ]
  },
  {
   "cell_type": "code",
   "execution_count": null,
   "id": "57faed9b",
   "metadata": {},
   "outputs": [],
   "source": []
  }
 ],
 "metadata": {
  "kernelspec": {
   "display_name": "Python 3 (ipykernel)",
   "language": "python",
   "name": "python3"
  },
  "language_info": {
   "codemirror_mode": {
    "name": "ipython",
    "version": 3
   },
   "file_extension": ".py",
   "mimetype": "text/x-python",
   "name": "python",
   "nbconvert_exporter": "python",
   "pygments_lexer": "ipython3",
   "version": "3.8.10"
  }
 },
 "nbformat": 4,
 "nbformat_minor": 5
}
