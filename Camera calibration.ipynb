{
 "cells": [
  {
   "cell_type": "code",
   "execution_count": 10,
   "id": "a3b01487",
   "metadata": {},
   "outputs": [
    {
     "data": {
      "text/latex": [
       "What is camera calibration?\n",
       "The process of estimating the parameters of a camera is called\n",
       "camera calibration\n",
       "\n",
       "This means we have all the information (parameters or coefficients)\n",
       "about the camera required to determine an accurate relationship\n",
       "between a 3D point in the real world and its corresponding \n",
       "2D projection (pixel) in the image captured by that calibrated\n",
       "camera\n"
      ],
      "text/plain": [
       "<IPython.core.display.Latex object>"
      ]
     },
     "metadata": {},
     "output_type": "display_data"
    }
   ],
   "source": [
    "%%latex\n",
    "What is camera calibration?\n",
    "The process of estimating the parameters of a camera is called\n",
    "camera calibration\n",
    "\n",
    "This means we have all the information (parameters or coefficients)\n",
    "about the camera required to determine an accurate relationship\n",
    "between a 3D point in the real world and its corresponding \n",
    "2D projection (pixel) in the image captured by that calibrated\n",
    "camera"
   ]
  },
  {
   "cell_type": "code",
   "execution_count": 9,
   "id": "314eafcc",
   "metadata": {},
   "outputs": [
    {
     "data": {
      "text/latex": [
       "Typically this means recovering two kinds of parameters\n",
       "1. Internal parameters of the camera/lens system. E.g. \n",
       "focal length, optical center and radial distortion \n",
       "coefficients of the lens.\n",
       "2. External paramters: This refers to the orientation \n",
       "(rotation and translation) of the camera with respect \n",
       "to some world coordinate system.\n"
      ],
      "text/plain": [
       "<IPython.core.display.Latex object>"
      ]
     },
     "metadata": {},
     "output_type": "display_data"
    }
   ],
   "source": [
    "%%latex\n",
    "Typically this means recovering two kinds of parameters\n",
    "1. Internal parameters of the camera/lens system. E.g. \n",
    "focal length, optical center and radial distortion \n",
    "coefficients of the lens.\n",
    "2. External paramters: This refers to the orientation \n",
    "(rotation and translation) of the camera with respect \n",
    "to some world coordinate system."
   ]
  },
  {
   "cell_type": "code",
   "execution_count": 12,
   "id": "6cf814e8",
   "metadata": {},
   "outputs": [
    {
     "data": {
      "text/latex": [
       "$P$ is a $3 \\times 4$ Projection matrix consisting of two parts\n",
       "- the $intrinsic matrix (K)$ that contains the intrinsic parameters\n",
       "and the $extrinsic matrix (R|t)$ that is a combination of $3 \n",
       "times 3$ rotation matrix $R$ and a $3 \\times 1$ translation $t$\n",
       "vector.\n",
       "$$\n",
       "P = \\overbrace{K}^{Intrinsic Matrix} \\times \\overbrace{[R|t]}^{Extrinsic Matrix}\n",
       "$$\n"
      ],
      "text/plain": [
       "<IPython.core.display.Latex object>"
      ]
     },
     "metadata": {},
     "output_type": "display_data"
    }
   ],
   "source": [
    "%%latex\n",
    "$P$ is a $3 \\times 4$ Projection matrix consisting of two parts\n",
    "- the $intrinsic matrix (K)$ that contains the intrinsic parameters\n",
    "and the $extrinsic matrix (R|t)$ that is a combination of $3 \n",
    "times 3$ rotation matrix $R$ and a $3 \\times 1$ translation $t$\n",
    "vector.\n",
    "$$\n",
    "P = \\overbrace{K}^{Intrinsic Matrix} \\times \\overbrace{[R|t]}^{Extrinsic Matrix}\n",
    "$$"
   ]
  },
  {
   "cell_type": "code",
   "execution_count": null,
   "id": "cf659418",
   "metadata": {},
   "outputs": [],
   "source": []
  }
 ],
 "metadata": {
  "kernelspec": {
   "display_name": "Python 3 (ipykernel)",
   "language": "python",
   "name": "python3"
  },
  "language_info": {
   "codemirror_mode": {
    "name": "ipython",
    "version": 3
   },
   "file_extension": ".py",
   "mimetype": "text/x-python",
   "name": "python",
   "nbconvert_exporter": "python",
   "pygments_lexer": "ipython3",
   "version": "3.9.10"
  }
 },
 "nbformat": 4,
 "nbformat_minor": 5
}
