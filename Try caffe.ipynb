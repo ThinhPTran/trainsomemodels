{
 "cells": [
  {
   "cell_type": "code",
   "execution_count": 3,
   "metadata": {},
   "outputs": [],
   "source": [
    "import caffe\n",
    "from caffe import layers as cl, params as cp"
   ]
  },
  {
   "cell_type": "code",
   "execution_count": 6,
   "metadata": {},
   "outputs": [],
   "source": [
    "net = caffe.NetSpec()\n",
    "net.data = cl.Input(shape=[dict(dim=[1, 3, 32, 16])])\n",
    "net.conv1 = cl.Convolution(net.data, name='conv1', kernel_size=3, stride=1, num_output=8, pad=1)"
   ]
  },
  {
   "cell_type": "code",
   "execution_count": 7,
   "metadata": {},
   "outputs": [
    {
     "data": {
      "text/plain": [
       "layer {\n",
       "  name: \"data\"\n",
       "  type: \"Input\"\n",
       "  top: \"data\"\n",
       "  input_param {\n",
       "    shape {\n",
       "      dim: 1\n",
       "      dim: 3\n",
       "      dim: 32\n",
       "      dim: 16\n",
       "    }\n",
       "  }\n",
       "}\n",
       "layer {\n",
       "  name: \"conv1\"\n",
       "  type: \"Convolution\"\n",
       "  bottom: \"data\"\n",
       "  top: \"conv1\"\n",
       "  convolution_param {\n",
       "    num_output: 8\n",
       "    pad: 1\n",
       "    kernel_size: 3\n",
       "    stride: 1\n",
       "  }\n",
       "}"
      ]
     },
     "execution_count": 7,
     "metadata": {},
     "output_type": "execute_result"
    }
   ],
   "source": [
    "net.to_proto()"
   ]
  },
  {
   "cell_type": "code",
   "execution_count": null,
   "metadata": {},
   "outputs": [],
   "source": []
  }
 ],
 "metadata": {
  "kernelspec": {
   "display_name": "Python 3 (ipykernel)",
   "language": "python",
   "name": "python3"
  },
  "language_info": {
   "codemirror_mode": {
    "name": "ipython",
    "version": 3
   },
   "file_extension": ".py",
   "mimetype": "text/x-python",
   "name": "python",
   "nbconvert_exporter": "python",
   "pygments_lexer": "ipython3",
   "version": "3.8.10"
  }
 },
 "nbformat": 4,
 "nbformat_minor": 5
}
