{
 "cells": [
  {
   "cell_type": "code",
   "execution_count": 17,
   "id": "f07def9c",
   "metadata": {},
   "outputs": [],
   "source": [
    "import numpy as np\n",
    "import tensorflow as tf\n",
    "from tensorflow import keras\n",
    "from tensorflow.keras import layers\n",
    "from matplotlib import pyplot as plt"
   ]
  },
  {
   "cell_type": "code",
   "execution_count": 18,
   "id": "7ed4917d",
   "metadata": {},
   "outputs": [],
   "source": [
    "# Model / data parameters\n",
    "num_classes = 10\n",
    "input_shape = (28, 28, 1)\n",
    "\n",
    "# the data, split between train and test sets\n",
    "(x_train, y_train), (x_test, y_test) = keras.datasets.mnist.load_data()"
   ]
  },
  {
   "cell_type": "code",
   "execution_count": 19,
   "id": "9cb2b3af",
   "metadata": {},
   "outputs": [],
   "source": [
    "# Scale images to the [0, 1] range\n",
    "x_train = x_train.astype(\"float32\") / 255\n",
    "x_test = x_test.astype(\"float32\") / 255"
   ]
  },
  {
   "cell_type": "code",
   "execution_count": 20,
   "id": "3ae7f86c",
   "metadata": {},
   "outputs": [
    {
     "name": "stdout",
     "output_type": "stream",
     "text": [
      "x_train shape:  (60000, 28, 28, 1)\n",
      "60000 train samples\n",
      "10000 test samples\n"
     ]
    }
   ],
   "source": [
    "# make suare images have shape (28, 28, 1)\n",
    "x_train = np.expand_dims(x_train, -1)\n",
    "x_test = np.expand_dims(x_test, -1)\n",
    "\n",
    "print(\"x_train shape: \", x_train.shape)\n",
    "print(x_train.shape[0], \"train samples\")\n",
    "print(x_test.shape[0], \"test samples\")"
   ]
  },
  {
   "cell_type": "code",
   "execution_count": 21,
   "id": "addcd4e8",
   "metadata": {},
   "outputs": [],
   "source": [
    "# Convert class vectors to binary class matrices\n",
    "y_train = keras.utils.to_categorical(y_train, num_classes)\n",
    "y_test = keras.utils.to_categorical(y_test, num_classes)"
   ]
  },
  {
   "cell_type": "code",
   "execution_count": 22,
   "id": "89f5267c",
   "metadata": {},
   "outputs": [
    {
     "name": "stdout",
     "output_type": "stream",
     "text": [
      "Model: \"sequential_1\"\n",
      "_________________________________________________________________\n",
      " Layer (type)                Output Shape              Param #   \n",
      "=================================================================\n",
      " conv2d_3 (Conv2D)           (None, 26, 26, 12)        120       \n",
      "                                                                 \n",
      " conv2d_4 (Conv2D)           (None, 11, 11, 24)        10392     \n",
      "                                                                 \n",
      " conv2d_5 (Conv2D)           (None, 3, 3, 32)          27680     \n",
      "                                                                 \n",
      " flatten_1 (Flatten)         (None, 288)               0         \n",
      "                                                                 \n",
      " dense_1 (Dense)             (None, 10)                2890      \n",
      "                                                                 \n",
      "=================================================================\n",
      "Total params: 41,082\n",
      "Trainable params: 41,082\n",
      "Non-trainable params: 0\n",
      "_________________________________________________________________\n"
     ]
    }
   ],
   "source": [
    "# Build the model\n",
    "model = keras.Sequential(\n",
    "[\n",
    "      tf.keras.Input(shape=input_shape),\n",
    "      tf.keras.layers.Conv2D(kernel_size=3, filters=12, activation='relu'),\n",
    "      tf.keras.layers.Conv2D(kernel_size=6, filters=24, strides=2, activation='relu'),\n",
    "      tf.keras.layers.Conv2D(kernel_size=6, filters=32, strides=2, activation='relu'),\n",
    "      tf.keras.layers.Flatten(),\n",
    "      tf.keras.layers.Dense(10, activation='softmax')\n",
    "])\n",
    "\n",
    "model.summary()"
   ]
  },
  {
   "cell_type": "code",
   "execution_count": 23,
   "id": "a79b5484",
   "metadata": {},
   "outputs": [
    {
     "name": "stdout",
     "output_type": "stream",
     "text": [
      "Epoch 1/30\n",
      "422/422 [==============================] - 45s 104ms/step - loss: 0.2927 - accuracy: 0.9138 - val_loss: 0.0813 - val_accuracy: 0.9772\n",
      "Epoch 2/30\n",
      "422/422 [==============================] - 43s 103ms/step - loss: 0.0772 - accuracy: 0.9765 - val_loss: 0.0626 - val_accuracy: 0.9818\n",
      "Epoch 3/30\n",
      "422/422 [==============================] - 47s 112ms/step - loss: 0.0523 - accuracy: 0.9845 - val_loss: 0.0497 - val_accuracy: 0.9862\n",
      "Epoch 4/30\n",
      "422/422 [==============================] - 52s 124ms/step - loss: 0.0414 - accuracy: 0.9878 - val_loss: 0.0473 - val_accuracy: 0.9870\n",
      "Epoch 5/30\n",
      "422/422 [==============================] - 53s 125ms/step - loss: 0.0350 - accuracy: 0.9893 - val_loss: 0.0405 - val_accuracy: 0.9900\n",
      "Epoch 6/30\n",
      "422/422 [==============================] - 57s 135ms/step - loss: 0.0279 - accuracy: 0.9912 - val_loss: 0.0388 - val_accuracy: 0.9897\n",
      "Epoch 7/30\n",
      "422/422 [==============================] - 53s 126ms/step - loss: 0.0230 - accuracy: 0.9928 - val_loss: 0.0469 - val_accuracy: 0.9872\n",
      "Epoch 8/30\n",
      "422/422 [==============================] - 47s 111ms/step - loss: 0.0205 - accuracy: 0.9936 - val_loss: 0.0379 - val_accuracy: 0.9903\n",
      "Epoch 9/30\n",
      "422/422 [==============================] - 55s 130ms/step - loss: 0.0160 - accuracy: 0.9948 - val_loss: 0.0407 - val_accuracy: 0.9905\n",
      "Epoch 10/30\n",
      "422/422 [==============================] - 55s 130ms/step - loss: 0.0133 - accuracy: 0.9959 - val_loss: 0.0416 - val_accuracy: 0.9907\n",
      "Epoch 11/30\n",
      "422/422 [==============================] - 55s 130ms/step - loss: 0.0124 - accuracy: 0.9960 - val_loss: 0.0421 - val_accuracy: 0.9893\n",
      "Epoch 12/30\n",
      "422/422 [==============================] - 51s 121ms/step - loss: 0.0115 - accuracy: 0.9960 - val_loss: 0.0457 - val_accuracy: 0.9907\n",
      "Epoch 13/30\n",
      "422/422 [==============================] - 49s 117ms/step - loss: 0.0086 - accuracy: 0.9973 - val_loss: 0.0496 - val_accuracy: 0.9905\n",
      "Epoch 14/30\n",
      "422/422 [==============================] - 54s 128ms/step - loss: 0.0089 - accuracy: 0.9968 - val_loss: 0.0526 - val_accuracy: 0.9892\n",
      "Epoch 15/30\n",
      "422/422 [==============================] - 44s 105ms/step - loss: 0.0068 - accuracy: 0.9978 - val_loss: 0.0455 - val_accuracy: 0.9910\n",
      "Epoch 16/30\n",
      "422/422 [==============================] - 44s 104ms/step - loss: 0.0055 - accuracy: 0.9983 - val_loss: 0.0541 - val_accuracy: 0.9897\n",
      "Epoch 17/30\n",
      "422/422 [==============================] - 47s 111ms/step - loss: 0.0066 - accuracy: 0.9978 - val_loss: 0.0557 - val_accuracy: 0.9892\n",
      "Epoch 18/30\n",
      "422/422 [==============================] - 54s 127ms/step - loss: 0.0069 - accuracy: 0.9975 - val_loss: 0.0551 - val_accuracy: 0.9900\n",
      "Epoch 19/30\n",
      "422/422 [==============================] - 56s 132ms/step - loss: 0.0038 - accuracy: 0.9987 - val_loss: 0.0635 - val_accuracy: 0.9902\n",
      "Epoch 20/30\n",
      "422/422 [==============================] - 54s 127ms/step - loss: 0.0060 - accuracy: 0.9980 - val_loss: 0.0583 - val_accuracy: 0.9885\n",
      "Epoch 21/30\n",
      "422/422 [==============================] - 46s 110ms/step - loss: 0.0044 - accuracy: 0.9984 - val_loss: 0.0503 - val_accuracy: 0.9927\n",
      "Epoch 22/30\n",
      "422/422 [==============================] - 46s 110ms/step - loss: 0.0045 - accuracy: 0.9985 - val_loss: 0.0568 - val_accuracy: 0.9903\n",
      "Epoch 23/30\n",
      "422/422 [==============================] - 46s 108ms/step - loss: 0.0040 - accuracy: 0.9986 - val_loss: 0.0614 - val_accuracy: 0.9897\n",
      "Epoch 24/30\n",
      "422/422 [==============================] - 52s 123ms/step - loss: 0.0038 - accuracy: 0.9985 - val_loss: 0.0694 - val_accuracy: 0.9893\n",
      "Epoch 25/30\n",
      "422/422 [==============================] - 55s 131ms/step - loss: 0.0043 - accuracy: 0.9987 - val_loss: 0.0605 - val_accuracy: 0.9890\n",
      "Epoch 26/30\n",
      "422/422 [==============================] - 48s 113ms/step - loss: 0.0050 - accuracy: 0.9984 - val_loss: 0.0666 - val_accuracy: 0.9902\n",
      "Epoch 27/30\n",
      "422/422 [==============================] - 52s 124ms/step - loss: 0.0031 - accuracy: 0.9990 - val_loss: 0.0601 - val_accuracy: 0.9898\n",
      "Epoch 28/30\n",
      "422/422 [==============================] - 58s 137ms/step - loss: 0.0036 - accuracy: 0.9988 - val_loss: 0.0571 - val_accuracy: 0.9905\n",
      "Epoch 29/30\n",
      "422/422 [==============================] - 56s 132ms/step - loss: 0.0027 - accuracy: 0.9991 - val_loss: 0.0735 - val_accuracy: 0.9905\n",
      "Epoch 30/30\n",
      "422/422 [==============================] - 48s 114ms/step - loss: 0.0021 - accuracy: 0.9995 - val_loss: 0.0696 - val_accuracy: 0.9890\n"
     ]
    }
   ],
   "source": [
    "batch_size = 128\n",
    "epochs = 30\n",
    "\n",
    "model.compile(\n",
    "    loss=\"categorical_crossentropy\", \n",
    "    optimizer=\"adam\", \n",
    "    metrics=[\"accuracy\"])\n",
    "\n",
    "# Train the model\n",
    "history = model.fit(x_train, y_train, batch_size=batch_size, epochs=epochs, validation_split=0.1)"
   ]
  },
  {
   "cell_type": "code",
   "execution_count": 27,
   "id": "8e7b15d4",
   "metadata": {},
   "outputs": [
    {
     "name": "stdout",
     "output_type": "stream",
     "text": [
      "Test loss:  0.05383385717868805\n",
      "Test accuracy:  0.9897000193595886\n"
     ]
    }
   ],
   "source": [
    "# Evaluate the trained model\n",
    "score = model.evaluate(x_test, y_test, verbose=0)\n",
    "print(\"Test loss: \", score[0])\n",
    "print(\"Test accuracy: \", score[1])"
   ]
  },
  {
   "cell_type": "code",
   "execution_count": 28,
   "id": "af39dc9c",
   "metadata": {},
   "outputs": [
    {
     "data": {
      "image/png": "[encoded data removed]",
      "text/plain": [
       "<Figure size 432x288 with 1 Axes>"
      ]
     },
     "metadata": {
      "needs_background": "light"
     },
     "output_type": "display_data"
    }
   ],
   "source": [
    "# Summarize history for accuracy\n",
    "plt.plot(history.history['accuracy'])\n",
    "plt.plot(history.history['val_accuracy'])\n",
    "plt.title('model accuracy')\n",
    "plt.ylabel('accuracy')\n",
    "plt.xlabel('epoch')\n",
    "plt.legend(['train', 'test'], loc='upper left')\n",
    "plt.show()"
   ]
  },
  {
   "cell_type": "code",
   "execution_count": 29,
   "id": "f3576ac0",
   "metadata": {},
   "outputs": [
    {
     "data": {
      "image/png": "[encoded data removed]",
      "text/plain": [
       "<Figure size 432x288 with 1 Axes>"
      ]
     },
     "metadata": {
      "needs_background": "light"
     },
     "output_type": "display_data"
    }
   ],
   "source": [
    "# Summarize history for loss\n",
    "plt.plot(history.history['loss'])\n",
    "plt.plot(history.history['val_loss'])\n",
    "plt.title('model loss')\n",
    "plt.ylabel('loss')\n",
    "plt.xlabel('epoch')\n",
    "plt.legend(['train', 'test'], loc='upper left')\n",
    "plt.show()"
   ]
  },
  {
   "cell_type": "code",
   "execution_count": 30,
   "id": "ac195d29",
   "metadata": {},
   "outputs": [],
   "source": [
    "a_val_img = x_test[0]"
   ]
  },
  {
   "cell_type": "code",
   "execution_count": 31,
   "id": "254496e8",
   "metadata": {},
   "outputs": [
    {
     "data": {
      "text/plain": [
       "<matplotlib.image.AxesImage at 0x7f16c532e790>"
      ]
     },
     "execution_count": 31,
     "metadata": {},
     "output_type": "execute_result"
    },
    {
     "data": {
      "image/png": "[encoded data removed]",
      "text/plain": [
       "<Figure size 432x288 with 1 Axes>"
      ]
     },
     "metadata": {
      "needs_background": "light"
     },
     "output_type": "display_data"
    }
   ],
   "source": [
    "plt.imshow(a_val_img)"
   ]
  },
  {
   "cell_type": "code",
   "execution_count": 32,
   "id": "64572c72",
   "metadata": {},
   "outputs": [
    {
     "data": {
      "text/plain": [
       "array([0., 0., 0., 0., 0., 0., 0., 1., 0., 0.], dtype=float32)"
      ]
     },
     "execution_count": 32,
     "metadata": {},
     "output_type": "execute_result"
    }
   ],
   "source": [
    "y_test[0]"
   ]
  },
  {
   "cell_type": "code",
   "execution_count": 33,
   "id": "9fff868b",
   "metadata": {},
   "outputs": [
    {
     "data": {
      "text/plain": [
       "(28, 28, 1)"
      ]
     },
     "execution_count": 33,
     "metadata": {},
     "output_type": "execute_result"
    }
   ],
   "source": [
    "np.shape(a_val_img)"
   ]
  },
  {
   "cell_type": "code",
   "execution_count": 34,
   "id": "859d9bd6",
   "metadata": {},
   "outputs": [
    {
     "data": {
      "text/plain": [
       "(1, 28, 28, 1)"
      ]
     },
     "execution_count": 34,
     "metadata": {},
     "output_type": "execute_result"
    }
   ],
   "source": [
    "np.shape(np.array([a_val_img,]))"
   ]
  },
  {
   "cell_type": "code",
   "execution_count": 35,
   "id": "6385a8c8",
   "metadata": {},
   "outputs": [
    {
     "data": {
      "text/plain": [
       "array([[2.7691417e-19, 2.1103689e-18, 6.9270913e-15, 4.4732502e-08,\n",
       "        1.5199857e-23, 2.5408093e-17, 8.9121865e-38, 1.0000000e+00,\n",
       "        1.3648736e-15, 1.2447636e-13]], dtype=float32)"
      ]
     },
     "execution_count": 35,
     "metadata": {},
     "output_type": "execute_result"
    }
   ],
   "source": [
    "model.predict(np.array([a_val_img]))"
   ]
  },
  {
   "cell_type": "code",
   "execution_count": 36,
   "id": "9f117376",
   "metadata": {},
   "outputs": [],
   "source": [
    "# save the model to file\n",
    "model.save('./Data/conv_flatten_softmax_model.h5')"
   ]
  },
  {
   "cell_type": "code",
   "execution_count": null,
   "id": "e7fd4402",
   "metadata": {},
   "outputs": [],
   "source": []
  }
 ],
 "metadata": {
  "kernelspec": {
   "display_name": "Python 3 (ipykernel)",
   "language": "python",
   "name": "python3"
  },
  "language_info": {
   "codemirror_mode": {
    "name": "ipython",
    "version": 3
   },
   "file_extension": ".py",
   "mimetype": "text/x-python",
   "name": "python",
   "nbconvert_exporter": "python",
   "pygments_lexer": "ipython3",
   "version": "3.9.10"
  }
 },
 "nbformat": 4,
 "nbformat_minor": 5
}
