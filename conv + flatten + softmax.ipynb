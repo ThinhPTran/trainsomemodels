{
 "cells": [
  {
   "cell_type": "code",
   "execution_count": 2,
   "id": "f07def9c",
   "metadata": {},
   "outputs": [],
   "source": [
    "import numpy as np\n",
    "import tensorflow as tf\n",
    "from tensorflow import keras\n",
    "from tensorflow.keras import layers\n",
    "from matplotlib import pyplot as plt"
   ]
  },
  {
   "cell_type": "code",
   "execution_count": 3,
   "id": "7ed4917d",
   "metadata": {},
   "outputs": [],
   "source": [
    "# Model / data parameters\n",
    "num_classes = 10\n",
    "input_shape = (28, 28, 1)\n",
    "\n",
    "# the data, split between train and test sets\n",
    "(x_train, y_train), (x_test, y_test) = keras.datasets.mnist.load_data()"
   ]
  },
  {
   "cell_type": "code",
   "execution_count": 4,
   "id": "9cb2b3af",
   "metadata": {},
   "outputs": [],
   "source": [
    "# Scale images to the [0, 1] range\n",
    "x_train = x_train.astype(\"float32\") / 255\n",
    "x_test = x_test.astype(\"float32\") / 255"
   ]
  },
  {
   "cell_type": "code",
   "execution_count": 5,
   "id": "3ae7f86c",
   "metadata": {},
   "outputs": [
    {
     "name": "stdout",
     "output_type": "stream",
     "text": [
      "x_train shape:  (60000, 28, 28, 1)\n",
      "60000 train samples\n",
      "10000 test samples\n"
     ]
    }
   ],
   "source": [
    "# make suare images have shape (28, 28, 1)\n",
    "x_train = np.expand_dims(x_train, -1)\n",
    "x_test = np.expand_dims(x_test, -1)\n",
    "\n",
    "print(\"x_train shape: \", x_train.shape)\n",
    "print(x_train.shape[0], \"train samples\")\n",
    "print(x_test.shape[0], \"test samples\")"
   ]
  },
  {
   "cell_type": "code",
   "execution_count": 6,
   "id": "addcd4e8",
   "metadata": {},
   "outputs": [],
   "source": [
    "# Convert class vectors to binary class matrices\n",
    "y_train = keras.utils.to_categorical(y_train, num_classes)\n",
    "y_test = keras.utils.to_categorical(y_test, num_classes)"
   ]
  },
  {
   "cell_type": "code",
   "execution_count": 7,
   "id": "89f5267c",
   "metadata": {},
   "outputs": [
    {
     "name": "stdout",
     "output_type": "stream",
     "text": [
      "Model: \"sequential\"\n",
      "_________________________________________________________________\n",
      " Layer (type)                Output Shape              Param #   \n",
      "=================================================================\n",
      " conv2d (Conv2D)             (None, 26, 26, 12)        120       \n",
      "                                                                 \n",
      " conv2d_1 (Conv2D)           (None, 11, 11, 24)        10392     \n",
      "                                                                 \n",
      " conv2d_2 (Conv2D)           (None, 3, 3, 32)          27680     \n",
      "                                                                 \n",
      " flatten (Flatten)           (None, 288)               0         \n",
      "                                                                 \n",
      " dense (Dense)               (None, 10)                2890      \n",
      "                                                                 \n",
      "=================================================================\n",
      "Total params: 41,082\n",
      "Trainable params: 41,082\n",
      "Non-trainable params: 0\n",
      "_________________________________________________________________\n"
     ]
    },
    {
     "name": "stderr",
     "output_type": "stream",
     "text": [
      "2022-01-28 07:53:42.656393: I tensorflow/core/platform/cpu_feature_guard.cc:151] This TensorFlow binary is optimized with oneAPI Deep Neural Network Library (oneDNN) to use the following CPU instructions in performance-critical operations:  AVX2 FMA\n",
      "To enable them in other operations, rebuild TensorFlow with the appropriate compiler flags.\n"
     ]
    }
   ],
   "source": [
    "# Build the model\n",
    "model = keras.Sequential(\n",
    "[\n",
    "      tf.keras.Input(shape=input_shape),\n",
    "      tf.keras.layers.Conv2D(kernel_size=3, filters=12, activation='relu'),\n",
    "      tf.keras.layers.Conv2D(kernel_size=6, filters=24, strides=2, activation='relu'),\n",
    "      tf.keras.layers.Conv2D(kernel_size=6, filters=32, strides=2, activation='relu'),\n",
    "      tf.keras.layers.Flatten(),\n",
    "      tf.keras.layers.Dense(10, activation='softmax')\n",
    "])\n",
    "\n",
    "model.summary()"
   ]
  },
  {
   "cell_type": "code",
   "execution_count": 8,
   "id": "a79b5484",
   "metadata": {},
   "outputs": [
    {
     "name": "stdout",
     "output_type": "stream",
     "text": [
      "Epoch 1/30\n",
      "422/422 [==============================] - 17s 40ms/step - loss: 0.2954 - accuracy: 0.9141 - val_loss: 0.0873 - val_accuracy: 0.9743\n",
      "Epoch 2/30\n",
      "422/422 [==============================] - 18s 42ms/step - loss: 0.0770 - accuracy: 0.9767 - val_loss: 0.0657 - val_accuracy: 0.9830\n",
      "Epoch 3/30\n",
      "422/422 [==============================] - 29s 70ms/step - loss: 0.0539 - accuracy: 0.9831 - val_loss: 0.0536 - val_accuracy: 0.9855\n",
      "Epoch 4/30\n",
      "422/422 [==============================] - 21s 51ms/step - loss: 0.0422 - accuracy: 0.9869 - val_loss: 0.0460 - val_accuracy: 0.9872\n",
      "Epoch 5/30\n",
      "422/422 [==============================] - 19s 44ms/step - loss: 0.0353 - accuracy: 0.9888 - val_loss: 0.0478 - val_accuracy: 0.9857\n",
      "Epoch 6/30\n",
      "422/422 [==============================] - 20s 47ms/step - loss: 0.0279 - accuracy: 0.9913 - val_loss: 0.0440 - val_accuracy: 0.9887\n",
      "Epoch 7/30\n",
      "422/422 [==============================] - 19s 45ms/step - loss: 0.0232 - accuracy: 0.9929 - val_loss: 0.0455 - val_accuracy: 0.9870\n",
      "Epoch 8/30\n",
      "422/422 [==============================] - 20s 47ms/step - loss: 0.0198 - accuracy: 0.9936 - val_loss: 0.0427 - val_accuracy: 0.9890\n",
      "Epoch 9/30\n",
      "422/422 [==============================] - 21s 49ms/step - loss: 0.0167 - accuracy: 0.9947 - val_loss: 0.0427 - val_accuracy: 0.9902\n",
      "Epoch 10/30\n",
      "422/422 [==============================] - 21s 49ms/step - loss: 0.0142 - accuracy: 0.9956 - val_loss: 0.0375 - val_accuracy: 0.9898\n",
      "Epoch 11/30\n",
      "422/422 [==============================] - 18s 43ms/step - loss: 0.0115 - accuracy: 0.9959 - val_loss: 0.0413 - val_accuracy: 0.9905\n",
      "Epoch 12/30\n",
      "422/422 [==============================] - 28s 67ms/step - loss: 0.0113 - accuracy: 0.9961 - val_loss: 0.0433 - val_accuracy: 0.9897\n",
      "Epoch 13/30\n",
      "422/422 [==============================] - 25s 58ms/step - loss: 0.0092 - accuracy: 0.9969 - val_loss: 0.0448 - val_accuracy: 0.9888\n",
      "Epoch 14/30\n",
      "422/422 [==============================] - 28s 66ms/step - loss: 0.0076 - accuracy: 0.9974 - val_loss: 0.0498 - val_accuracy: 0.9880\n",
      "Epoch 15/30\n",
      "422/422 [==============================] - 24s 56ms/step - loss: 0.0078 - accuracy: 0.9974 - val_loss: 0.0467 - val_accuracy: 0.9890\n",
      "Epoch 16/30\n",
      "422/422 [==============================] - 25s 59ms/step - loss: 0.0063 - accuracy: 0.9977 - val_loss: 0.0534 - val_accuracy: 0.9885\n",
      "Epoch 17/30\n",
      "422/422 [==============================] - 25s 59ms/step - loss: 0.0063 - accuracy: 0.9978 - val_loss: 0.0452 - val_accuracy: 0.9905\n",
      "Epoch 18/30\n",
      "422/422 [==============================] - 24s 56ms/step - loss: 0.0045 - accuracy: 0.9985 - val_loss: 0.0540 - val_accuracy: 0.9900\n",
      "Epoch 19/30\n",
      "422/422 [==============================] - 25s 59ms/step - loss: 0.0030 - accuracy: 0.9991 - val_loss: 0.0595 - val_accuracy: 0.9900\n",
      "Epoch 20/30\n",
      "422/422 [==============================] - 26s 62ms/step - loss: 0.0049 - accuracy: 0.9984 - val_loss: 0.0638 - val_accuracy: 0.9878\n",
      "Epoch 21/30\n",
      "422/422 [==============================] - 29s 69ms/step - loss: 0.0053 - accuracy: 0.9982 - val_loss: 0.0486 - val_accuracy: 0.9912\n",
      "Epoch 22/30\n",
      "422/422 [==============================] - 24s 57ms/step - loss: 0.0036 - accuracy: 0.9989 - val_loss: 0.0485 - val_accuracy: 0.9913\n",
      "Epoch 23/30\n",
      "422/422 [==============================] - 24s 57ms/step - loss: 0.0044 - accuracy: 0.9984 - val_loss: 0.0640 - val_accuracy: 0.9887\n",
      "Epoch 24/30\n",
      "422/422 [==============================] - 26s 62ms/step - loss: 0.0036 - accuracy: 0.9990 - val_loss: 0.0597 - val_accuracy: 0.9888\n",
      "Epoch 25/30\n",
      "422/422 [==============================] - 31s 75ms/step - loss: 0.0047 - accuracy: 0.9982 - val_loss: 0.0479 - val_accuracy: 0.9912\n",
      "Epoch 26/30\n",
      "422/422 [==============================] - 26s 62ms/step - loss: 0.0035 - accuracy: 0.9989 - val_loss: 0.0664 - val_accuracy: 0.9905\n",
      "Epoch 27/30\n",
      "422/422 [==============================] - 25s 60ms/step - loss: 0.0042 - accuracy: 0.9986 - val_loss: 0.0543 - val_accuracy: 0.9903\n",
      "Epoch 28/30\n",
      "422/422 [==============================] - 23s 55ms/step - loss: 0.0019 - accuracy: 0.9995 - val_loss: 0.0558 - val_accuracy: 0.9910\n",
      "Epoch 29/30\n",
      "422/422 [==============================] - 24s 58ms/step - loss: 0.0021 - accuracy: 0.9993 - val_loss: 0.0567 - val_accuracy: 0.9908\n",
      "Epoch 30/30\n",
      "422/422 [==============================] - 27s 64ms/step - loss: 0.0043 - accuracy: 0.9984 - val_loss: 0.0705 - val_accuracy: 0.9893\n"
     ]
    }
   ],
   "source": [
    "batch_size = 128\n",
    "epochs = 30\n",
    "\n",
    "model.compile(\n",
    "    loss=\"categorical_crossentropy\", \n",
    "    optimizer=\"adam\", \n",
    "    metrics=[\"accuracy\"])\n",
    "\n",
    "# Train the model\n",
    "history = model.fit(x_train, y_train, batch_size=batch_size, epochs=epochs, validation_split=0.1)"
   ]
  },
  {
   "cell_type": "code",
   "execution_count": 9,
   "id": "8e7b15d4",
   "metadata": {},
   "outputs": [
    {
     "name": "stdout",
     "output_type": "stream",
     "text": [
      "Test loss:  0.04734629765152931\n",
      "Test accuracy:  0.9911999702453613\n"
     ]
    }
   ],
   "source": [
    "# Evaluate the trained model\n",
    "score = model.evaluate(x_test, y_test, verbose=0)\n",
    "print(\"Test loss: \", score[0])\n",
    "print(\"Test accuracy: \", score[1])"
   ]
  },
  {
   "cell_type": "code",
   "execution_count": 10,
   "id": "af39dc9c",
   "metadata": {},
   "outputs": [
    {
     "data": {
      "image/png": "[encoded data removed]",
      "text/plain": [
       "<Figure size 432x288 with 1 Axes>"
      ]
     },
     "metadata": {
      "needs_background": "light"
     },
     "output_type": "display_data"
    }
   ],
   "source": [
    "# Summarize history for accuracy\n",
    "plt.plot(history.history['accuracy'])\n",
    "plt.plot(history.history['val_accuracy'])\n",
    "plt.title('model accuracy')\n",
    "plt.ylabel('accuracy')\n",
    "plt.xlabel('epoch')\n",
    "plt.legend(['train', 'test'], loc='upper left')\n",
    "plt.show()"
   ]
  },
  {
   "cell_type": "code",
   "execution_count": 11,
   "id": "f3576ac0",
   "metadata": {},
   "outputs": [
    {
     "data": {
      "image/png": "[encoded data removed]",
      "text/plain": [
       "<Figure size 432x288 with 1 Axes>"
      ]
     },
     "metadata": {
      "needs_background": "light"
     },
     "output_type": "display_data"
    }
   ],
   "source": [
    "# Summarize history for loss\n",
    "plt.plot(history.history['loss'])\n",
    "plt.plot(history.history['val_loss'])\n",
    "plt.title('model loss')\n",
    "plt.ylabel('loss')\n",
    "plt.xlabel('epoch')\n",
    "plt.legend(['train', 'test'], loc='upper left')\n",
    "plt.show()"
   ]
  },
  {
   "cell_type": "code",
   "execution_count": 12,
   "id": "ac195d29",
   "metadata": {},
   "outputs": [],
   "source": [
    "a_val_img = x_test[0]"
   ]
  },
  {
   "cell_type": "code",
   "execution_count": 13,
   "id": "254496e8",
   "metadata": {},
   "outputs": [
    {
     "data": {
      "text/plain": [
       "<matplotlib.image.AxesImage at 0x140b377f0>"
      ]
     },
     "execution_count": 13,
     "metadata": {},
     "output_type": "execute_result"
    },
    {
     "data": {
      "image/png": "[encoded data removed]",
      "text/plain": [
       "<Figure size 432x288 with 1 Axes>"
      ]
     },
     "metadata": {
      "needs_background": "light"
     },
     "output_type": "display_data"
    }
   ],
   "source": [
    "plt.imshow(a_val_img)"
   ]
  },
  {
   "cell_type": "code",
   "execution_count": 14,
   "id": "64572c72",
   "metadata": {},
   "outputs": [
    {
     "data": {
      "text/plain": [
       "array([0., 0., 0., 0., 0., 0., 0., 1., 0., 0.], dtype=float32)"
      ]
     },
     "execution_count": 14,
     "metadata": {},
     "output_type": "execute_result"
    }
   ],
   "source": [
    "y_test[0]"
   ]
  },
  {
   "cell_type": "code",
   "execution_count": 15,
   "id": "9fff868b",
   "metadata": {},
   "outputs": [
    {
     "data": {
      "text/plain": [
       "(28, 28, 1)"
      ]
     },
     "execution_count": 15,
     "metadata": {},
     "output_type": "execute_result"
    }
   ],
   "source": [
    "np.shape(a_val_img)"
   ]
  },
  {
   "cell_type": "code",
   "execution_count": 16,
   "id": "859d9bd6",
   "metadata": {},
   "outputs": [
    {
     "data": {
      "text/plain": [
       "(1, 28, 28, 1)"
      ]
     },
     "execution_count": 16,
     "metadata": {},
     "output_type": "execute_result"
    }
   ],
   "source": [
    "np.shape(np.array([a_val_img,]))"
   ]
  },
  {
   "cell_type": "code",
   "execution_count": 17,
   "id": "6385a8c8",
   "metadata": {},
   "outputs": [
    {
     "data": {
      "text/plain": [
       "array([[1.1773768e-21, 9.4355975e-19, 1.9853956e-14, 3.2595419e-16,\n",
       "        6.6482707e-28, 1.7441588e-19, 6.9608934e-37, 1.0000000e+00,\n",
       "        1.4679344e-18, 6.7851879e-14]], dtype=float32)"
      ]
     },
     "execution_count": 17,
     "metadata": {},
     "output_type": "execute_result"
    }
   ],
   "source": [
    "model.predict(np.array([a_val_img]))"
   ]
  },
  {
   "cell_type": "code",
   "execution_count": 18,
   "id": "9f117376",
   "metadata": {},
   "outputs": [],
   "source": [
    "# save the model to file\n",
    "model.save('./Data/conv_flatten_softmax_model.h5')"
   ]
  },
  {
   "cell_type": "code",
   "execution_count": null,
   "id": "e7fd4402",
   "metadata": {},
   "outputs": [],
   "source": []
  }
 ],
 "metadata": {
  "kernelspec": {
   "display_name": "Python 3 (ipykernel)",
   "language": "python",
   "name": "python3"
  },
  "language_info": {
   "codemirror_mode": {
    "name": "ipython",
    "version": 3
   },
   "file_extension": ".py",
   "mimetype": "text/x-python",
   "name": "python",
   "nbconvert_exporter": "python",
   "pygments_lexer": "ipython3",
   "version": "3.8.9"
  }
 },
 "nbformat": 4,
 "nbformat_minor": 5
}
