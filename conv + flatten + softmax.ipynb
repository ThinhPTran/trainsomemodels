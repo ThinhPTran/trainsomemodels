{
 "cells": [
  {
   "cell_type": "code",
   "execution_count": 11,
   "id": "f07def9c",
   "metadata": {},
   "outputs": [],
   "source": [
    "import numpy as np\n",
    "import tensorflow as tf\n",
    "from tensorflow import keras\n",
    "from tensorflow.keras import layers\n",
    "from matplotlib import pyplot as plt"
   ]
  },
  {
   "cell_type": "code",
   "execution_count": 12,
   "id": "7ed4917d",
   "metadata": {},
   "outputs": [],
   "source": [
    "# Model / data parameters\n",
    "num_classes = 10\n",
    "input_shape = (28, 28, 1)\n",
    "\n",
    "# the data, split between train and test sets\n",
    "(x_train, y_train), (x_test, y_test) = keras.datasets.mnist.load_data()"
   ]
  },
  {
   "cell_type": "code",
   "execution_count": 13,
   "id": "9cb2b3af",
   "metadata": {},
   "outputs": [],
   "source": [
    "# Scale images to the [0, 1] range\n",
    "x_train = x_train.astype(\"float32\") / 255\n",
    "x_test = x_test.astype(\"float32\") / 255"
   ]
  },
  {
   "cell_type": "code",
   "execution_count": 14,
   "id": "3ae7f86c",
   "metadata": {},
   "outputs": [
    {
     "name": "stdout",
     "output_type": "stream",
     "text": [
      "x_train shape:  (60000, 28, 28, 1)\n",
      "60000 train samples\n",
      "10000 test samples\n"
     ]
    }
   ],
   "source": [
    "# make suare images have shape (28, 28, 1)\n",
    "x_train = np.expand_dims(x_train, -1)\n",
    "x_test = np.expand_dims(x_test, -1)\n",
    "\n",
    "print(\"x_train shape: \", x_train.shape)\n",
    "print(x_train.shape[0], \"train samples\")\n",
    "print(x_test.shape[0], \"test samples\")"
   ]
  },
  {
   "cell_type": "code",
   "execution_count": 15,
   "id": "addcd4e8",
   "metadata": {},
   "outputs": [],
   "source": [
    "# Convert class vectors to binary class matrices\n",
    "y_train = keras.utils.to_categorical(y_train, num_classes)\n",
    "y_test = keras.utils.to_categorical(y_test, num_classes)"
   ]
  },
  {
   "cell_type": "code",
   "execution_count": 16,
   "id": "89f5267c",
   "metadata": {},
   "outputs": [
    {
     "name": "stdout",
     "output_type": "stream",
     "text": [
      "Model: \"sequential_2\"\n",
      "_________________________________________________________________\n",
      " Layer (type)                Output Shape              Param #   \n",
      "=================================================================\n",
      " conv2d_6 (Conv2D)           (None, 26, 26, 12)        120       \n",
      "                                                                 \n",
      " conv2d_7 (Conv2D)           (None, 11, 11, 24)        10392     \n",
      "                                                                 \n",
      " conv2d_8 (Conv2D)           (None, 3, 3, 32)          27680     \n",
      "                                                                 \n",
      " flatten_2 (Flatten)         (None, 288)               0         \n",
      "                                                                 \n",
      " dense_2 (Dense)             (None, 10)                2890      \n",
      "                                                                 \n",
      "=================================================================\n",
      "Total params: 41,082\n",
      "Trainable params: 41,082\n",
      "Non-trainable params: 0\n",
      "_________________________________________________________________\n"
     ]
    }
   ],
   "source": [
    "# Build the model\n",
    "model = keras.Sequential(\n",
    "[\n",
    "      tf.keras.Input(shape=input_shape),\n",
    "      tf.keras.layers.Conv2D(kernel_size=3, filters=12, activation='relu'),\n",
    "      tf.keras.layers.Conv2D(kernel_size=6, filters=24, strides=2, activation='relu'),\n",
    "      tf.keras.layers.Conv2D(kernel_size=6, filters=32, strides=2, activation='relu'),\n",
    "      tf.keras.layers.Flatten(),\n",
    "      tf.keras.layers.Dense(10, activation='softmax')\n",
    "])\n",
    "\n",
    "model.summary()"
   ]
  },
  {
   "cell_type": "code",
   "execution_count": 17,
   "id": "a79b5484",
   "metadata": {},
   "outputs": [
    {
     "name": "stdout",
     "output_type": "stream",
     "text": [
      "Epoch 1/30\n",
      "422/422 [==============================] - 19s 43ms/step - loss: 0.3130 - accuracy: 0.9093 - val_loss: 0.0909 - val_accuracy: 0.9743\n",
      "Epoch 2/30\n",
      "422/422 [==============================] - 19s 46ms/step - loss: 0.0947 - accuracy: 0.9719 - val_loss: 0.0634 - val_accuracy: 0.9815\n",
      "Epoch 3/30\n",
      "422/422 [==============================] - 21s 50ms/step - loss: 0.0638 - accuracy: 0.9805 - val_loss: 0.0512 - val_accuracy: 0.9865\n",
      "Epoch 4/30\n",
      "422/422 [==============================] - 21s 50ms/step - loss: 0.0488 - accuracy: 0.9852 - val_loss: 0.0503 - val_accuracy: 0.9862\n",
      "Epoch 5/30\n",
      "422/422 [==============================] - 24s 58ms/step - loss: 0.0407 - accuracy: 0.9875 - val_loss: 0.0482 - val_accuracy: 0.9878\n",
      "Epoch 6/30\n",
      "422/422 [==============================] - 20s 48ms/step - loss: 0.0329 - accuracy: 0.9897 - val_loss: 0.0460 - val_accuracy: 0.9887\n",
      "Epoch 7/30\n",
      "422/422 [==============================] - 21s 49ms/step - loss: 0.0267 - accuracy: 0.9914 - val_loss: 0.0455 - val_accuracy: 0.9875\n",
      "Epoch 8/30\n",
      "422/422 [==============================] - 20s 48ms/step - loss: 0.0237 - accuracy: 0.9921 - val_loss: 0.0438 - val_accuracy: 0.9898\n",
      "Epoch 9/30\n",
      "422/422 [==============================] - 20s 47ms/step - loss: 0.0202 - accuracy: 0.9937 - val_loss: 0.0433 - val_accuracy: 0.9892\n",
      "Epoch 10/30\n",
      "422/422 [==============================] - 19s 45ms/step - loss: 0.0161 - accuracy: 0.9949 - val_loss: 0.0416 - val_accuracy: 0.9910\n",
      "Epoch 11/30\n",
      "422/422 [==============================] - 22s 52ms/step - loss: 0.0137 - accuracy: 0.9955 - val_loss: 0.0498 - val_accuracy: 0.9877\n",
      "Epoch 12/30\n",
      "422/422 [==============================] - 27s 65ms/step - loss: 0.0140 - accuracy: 0.9953 - val_loss: 0.0525 - val_accuracy: 0.9892\n",
      "Epoch 13/30\n",
      "422/422 [==============================] - 21s 49ms/step - loss: 0.0102 - accuracy: 0.9965 - val_loss: 0.0513 - val_accuracy: 0.9893\n",
      "Epoch 14/30\n",
      "422/422 [==============================] - 24s 56ms/step - loss: 0.0091 - accuracy: 0.9968 - val_loss: 0.0441 - val_accuracy: 0.9892\n",
      "Epoch 15/30\n",
      "422/422 [==============================] - 19s 46ms/step - loss: 0.0079 - accuracy: 0.9973 - val_loss: 0.0475 - val_accuracy: 0.9897\n",
      "Epoch 16/30\n",
      "422/422 [==============================] - 19s 44ms/step - loss: 0.0083 - accuracy: 0.9972 - val_loss: 0.0589 - val_accuracy: 0.9880\n",
      "Epoch 17/30\n",
      "422/422 [==============================] - 20s 47ms/step - loss: 0.0065 - accuracy: 0.9980 - val_loss: 0.0462 - val_accuracy: 0.9913\n",
      "Epoch 18/30\n",
      "422/422 [==============================] - 18s 43ms/step - loss: 0.0078 - accuracy: 0.9971 - val_loss: 0.0503 - val_accuracy: 0.9895\n",
      "Epoch 19/30\n",
      "422/422 [==============================] - 21s 50ms/step - loss: 0.0060 - accuracy: 0.9980 - val_loss: 0.0447 - val_accuracy: 0.9902\n",
      "Epoch 20/30\n",
      "422/422 [==============================] - 18s 43ms/step - loss: 0.0039 - accuracy: 0.9988 - val_loss: 0.0531 - val_accuracy: 0.9890\n",
      "Epoch 21/30\n",
      "422/422 [==============================] - 18s 43ms/step - loss: 0.0066 - accuracy: 0.9977 - val_loss: 0.0522 - val_accuracy: 0.9895\n",
      "Epoch 22/30\n",
      "422/422 [==============================] - 19s 45ms/step - loss: 0.0043 - accuracy: 0.9986 - val_loss: 0.0573 - val_accuracy: 0.9905\n",
      "Epoch 23/30\n",
      "422/422 [==============================] - 20s 47ms/step - loss: 0.0045 - accuracy: 0.9986 - val_loss: 0.0621 - val_accuracy: 0.9888\n",
      "Epoch 24/30\n",
      "422/422 [==============================] - 31s 73ms/step - loss: 0.0038 - accuracy: 0.9988 - val_loss: 0.0512 - val_accuracy: 0.9907\n",
      "Epoch 25/30\n",
      "422/422 [==============================] - 29s 69ms/step - loss: 0.0032 - accuracy: 0.9988 - val_loss: 0.0586 - val_accuracy: 0.9903\n",
      "Epoch 26/30\n",
      "422/422 [==============================] - 28s 67ms/step - loss: 0.0032 - accuracy: 0.9989 - val_loss: 0.0466 - val_accuracy: 0.9913\n",
      "Epoch 27/30\n",
      "422/422 [==============================] - 35s 82ms/step - loss: 0.0055 - accuracy: 0.9979 - val_loss: 0.0650 - val_accuracy: 0.9895\n",
      "Epoch 28/30\n",
      "422/422 [==============================] - 29s 68ms/step - loss: 0.0024 - accuracy: 0.9992 - val_loss: 0.0630 - val_accuracy: 0.9895\n",
      "Epoch 29/30\n",
      "422/422 [==============================] - 27s 64ms/step - loss: 0.0031 - accuracy: 0.9989 - val_loss: 0.0684 - val_accuracy: 0.9912\n",
      "Epoch 30/30\n",
      "422/422 [==============================] - 29s 70ms/step - loss: 0.0044 - accuracy: 0.9986 - val_loss: 0.0627 - val_accuracy: 0.9902\n"
     ]
    }
   ],
   "source": [
    "batch_size = 128\n",
    "epochs = 30\n",
    "\n",
    "model.compile(\n",
    "    loss=\"categorical_crossentropy\", \n",
    "    optimizer=\"adam\", \n",
    "    metrics=[\"accuracy\"])\n",
    "\n",
    "# Train the model\n",
    "history = model.fit(x_train, y_train, batch_size=batch_size, epochs=epochs, validation_split=0.1)"
   ]
  },
  {
   "cell_type": "code",
   "execution_count": 18,
   "id": "8e7b15d4",
   "metadata": {},
   "outputs": [
    {
     "name": "stdout",
     "output_type": "stream",
     "text": [
      "Test loss:  0.061271630227565765\n",
      "Test accuracy:  0.9887999892234802\n"
     ]
    }
   ],
   "source": [
    "# Evaluate the trained model\n",
    "score = model.evaluate(x_test, y_test, verbose=0)\n",
    "print(\"Test loss: \", score[0])\n",
    "print(\"Test accuracy: \", score[1])"
   ]
  },
  {
   "cell_type": "code",
   "execution_count": 19,
   "id": "af39dc9c",
   "metadata": {},
   "outputs": [
    {
     "data": {
      "image/png": "[encoded data removed]",
      "text/plain": [
       "<Figure size 432x288 with 1 Axes>"
      ]
     },
     "metadata": {
      "needs_background": "light"
     },
     "output_type": "display_data"
    }
   ],
   "source": [
    "# Summarize history for accuracy\n",
    "plt.plot(history.history['accuracy'])\n",
    "plt.plot(history.history['val_accuracy'])\n",
    "plt.title('model accuracy')\n",
    "plt.ylabel('accuracy')\n",
    "plt.xlabel('epoch')\n",
    "plt.legend(['train', 'test'], loc='upper left')\n",
    "plt.show()"
   ]
  },
  {
   "cell_type": "code",
   "execution_count": 21,
   "id": "f3576ac0",
   "metadata": {},
   "outputs": [
    {
     "data": {
      "image/png": "[encoded data removed]",
      "text/plain": [
       "<Figure size 432x288 with 1 Axes>"
      ]
     },
     "metadata": {
      "needs_background": "light"
     },
     "output_type": "display_data"
    }
   ],
   "source": [
    "# Summarize history for loss\n",
    "plt.plot(history.history['loss'])\n",
    "plt.plot(history.history['val_loss'])\n",
    "plt.title('model loss')\n",
    "plt.ylabel('loss')\n",
    "plt.xlabel('epoch')\n",
    "plt.legend(['train', 'test'], loc='upper left')\n",
    "plt.show()"
   ]
  },
  {
   "cell_type": "code",
   "execution_count": 22,
   "id": "ac195d29",
   "metadata": {},
   "outputs": [],
   "source": [
    "a_val_img = x_test[0]"
   ]
  },
  {
   "cell_type": "code",
   "execution_count": 23,
   "id": "254496e8",
   "metadata": {},
   "outputs": [
    {
     "data": {
      "text/plain": [
       "<matplotlib.image.AxesImage at 0x13b22ec10>"
      ]
     },
     "execution_count": 23,
     "metadata": {},
     "output_type": "execute_result"
    },
    {
     "data": {
      "image/png": "[encoded data removed]",
      "text/plain": [
       "<Figure size 432x288 with 1 Axes>"
      ]
     },
     "metadata": {
      "needs_background": "light"
     },
     "output_type": "display_data"
    }
   ],
   "source": [
    "plt.imshow(a_val_img)"
   ]
  },
  {
   "cell_type": "code",
   "execution_count": 24,
   "id": "64572c72",
   "metadata": {},
   "outputs": [
    {
     "data": {
      "text/plain": [
       "array([0., 0., 0., 0., 0., 0., 0., 1., 0., 0.], dtype=float32)"
      ]
     },
     "execution_count": 24,
     "metadata": {},
     "output_type": "execute_result"
    }
   ],
   "source": [
    "y_test[0]"
   ]
  },
  {
   "cell_type": "code",
   "execution_count": 26,
   "id": "9fff868b",
   "metadata": {},
   "outputs": [
    {
     "data": {
      "text/plain": [
       "(28, 28, 1)"
      ]
     },
     "execution_count": 26,
     "metadata": {},
     "output_type": "execute_result"
    }
   ],
   "source": [
    "np.shape(a_val_img)"
   ]
  },
  {
   "cell_type": "code",
   "execution_count": 29,
   "id": "859d9bd6",
   "metadata": {},
   "outputs": [
    {
     "data": {
      "text/plain": [
       "(1, 28, 28, 1)"
      ]
     },
     "execution_count": 29,
     "metadata": {},
     "output_type": "execute_result"
    }
   ],
   "source": [
    "np.shape(np.array([a_val_img,]))"
   ]
  },
  {
   "cell_type": "code",
   "execution_count": 30,
   "id": "6385a8c8",
   "metadata": {},
   "outputs": [
    {
     "data": {
      "text/plain": [
       "array([[4.61877126e-22, 7.95371153e-23, 3.13286029e-12, 7.03144279e-11,\n",
       "        1.22117514e-23, 3.56674697e-19, 2.99669257e-34, 1.00000000e+00,\n",
       "        2.74486082e-13, 7.34684022e-15]], dtype=float32)"
      ]
     },
     "execution_count": 30,
     "metadata": {},
     "output_type": "execute_result"
    }
   ],
   "source": [
    "model.predict(np.array([a_val_img]))"
   ]
  },
  {
   "cell_type": "code",
   "execution_count": null,
   "id": "9f117376",
   "metadata": {},
   "outputs": [],
   "source": []
  }
 ],
 "metadata": {
  "kernelspec": {
   "display_name": "Python 3 (ipykernel)",
   "language": "python",
   "name": "python3"
  },
  "language_info": {
   "codemirror_mode": {
    "name": "ipython",
    "version": 3
   },
   "file_extension": ".py",
   "mimetype": "text/x-python",
   "name": "python",
   "nbconvert_exporter": "python",
   "pygments_lexer": "ipython3",
   "version": "3.8.9"
  }
 },
 "nbformat": 4,
 "nbformat_minor": 5
}
