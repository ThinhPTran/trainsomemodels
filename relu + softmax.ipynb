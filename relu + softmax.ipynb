{
 "cells": [
  {
   "cell_type": "code",
   "execution_count": 15,
   "metadata": {},
   "outputs": [],
   "source": [
    "import numpy as np\n",
    "import tensorflow as tf\n",
    "from tensorflow import keras\n",
    "from tensorflow.keras import layers\n",
    "from matplotlib import pyplot as plt"
   ]
  },
  {
   "cell_type": "code",
   "execution_count": 16,
   "metadata": {},
   "outputs": [],
   "source": [
    "# Model / data parameters\n",
    "num_classes = 10\n",
    "input_shape = (28, 28, 1)\n",
    "\n",
    "# the data, split between train and test sets\n",
    "(x_train, y_train), (x_test, y_test) = keras.datasets.mnist.load_data()"
   ]
  },
  {
   "cell_type": "code",
   "execution_count": 17,
   "metadata": {},
   "outputs": [],
   "source": [
    "# Scale images to the [0, 1] range\n",
    "x_train = x_train.astype(\"float32\") / 255\n",
    "x_test = x_test.astype(\"float32\") / 255"
   ]
  },
  {
   "cell_type": "code",
   "execution_count": 21,
   "metadata": {},
   "outputs": [
    {
     "name": "stdout",
     "output_type": "stream",
     "text": [
      "x_train shape:  (60000, 784)\n",
      "60000 train samples\n",
      "10000 test samples\n"
     ]
    },
    {
     "data": {
      "text/plain": [
       "<matplotlib.image.AxesImage at 0x7fd7ba5abd90>"
      ]
     },
     "execution_count": 21,
     "metadata": {},
     "output_type": "execute_result"
    },
    {
     "data": {
      "image/png": "[encoded data removed]",
      "text/plain": [
       "<Figure size 432x288 with 1 Axes>"
      ]
     },
     "metadata": {
      "needs_background": "light"
     },
     "output_type": "display_data"
    }
   ],
   "source": [
    "# make suare images have shape (28, 28, 1)\n",
    "x_train = np.reshape(x_train, (60000, 784))\n",
    "x_test = np.reshape(x_test, (10000, 784))\n",
    "\n",
    "print(\"x_train shape: \", x_train.shape)\n",
    "print(x_train.shape[0], \"train samples\")\n",
    "print(x_test.shape[0], \"test samples\")\n",
    "\n",
    "a_train_img = x_train[0]\n",
    "a_train_img = np.reshape(a_train_img, (28, 28))\n",
    "plt.imshow(a_train_img)"
   ]
  },
  {
   "cell_type": "code",
   "execution_count": 22,
   "metadata": {},
   "outputs": [],
   "source": [
    "# Convert class vectors to binary class matrices\n",
    "y_train = keras.utils.to_categorical(y_train, num_classes)\n",
    "y_test = keras.utils.to_categorical(y_test, num_classes)"
   ]
  },
  {
   "cell_type": "code",
   "execution_count": 23,
   "metadata": {},
   "outputs": [
    {
     "name": "stdout",
     "output_type": "stream",
     "text": [
      "Model: \"sequential_1\"\n",
      "_________________________________________________________________\n",
      " Layer (type)                Output Shape              Param #   \n",
      "=================================================================\n",
      " dense_3 (Dense)             (None, 200)               157000    \n",
      "                                                                 \n",
      " dense_4 (Dense)             (None, 60)                12060     \n",
      "                                                                 \n",
      " dense_5 (Dense)             (None, 10)                610       \n",
      "                                                                 \n",
      "=================================================================\n",
      "Total params: 169,670\n",
      "Trainable params: 169,670\n",
      "Non-trainable params: 0\n",
      "_________________________________________________________________\n"
     ]
    }
   ],
   "source": [
    "# Build the model\n",
    "model = keras.Sequential(\n",
    "[\n",
    "      tf.keras.layers.Input(shape=(28*28,)),\n",
    "      tf.keras.layers.Dense(200, activation='relu'),\n",
    "      tf.keras.layers.Dense(60, activation='relu'),\n",
    "      tf.keras.layers.Dense(10, activation='softmax')\n",
    "])\n",
    "\n",
    "model.summary()"
   ]
  },
  {
   "cell_type": "code",
   "execution_count": 8,
   "metadata": {},
   "outputs": [
    {
     "name": "stderr",
     "output_type": "stream",
     "text": [
      "2022-01-25 12:58:27.269774: W tensorflow/core/framework/cpu_allocator_impl.cc:82] Allocation of 169344000 exceeds 10% of free system memory.\n"
     ]
    },
    {
     "name": "stdout",
     "output_type": "stream",
     "text": [
      "Epoch 1/30\n",
      "419/422 [============================>.] - ETA: 0s - loss: 0.3191 - accuracy: 0.9093"
     ]
    },
    {
     "name": "stderr",
     "output_type": "stream",
     "text": [
      "2022-01-25 12:58:31.552454: W tensorflow/core/framework/cpu_allocator_impl.cc:82] Allocation of 18816000 exceeds 10% of free system memory.\n"
     ]
    },
    {
     "name": "stdout",
     "output_type": "stream",
     "text": [
      "422/422 [==============================] - 4s 8ms/step - loss: 0.3182 - accuracy: 0.9096 - val_loss: 0.1251 - val_accuracy: 0.9665\n",
      "Epoch 2/30\n",
      "422/422 [==============================] - 3s 8ms/step - loss: 0.1274 - accuracy: 0.9620 - val_loss: 0.1006 - val_accuracy: 0.9740\n",
      "Epoch 3/30\n",
      "422/422 [==============================] - 3s 8ms/step - loss: 0.0880 - accuracy: 0.9736 - val_loss: 0.0908 - val_accuracy: 0.9760\n",
      "Epoch 4/30\n",
      "422/422 [==============================] - 3s 7ms/step - loss: 0.0619 - accuracy: 0.9819 - val_loss: 0.0738 - val_accuracy: 0.9792\n",
      "Epoch 5/30\n",
      "422/422 [==============================] - 3s 8ms/step - loss: 0.0482 - accuracy: 0.9854 - val_loss: 0.0767 - val_accuracy: 0.9805\n",
      "Epoch 6/30\n",
      "422/422 [==============================] - 4s 9ms/step - loss: 0.0369 - accuracy: 0.9885 - val_loss: 0.0767 - val_accuracy: 0.9795\n",
      "Epoch 7/30\n",
      "422/422 [==============================] - 3s 8ms/step - loss: 0.0297 - accuracy: 0.9911 - val_loss: 0.0671 - val_accuracy: 0.9817\n",
      "Epoch 8/30\n",
      "422/422 [==============================] - 3s 7ms/step - loss: 0.0223 - accuracy: 0.9932 - val_loss: 0.0791 - val_accuracy: 0.9792\n",
      "Epoch 9/30\n",
      "422/422 [==============================] - 3s 8ms/step - loss: 0.0191 - accuracy: 0.9942 - val_loss: 0.0885 - val_accuracy: 0.9783\n",
      "Epoch 10/30\n",
      "422/422 [==============================] - 3s 7ms/step - loss: 0.0155 - accuracy: 0.9953 - val_loss: 0.0897 - val_accuracy: 0.9810\n",
      "Epoch 11/30\n",
      "422/422 [==============================] - 3s 8ms/step - loss: 0.0119 - accuracy: 0.9967 - val_loss: 0.0850 - val_accuracy: 0.9807\n",
      "Epoch 12/30\n",
      "422/422 [==============================] - 4s 9ms/step - loss: 0.0115 - accuracy: 0.9964 - val_loss: 0.1227 - val_accuracy: 0.9715\n",
      "Epoch 13/30\n",
      "422/422 [==============================] - 3s 7ms/step - loss: 0.0128 - accuracy: 0.9960 - val_loss: 0.1086 - val_accuracy: 0.9765\n",
      "Epoch 14/30\n",
      "422/422 [==============================] - 3s 8ms/step - loss: 0.0096 - accuracy: 0.9970 - val_loss: 0.0901 - val_accuracy: 0.9812\n",
      "Epoch 15/30\n",
      "422/422 [==============================] - 3s 7ms/step - loss: 0.0073 - accuracy: 0.9977 - val_loss: 0.0931 - val_accuracy: 0.9792\n",
      "Epoch 16/30\n",
      "422/422 [==============================] - 3s 7ms/step - loss: 0.0093 - accuracy: 0.9970 - val_loss: 0.0971 - val_accuracy: 0.9823\n",
      "Epoch 17/30\n",
      "422/422 [==============================] - 3s 7ms/step - loss: 0.0056 - accuracy: 0.9982 - val_loss: 0.1012 - val_accuracy: 0.9790\n",
      "Epoch 18/30\n",
      "422/422 [==============================] - 3s 7ms/step - loss: 0.0052 - accuracy: 0.9985 - val_loss: 0.0946 - val_accuracy: 0.9822\n",
      "Epoch 19/30\n",
      "422/422 [==============================] - 4s 10ms/step - loss: 0.0065 - accuracy: 0.9978 - val_loss: 0.0996 - val_accuracy: 0.9803\n",
      "Epoch 20/30\n",
      "422/422 [==============================] - 4s 9ms/step - loss: 0.0106 - accuracy: 0.9963 - val_loss: 0.1083 - val_accuracy: 0.9782\n",
      "Epoch 21/30\n",
      "422/422 [==============================] - 4s 9ms/step - loss: 0.0047 - accuracy: 0.9986 - val_loss: 0.1004 - val_accuracy: 0.9820\n",
      "Epoch 22/30\n",
      "422/422 [==============================] - 5s 11ms/step - loss: 0.0055 - accuracy: 0.9982 - val_loss: 0.1036 - val_accuracy: 0.9823\n",
      "Epoch 23/30\n",
      "422/422 [==============================] - 3s 8ms/step - loss: 0.0065 - accuracy: 0.9981 - val_loss: 0.1091 - val_accuracy: 0.9795\n",
      "Epoch 24/30\n",
      "422/422 [==============================] - 3s 8ms/step - loss: 0.0072 - accuracy: 0.9976 - val_loss: 0.1050 - val_accuracy: 0.9813\n",
      "Epoch 25/30\n",
      "422/422 [==============================] - 3s 8ms/step - loss: 0.0054 - accuracy: 0.9983 - val_loss: 0.1073 - val_accuracy: 0.9803\n",
      "Epoch 26/30\n",
      "422/422 [==============================] - 4s 9ms/step - loss: 0.0057 - accuracy: 0.9982 - val_loss: 0.1106 - val_accuracy: 0.9813\n",
      "Epoch 27/30\n",
      "422/422 [==============================] - 4s 9ms/step - loss: 0.0035 - accuracy: 0.9989 - val_loss: 0.1167 - val_accuracy: 0.9808\n",
      "Epoch 28/30\n",
      "422/422 [==============================] - 3s 8ms/step - loss: 0.0049 - accuracy: 0.9983 - val_loss: 0.1120 - val_accuracy: 0.9842\n",
      "Epoch 29/30\n",
      "422/422 [==============================] - 4s 9ms/step - loss: 0.0057 - accuracy: 0.9983 - val_loss: 0.1238 - val_accuracy: 0.9825\n",
      "Epoch 30/30\n",
      "422/422 [==============================] - 4s 9ms/step - loss: 0.0044 - accuracy: 0.9986 - val_loss: 0.1072 - val_accuracy: 0.9842\n"
     ]
    }
   ],
   "source": [
    "batch_size = 128\n",
    "epochs = 30\n",
    "\n",
    "model.compile(\n",
    "    loss=\"categorical_crossentropy\", \n",
    "    optimizer=\"adam\", \n",
    "    metrics=[\"accuracy\"])\n",
    "\n",
    "# Train the model\n",
    "history = model.fit(x_train, y_train, batch_size=batch_size, epochs=epochs, validation_split=0.1)"
   ]
  },
  {
   "cell_type": "code",
   "execution_count": 9,
   "metadata": {},
   "outputs": [
    {
     "name": "stderr",
     "output_type": "stream",
     "text": [
      "2022-01-25 13:00:50.258503: W tensorflow/core/framework/cpu_allocator_impl.cc:82] Allocation of 31360000 exceeds 10% of free system memory.\n"
     ]
    },
    {
     "name": "stdout",
     "output_type": "stream",
     "text": [
      "Test loss:  0.10151328146457672\n",
      "Test accuracy:  0.9817000031471252\n"
     ]
    }
   ],
   "source": [
    "# Evaluate the trained model\n",
    "score = model.evaluate(x_test, y_test, verbose=0)\n",
    "print(\"Test loss: \", score[0])\n",
    "print(\"Test accuracy: \", score[1])"
   ]
  },
  {
   "cell_type": "code",
   "execution_count": 10,
   "metadata": {},
   "outputs": [
    {
     "data": {
      "image/png": "[encoded data removed]",
      "text/plain": [
       "<Figure size 432x288 with 1 Axes>"
      ]
     },
     "metadata": {
      "needs_background": "light"
     },
     "output_type": "display_data"
    }
   ],
   "source": [
    "# Summarize history for accuracy\n",
    "plt.plot(history.history['accuracy'])\n",
    "plt.plot(history.history['val_accuracy'])\n",
    "plt.title('model accuracy')\n",
    "plt.ylabel('accuracy')\n",
    "plt.xlabel('epoch')\n",
    "plt.legend(['train', 'test'], loc='upper left')\n",
    "plt.show()"
   ]
  },
  {
   "cell_type": "code",
   "execution_count": 11,
   "metadata": {},
   "outputs": [
    {
     "data": {
      "image/png": "[encoded data removed]",
      "text/plain": [
       "<Figure size 432x288 with 1 Axes>"
      ]
     },
     "metadata": {
      "needs_background": "light"
     },
     "output_type": "display_data"
    }
   ],
   "source": [
    "# Summarize history for loss\n",
    "plt.plot(history.history['loss'])\n",
    "plt.plot(history.history['val_loss'])\n",
    "plt.title('model loss')\n",
    "plt.ylabel('loss')\n",
    "plt.xlabel('epoch')\n",
    "plt.legend(['train', 'test'], loc='upper left')\n",
    "plt.show()"
   ]
  },
  {
   "cell_type": "code",
   "execution_count": 12,
   "metadata": {},
   "outputs": [],
   "source": [
    "# save the model to file\n",
    "model.save('./Data/relu_softmax_model.h5')"
   ]
  },
  {
   "cell_type": "code",
   "execution_count": null,
   "metadata": {},
   "outputs": [],
   "source": []
  }
 ],
 "metadata": {
  "kernelspec": {
   "display_name": "Python 3 (ipykernel)",
   "language": "python",
   "name": "python3"
  },
  "language_info": {
   "codemirror_mode": {
    "name": "ipython",
    "version": 3
   },
   "file_extension": ".py",
   "mimetype": "text/x-python",
   "name": "python",
   "nbconvert_exporter": "python",
   "pygments_lexer": "ipython3",
   "version": "3.8.10"
  }
 },
 "nbformat": 4,
 "nbformat_minor": 5
}
