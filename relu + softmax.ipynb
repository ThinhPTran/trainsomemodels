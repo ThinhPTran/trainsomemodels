{
 "cells": [
  {
   "cell_type": "code",
   "execution_count": 25,
   "id": "3342a745",
   "metadata": {},
   "outputs": [],
   "source": [
    "import numpy as np\n",
    "import tensorflow as tf\n",
    "from tensorflow import keras\n",
    "from tensorflow.keras import layers\n",
    "from matplotlib import pyplot as plt"
   ]
  },
  {
   "cell_type": "code",
   "execution_count": 26,
   "id": "f0be676c",
   "metadata": {},
   "outputs": [],
   "source": [
    "# Model / data parameters\n",
    "num_classes = 10\n",
    "input_shape = (28, 28, 1)\n",
    "\n",
    "# the data, split between train and test sets\n",
    "(x_train, y_train), (x_test, y_test) = keras.datasets.mnist.load_data()"
   ]
  },
  {
   "cell_type": "code",
   "execution_count": 27,
   "id": "5edb767f",
   "metadata": {},
   "outputs": [],
   "source": [
    "# Scale images to the [0, 1] range\n",
    "x_train = x_train.astype(\"float32\") / 255\n",
    "x_test = x_test.astype(\"float32\") / 255"
   ]
  },
  {
   "cell_type": "code",
   "execution_count": 28,
   "id": "1745cf81",
   "metadata": {},
   "outputs": [
    {
     "name": "stdout",
     "output_type": "stream",
     "text": [
      "x_train shape:  (60000, 784)\n",
      "60000 train samples\n",
      "10000 test samples\n"
     ]
    },
    {
     "data": {
      "text/plain": [
       "<matplotlib.image.AxesImage at 0x7fd7ba588e20>"
      ]
     },
     "execution_count": 28,
     "metadata": {},
     "output_type": "execute_result"
    },
    {
     "data": {
      "image/png": "[encoded data removed]",
      "text/plain": [
       "<Figure size 432x288 with 1 Axes>"
      ]
     },
     "metadata": {
      "needs_background": "light"
     },
     "output_type": "display_data"
    }
   ],
   "source": [
    "# make suare images have shape (28, 28, 1)\n",
    "x_train = np.reshape(x_train, (60000, 784))\n",
    "x_test = np.reshape(x_test, (10000, 784))\n",
    "\n",
    "print(\"x_train shape: \", x_train.shape)\n",
    "print(x_train.shape[0], \"train samples\")\n",
    "print(x_test.shape[0], \"test samples\")\n",
    "\n",
    "a_train_img = x_train[0]\n",
    "a_train_img = np.reshape(a_train_img, (28, 28))\n",
    "plt.imshow(a_train_img)"
   ]
  },
  {
   "cell_type": "code",
   "execution_count": 29,
   "id": "6b0bd419",
   "metadata": {},
   "outputs": [],
   "source": [
    "# Convert class vectors to binary class matrices\n",
    "y_train = keras.utils.to_categorical(y_train, num_classes)\n",
    "y_test = keras.utils.to_categorical(y_test, num_classes)"
   ]
  },
  {
   "cell_type": "code",
   "execution_count": 30,
   "id": "262e4876",
   "metadata": {},
   "outputs": [
    {
     "name": "stdout",
     "output_type": "stream",
     "text": [
      "Model: \"sequential_2\"\n",
      "_________________________________________________________________\n",
      " Layer (type)                Output Shape              Param #   \n",
      "=================================================================\n",
      " dense_6 (Dense)             (None, 200)               157000    \n",
      "                                                                 \n",
      " dense_7 (Dense)             (None, 60)                12060     \n",
      "                                                                 \n",
      " dense_8 (Dense)             (None, 10)                610       \n",
      "                                                                 \n",
      "=================================================================\n",
      "Total params: 169,670\n",
      "Trainable params: 169,670\n",
      "Non-trainable params: 0\n",
      "_________________________________________________________________\n"
     ]
    }
   ],
   "source": [
    "# Build the model\n",
    "model = keras.Sequential(\n",
    "[\n",
    "      tf.keras.layers.Input(shape=(28*28,)),\n",
    "      tf.keras.layers.Dense(200, activation='relu'),\n",
    "      tf.keras.layers.Dense(60, activation='relu'),\n",
    "      tf.keras.layers.Dense(10, activation='softmax')\n",
    "])\n",
    "\n",
    "model.summary()"
   ]
  },
  {
   "cell_type": "code",
   "execution_count": 31,
   "id": "7a546862",
   "metadata": {},
   "outputs": [
    {
     "name": "stderr",
     "output_type": "stream",
     "text": [
      "2022-01-25 15:53:01.729362: W tensorflow/core/framework/cpu_allocator_impl.cc:82] Allocation of 169344000 exceeds 10% of free system memory.\n"
     ]
    },
    {
     "name": "stdout",
     "output_type": "stream",
     "text": [
      "Epoch 1/30\n",
      "421/422 [============================>.] - ETA: 0s - loss: 0.3308 - accuracy: 0.9065"
     ]
    },
    {
     "name": "stderr",
     "output_type": "stream",
     "text": [
      "2022-01-25 15:53:05.612401: W tensorflow/core/framework/cpu_allocator_impl.cc:82] Allocation of 18816000 exceeds 10% of free system memory.\n"
     ]
    },
    {
     "name": "stdout",
     "output_type": "stream",
     "text": [
      "422/422 [==============================] - 4s 8ms/step - loss: 0.3304 - accuracy: 0.9066 - val_loss: 0.1317 - val_accuracy: 0.9632\n",
      "Epoch 2/30\n",
      "422/422 [==============================] - 3s 8ms/step - loss: 0.1306 - accuracy: 0.9610 - val_loss: 0.0935 - val_accuracy: 0.9715\n",
      "Epoch 3/30\n",
      "422/422 [==============================] - 3s 8ms/step - loss: 0.0875 - accuracy: 0.9737 - val_loss: 0.0841 - val_accuracy: 0.9755\n",
      "Epoch 4/30\n",
      "422/422 [==============================] - 3s 8ms/step - loss: 0.0626 - accuracy: 0.9811 - val_loss: 0.0813 - val_accuracy: 0.9763\n",
      "Epoch 5/30\n",
      "422/422 [==============================] - 4s 8ms/step - loss: 0.0481 - accuracy: 0.9853 - val_loss: 0.0802 - val_accuracy: 0.9782\n",
      "Epoch 6/30\n",
      "422/422 [==============================] - 3s 7ms/step - loss: 0.0373 - accuracy: 0.9889 - val_loss: 0.0814 - val_accuracy: 0.9782\n",
      "Epoch 7/30\n",
      "422/422 [==============================] - 3s 7ms/step - loss: 0.0296 - accuracy: 0.9911 - val_loss: 0.0904 - val_accuracy: 0.9765\n",
      "Epoch 8/30\n",
      "422/422 [==============================] - 3s 8ms/step - loss: 0.0241 - accuracy: 0.9926 - val_loss: 0.0799 - val_accuracy: 0.9777\n",
      "Epoch 9/30\n",
      "422/422 [==============================] - 3s 8ms/step - loss: 0.0191 - accuracy: 0.9944 - val_loss: 0.0796 - val_accuracy: 0.9800\n",
      "Epoch 10/30\n",
      "422/422 [==============================] - 3s 8ms/step - loss: 0.0143 - accuracy: 0.9960 - val_loss: 0.0842 - val_accuracy: 0.9785\n",
      "Epoch 11/30\n",
      "422/422 [==============================] - 3s 8ms/step - loss: 0.0152 - accuracy: 0.9954 - val_loss: 0.1044 - val_accuracy: 0.9747\n",
      "Epoch 12/30\n",
      "422/422 [==============================] - 3s 8ms/step - loss: 0.0111 - accuracy: 0.9965 - val_loss: 0.0809 - val_accuracy: 0.9803\n",
      "Epoch 13/30\n",
      "422/422 [==============================] - 3s 8ms/step - loss: 0.0108 - accuracy: 0.9964 - val_loss: 0.0893 - val_accuracy: 0.9807\n",
      "Epoch 14/30\n",
      "422/422 [==============================] - 3s 8ms/step - loss: 0.0072 - accuracy: 0.9979 - val_loss: 0.0869 - val_accuracy: 0.9813\n",
      "Epoch 15/30\n",
      "422/422 [==============================] - 4s 9ms/step - loss: 0.0074 - accuracy: 0.9977 - val_loss: 0.0938 - val_accuracy: 0.9810\n",
      "Epoch 16/30\n",
      "422/422 [==============================] - 3s 8ms/step - loss: 0.0103 - accuracy: 0.9966 - val_loss: 0.0941 - val_accuracy: 0.9820\n",
      "Epoch 17/30\n",
      "422/422 [==============================] - 3s 8ms/step - loss: 0.0071 - accuracy: 0.9979 - val_loss: 0.0919 - val_accuracy: 0.9817\n",
      "Epoch 18/30\n",
      "422/422 [==============================] - 3s 8ms/step - loss: 0.0062 - accuracy: 0.9980 - val_loss: 0.0882 - val_accuracy: 0.9820\n",
      "Epoch 19/30\n",
      "422/422 [==============================] - 3s 7ms/step - loss: 0.0091 - accuracy: 0.9971 - val_loss: 0.1173 - val_accuracy: 0.9788\n",
      "Epoch 20/30\n",
      "422/422 [==============================] - 3s 7ms/step - loss: 0.0087 - accuracy: 0.9973 - val_loss: 0.1032 - val_accuracy: 0.9815\n",
      "Epoch 21/30\n",
      "422/422 [==============================] - 3s 7ms/step - loss: 0.0063 - accuracy: 0.9979 - val_loss: 0.0969 - val_accuracy: 0.9808\n",
      "Epoch 22/30\n",
      "422/422 [==============================] - 4s 8ms/step - loss: 0.0044 - accuracy: 0.9986 - val_loss: 0.1042 - val_accuracy: 0.9822\n",
      "Epoch 23/30\n",
      "422/422 [==============================] - 3s 8ms/step - loss: 0.0037 - accuracy: 0.9990 - val_loss: 0.1061 - val_accuracy: 0.9818\n",
      "Epoch 24/30\n",
      "422/422 [==============================] - 3s 8ms/step - loss: 0.0059 - accuracy: 0.9980 - val_loss: 0.1206 - val_accuracy: 0.9788\n",
      "Epoch 25/30\n",
      "422/422 [==============================] - 3s 8ms/step - loss: 0.0054 - accuracy: 0.9980 - val_loss: 0.1163 - val_accuracy: 0.9805\n",
      "Epoch 26/30\n",
      "422/422 [==============================] - 3s 8ms/step - loss: 0.0046 - accuracy: 0.9985 - val_loss: 0.1118 - val_accuracy: 0.9812\n",
      "Epoch 27/30\n",
      "422/422 [==============================] - 3s 7ms/step - loss: 0.0086 - accuracy: 0.9969 - val_loss: 0.1260 - val_accuracy: 0.9787\n",
      "Epoch 28/30\n",
      "422/422 [==============================] - 3s 8ms/step - loss: 0.0065 - accuracy: 0.9979 - val_loss: 0.1205 - val_accuracy: 0.9818\n",
      "Epoch 29/30\n",
      "422/422 [==============================] - 3s 7ms/step - loss: 0.0020 - accuracy: 0.9994 - val_loss: 0.1262 - val_accuracy: 0.9812\n",
      "Epoch 30/30\n",
      "422/422 [==============================] - 4s 8ms/step - loss: 0.0020 - accuracy: 0.9995 - val_loss: 0.1177 - val_accuracy: 0.9827\n"
     ]
    }
   ],
   "source": [
    "batch_size = 128\n",
    "epochs = 30\n",
    "\n",
    "model.compile(\n",
    "    loss=\"categorical_crossentropy\", \n",
    "    optimizer=\"adam\", \n",
    "    metrics=[\"accuracy\"])\n",
    "\n",
    "# Train the model\n",
    "history = model.fit(x_train, y_train, batch_size=batch_size, epochs=epochs, validation_split=0.1)"
   ]
  },
  {
   "cell_type": "code",
   "execution_count": 32,
   "id": "31718432",
   "metadata": {},
   "outputs": [
    {
     "name": "stdout",
     "output_type": "stream",
     "text": [
      "Test loss:  0.11519116163253784\n",
      "Test accuracy:  0.9800999760627747\n"
     ]
    }
   ],
   "source": [
    "# Evaluate the trained model\n",
    "score = model.evaluate(x_test, y_test, verbose=0)\n",
    "print(\"Test loss: \", score[0])\n",
    "print(\"Test accuracy: \", score[1])"
   ]
  },
  {
   "cell_type": "code",
   "execution_count": 33,
   "id": "65b688f9",
   "metadata": {},
   "outputs": [
    {
     "data": {
      "image/png": "[encoded data removed]",
      "text/plain": [
       "<Figure size 432x288 with 1 Axes>"
      ]
     },
     "metadata": {
      "needs_background": "light"
     },
     "output_type": "display_data"
    }
   ],
   "source": [
    "# Summarize history for accuracy\n",
    "plt.plot(history.history['accuracy'])\n",
    "plt.plot(history.history['val_accuracy'])\n",
    "plt.title('model accuracy')\n",
    "plt.ylabel('accuracy')\n",
    "plt.xlabel('epoch')\n",
    "plt.legend(['train', 'test'], loc='upper left')\n",
    "plt.show()"
   ]
  },
  {
   "cell_type": "code",
   "execution_count": 34,
   "id": "abe1e444",
   "metadata": {},
   "outputs": [
    {
     "data": {
      "image/png": "[encoded data removed]",
      "text/plain": [
       "<Figure size 432x288 with 1 Axes>"
      ]
     },
     "metadata": {
      "needs_background": "light"
     },
     "output_type": "display_data"
    }
   ],
   "source": [
    "# Summarize history for loss\n",
    "plt.plot(history.history['loss'])\n",
    "plt.plot(history.history['val_loss'])\n",
    "plt.title('model loss')\n",
    "plt.ylabel('loss')\n",
    "plt.xlabel('epoch')\n",
    "plt.legend(['train', 'test'], loc='upper left')\n",
    "plt.show()"
   ]
  },
  {
   "cell_type": "code",
   "execution_count": 35,
   "id": "ea086d64",
   "metadata": {},
   "outputs": [],
   "source": [
    "# save the model to file\n",
    "model.save('./Data/relu_softmax_model.h5')"
   ]
  },
  {
   "cell_type": "code",
   "execution_count": null,
   "id": "b6a8330e",
   "metadata": {},
   "outputs": [],
   "source": []
  }
 ],
 "metadata": {
  "kernelspec": {
   "display_name": "Python 3 (ipykernel)",
   "language": "python",
   "name": "python3"
  },
  "language_info": {
   "codemirror_mode": {
    "name": "ipython",
    "version": 3
   },
   "file_extension": ".py",
   "mimetype": "text/x-python",
   "name": "python",
   "nbconvert_exporter": "python",
   "pygments_lexer": "ipython3",
   "version": "3.8.9"
  }
 },
 "nbformat": 4,
 "nbformat_minor": 5
}
