{
 "cells": [
  {
   "cell_type": "code",
   "execution_count": 1,
   "id": "f07def9c",
   "metadata": {},
   "outputs": [],
   "source": [
    "import numpy as np\n",
    "import tensorflow as tf\n",
    "from tensorflow import keras\n",
    "from tensorflow.keras import layers\n",
    "from matplotlib import pyplot as plt"
   ]
  },
  {
   "cell_type": "code",
   "execution_count": 2,
   "id": "7ed4917d",
   "metadata": {},
   "outputs": [],
   "source": [
    "# Model / data parameters\n",
    "num_classes = 10\n",
    "input_shape = (28, 28, 1)\n",
    "\n",
    "# the data, split between train and test sets\n",
    "(x_train, y_train), (x_test, y_test) = keras.datasets.mnist.load_data()"
   ]
  },
  {
   "cell_type": "code",
   "execution_count": 3,
   "id": "9cb2b3af",
   "metadata": {},
   "outputs": [],
   "source": [
    "# Scale images to the [0, 1] range\n",
    "x_train = x_train.astype(\"float32\") / 255\n",
    "x_test = x_test.astype(\"float32\") / 255"
   ]
  },
  {
   "cell_type": "code",
   "execution_count": 4,
   "id": "3ae7f86c",
   "metadata": {},
   "outputs": [
    {
     "name": "stdout",
     "output_type": "stream",
     "text": [
      "x_train shape:  (60000, 784)\n",
      "60000 train samples\n",
      "10000 test samples\n"
     ]
    },
    {
     "data": {
      "text/plain": [
       "<matplotlib.image.AxesImage at 0x13cde8f10>"
      ]
     },
     "execution_count": 4,
     "metadata": {},
     "output_type": "execute_result"
    },
    {
     "data": {
      "image/png": "[encoded data removed]",
      "text/plain": [
       "<Figure size 432x288 with 1 Axes>"
      ]
     },
     "metadata": {
      "needs_background": "light"
     },
     "output_type": "display_data"
    }
   ],
   "source": [
    "# make suare images have shape (28, 28, 1)\n",
    "x_train = np.reshape(x_train, (60000, 784))\n",
    "x_test = np.reshape(x_test, (10000, 784))\n",
    "\n",
    "print(\"x_train shape: \", x_train.shape)\n",
    "print(x_train.shape[0], \"train samples\")\n",
    "print(x_test.shape[0], \"test samples\")\n",
    "\n",
    "a_train_img = x_train[0]\n",
    "a_train_img = np.reshape(a_train_img, (28, 28))\n",
    "plt.imshow(a_train_img)"
   ]
  },
  {
   "cell_type": "code",
   "execution_count": 5,
   "id": "addcd4e8",
   "metadata": {},
   "outputs": [],
   "source": [
    "# Convert class vectors to binary class matrices\n",
    "y_train = keras.utils.to_categorical(y_train, num_classes)\n",
    "y_test = keras.utils.to_categorical(y_test, num_classes)"
   ]
  },
  {
   "cell_type": "code",
   "execution_count": 7,
   "id": "89f5267c",
   "metadata": {},
   "outputs": [
    {
     "name": "stdout",
     "output_type": "stream",
     "text": [
      "Model: \"sequential_1\"\n",
      "_________________________________________________________________\n",
      " Layer (type)                Output Shape              Param #   \n",
      "=================================================================\n",
      " dense_3 (Dense)             (None, 200)               157000    \n",
      "                                                                 \n",
      " dense_4 (Dense)             (None, 60)                12060     \n",
      "                                                                 \n",
      " dense_5 (Dense)             (None, 10)                610       \n",
      "                                                                 \n",
      "=================================================================\n",
      "Total params: 169,670\n",
      "Trainable params: 169,670\n",
      "Non-trainable params: 0\n",
      "_________________________________________________________________\n"
     ]
    }
   ],
   "source": [
    "# Build the model\n",
    "model = keras.Sequential(\n",
    "[\n",
    "      tf.keras.layers.Input(shape=(28*28,)),\n",
    "      tf.keras.layers.Dense(200, activation='relu'),\n",
    "      tf.keras.layers.Dense(60, activation='relu'),\n",
    "      tf.keras.layers.Dense(10, activation='softmax')\n",
    "])\n",
    "\n",
    "model.summary()"
   ]
  },
  {
   "cell_type": "code",
   "execution_count": 8,
   "id": "a79b5484",
   "metadata": {},
   "outputs": [
    {
     "name": "stdout",
     "output_type": "stream",
     "text": [
      "Epoch 1/30\n",
      "422/422 [==============================] - 2s 4ms/step - loss: 0.3182 - accuracy: 0.9101 - val_loss: 0.1341 - val_accuracy: 0.9635\n",
      "Epoch 2/30\n",
      "422/422 [==============================] - 1s 3ms/step - loss: 0.1220 - accuracy: 0.9637 - val_loss: 0.1030 - val_accuracy: 0.9685\n",
      "Epoch 3/30\n",
      "422/422 [==============================] - 2s 4ms/step - loss: 0.0831 - accuracy: 0.9753 - val_loss: 0.0788 - val_accuracy: 0.9763\n",
      "Epoch 4/30\n",
      "422/422 [==============================] - 1s 3ms/step - loss: 0.0618 - accuracy: 0.9816 - val_loss: 0.0796 - val_accuracy: 0.9757\n",
      "Epoch 5/30\n",
      "422/422 [==============================] - 1s 3ms/step - loss: 0.0468 - accuracy: 0.9861 - val_loss: 0.0728 - val_accuracy: 0.9797\n",
      "Epoch 6/30\n",
      "422/422 [==============================] - 1s 3ms/step - loss: 0.0368 - accuracy: 0.9889 - val_loss: 0.0747 - val_accuracy: 0.9785\n",
      "Epoch 7/30\n",
      "422/422 [==============================] - 1s 3ms/step - loss: 0.0270 - accuracy: 0.9921 - val_loss: 0.0761 - val_accuracy: 0.9787\n",
      "Epoch 8/30\n",
      "422/422 [==============================] - 2s 4ms/step - loss: 0.0231 - accuracy: 0.9931 - val_loss: 0.0793 - val_accuracy: 0.9798\n",
      "Epoch 9/30\n",
      "422/422 [==============================] - 1s 3ms/step - loss: 0.0194 - accuracy: 0.9943 - val_loss: 0.0863 - val_accuracy: 0.9768\n",
      "Epoch 10/30\n",
      "422/422 [==============================] - 1s 3ms/step - loss: 0.0150 - accuracy: 0.9954 - val_loss: 0.0881 - val_accuracy: 0.9785\n",
      "Epoch 11/30\n",
      "422/422 [==============================] - 1s 4ms/step - loss: 0.0147 - accuracy: 0.9952 - val_loss: 0.0789 - val_accuracy: 0.9810\n",
      "Epoch 12/30\n",
      "422/422 [==============================] - 1s 3ms/step - loss: 0.0093 - accuracy: 0.9973 - val_loss: 0.0802 - val_accuracy: 0.9812\n",
      "Epoch 13/30\n",
      "422/422 [==============================] - 1s 3ms/step - loss: 0.0090 - accuracy: 0.9973 - val_loss: 0.0918 - val_accuracy: 0.9790\n",
      "Epoch 14/30\n",
      "422/422 [==============================] - 1s 3ms/step - loss: 0.0101 - accuracy: 0.9967 - val_loss: 0.0994 - val_accuracy: 0.9793\n",
      "Epoch 15/30\n",
      "422/422 [==============================] - 1s 3ms/step - loss: 0.0099 - accuracy: 0.9967 - val_loss: 0.1075 - val_accuracy: 0.9757\n",
      "Epoch 16/30\n",
      "422/422 [==============================] - 2s 4ms/step - loss: 0.0116 - accuracy: 0.9960 - val_loss: 0.0989 - val_accuracy: 0.9800\n",
      "Epoch 17/30\n",
      "422/422 [==============================] - 1s 3ms/step - loss: 0.0094 - accuracy: 0.9969 - val_loss: 0.1301 - val_accuracy: 0.9738\n",
      "Epoch 18/30\n",
      "422/422 [==============================] - 1s 3ms/step - loss: 0.0056 - accuracy: 0.9983 - val_loss: 0.0962 - val_accuracy: 0.9803\n",
      "Epoch 19/30\n",
      "422/422 [==============================] - 1s 3ms/step - loss: 0.0027 - accuracy: 0.9992 - val_loss: 0.0991 - val_accuracy: 0.9822\n",
      "Epoch 20/30\n",
      "422/422 [==============================] - 2s 4ms/step - loss: 0.0065 - accuracy: 0.9979 - val_loss: 0.1040 - val_accuracy: 0.9808\n",
      "Epoch 21/30\n",
      "422/422 [==============================] - 2s 4ms/step - loss: 0.0094 - accuracy: 0.9969 - val_loss: 0.0971 - val_accuracy: 0.9817\n",
      "Epoch 22/30\n",
      "422/422 [==============================] - 2s 4ms/step - loss: 0.0074 - accuracy: 0.9975 - val_loss: 0.1099 - val_accuracy: 0.9790\n",
      "Epoch 23/30\n",
      "422/422 [==============================] - 2s 4ms/step - loss: 0.0044 - accuracy: 0.9987 - val_loss: 0.1178 - val_accuracy: 0.9790\n",
      "Epoch 24/30\n",
      "422/422 [==============================] - 1s 3ms/step - loss: 0.0059 - accuracy: 0.9979 - val_loss: 0.1236 - val_accuracy: 0.9783\n",
      "Epoch 25/30\n",
      "422/422 [==============================] - 2s 4ms/step - loss: 0.0079 - accuracy: 0.9975 - val_loss: 0.1047 - val_accuracy: 0.9817\n",
      "Epoch 26/30\n",
      "422/422 [==============================] - 2s 4ms/step - loss: 0.0051 - accuracy: 0.9983 - val_loss: 0.1030 - val_accuracy: 0.9818\n",
      "Epoch 27/30\n",
      "422/422 [==============================] - 1s 4ms/step - loss: 0.0021 - accuracy: 0.9994 - val_loss: 0.1119 - val_accuracy: 0.9825\n",
      "Epoch 28/30\n",
      "422/422 [==============================] - 1s 3ms/step - loss: 0.0082 - accuracy: 0.9970 - val_loss: 0.1191 - val_accuracy: 0.9808\n",
      "Epoch 29/30\n",
      "422/422 [==============================] - 1s 4ms/step - loss: 0.0078 - accuracy: 0.9975 - val_loss: 0.1059 - val_accuracy: 0.9817\n",
      "Epoch 30/30\n",
      "422/422 [==============================] - 1s 3ms/step - loss: 0.0035 - accuracy: 0.9989 - val_loss: 0.1102 - val_accuracy: 0.9818\n"
     ]
    }
   ],
   "source": [
    "batch_size = 128\n",
    "epochs = 30\n",
    "\n",
    "model.compile(\n",
    "    loss=\"categorical_crossentropy\", \n",
    "    optimizer=\"adam\", \n",
    "    metrics=[\"accuracy\"])\n",
    "\n",
    "# Train the model\n",
    "history = model.fit(x_train, y_train, batch_size=batch_size, epochs=epochs, validation_split=0.1)"
   ]
  },
  {
   "cell_type": "code",
   "execution_count": 9,
   "id": "8e7b15d4",
   "metadata": {},
   "outputs": [
    {
     "name": "stdout",
     "output_type": "stream",
     "text": [
      "Test loss:  0.11404525488615036\n",
      "Test accuracy:  0.979200005531311\n"
     ]
    }
   ],
   "source": [
    "# Evaluate the trained model\n",
    "score = model.evaluate(x_test, y_test, verbose=0)\n",
    "print(\"Test loss: \", score[0])\n",
    "print(\"Test accuracy: \", score[1])"
   ]
  },
  {
   "cell_type": "code",
   "execution_count": 10,
   "id": "af39dc9c",
   "metadata": {},
   "outputs": [
    {
     "data": {
      "image/png": "[encoded data removed]",
      "text/plain": [
       "<Figure size 432x288 with 1 Axes>"
      ]
     },
     "metadata": {
      "needs_background": "light"
     },
     "output_type": "display_data"
    }
   ],
   "source": [
    "# Summarize history for accuracy\n",
    "plt.plot(history.history['accuracy'])\n",
    "plt.plot(history.history['val_accuracy'])\n",
    "plt.title('model accuracy')\n",
    "plt.ylabel('accuracy')\n",
    "plt.xlabel('epoch')\n",
    "plt.legend(['train', 'test'], loc='upper left')\n",
    "plt.show()"
   ]
  },
  {
   "cell_type": "code",
   "execution_count": 11,
   "id": "f3576ac0",
   "metadata": {},
   "outputs": [
    {
     "data": {
      "image/png": "[encoded data removed]",
      "text/plain": [
       "<Figure size 432x288 with 1 Axes>"
      ]
     },
     "metadata": {
      "needs_background": "light"
     },
     "output_type": "display_data"
    }
   ],
   "source": [
    "# Summarize history for loss\n",
    "plt.plot(history.history['loss'])\n",
    "plt.plot(history.history['val_loss'])\n",
    "plt.title('model loss')\n",
    "plt.ylabel('loss')\n",
    "plt.xlabel('epoch')\n",
    "plt.legend(['train', 'test'], loc='upper left')\n",
    "plt.show()"
   ]
  },
  {
   "cell_type": "code",
   "execution_count": null,
   "id": "ac195d29",
   "metadata": {},
   "outputs": [],
   "source": []
  }
 ],
 "metadata": {
  "kernelspec": {
   "display_name": "Python 3 (ipykernel)",
   "language": "python",
   "name": "python3"
  },
  "language_info": {
   "codemirror_mode": {
    "name": "ipython",
    "version": 3
   },
   "file_extension": ".py",
   "mimetype": "text/x-python",
   "name": "python",
   "nbconvert_exporter": "python",
   "pygments_lexer": "ipython3",
   "version": "3.8.9"
  }
 },
 "nbformat": 4,
 "nbformat_minor": 5
}
