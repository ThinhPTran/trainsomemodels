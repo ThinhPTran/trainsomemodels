{
 "cells": [
  {
   "cell_type": "code",
   "execution_count": 23,
   "id": "fea2b095",
   "metadata": {},
   "outputs": [],
   "source": [
    "import numpy as np\n",
    "import tensorflow as tf\n",
    "from tensorflow import keras\n",
    "from tensorflow.keras import layers\n",
    "from matplotlib import pyplot as plt"
   ]
  },
  {
   "cell_type": "code",
   "execution_count": 24,
   "id": "0980ff86",
   "metadata": {},
   "outputs": [],
   "source": [
    "# Model / data parameters\n",
    "num_classes = 10\n",
    "input_shape = (28, 28, 1)\n",
    "\n",
    "# the data, split between train and test sets\n",
    "(x_train, y_train), (x_test, y_test) = keras.datasets.mnist.load_data()"
   ]
  },
  {
   "cell_type": "code",
   "execution_count": 25,
   "id": "b4ca8d3c",
   "metadata": {},
   "outputs": [],
   "source": [
    "# Scale images to the [0, 1] range\n",
    "x_train = x_train.astype(\"float32\") / 255\n",
    "x_test = x_test.astype(\"float32\") / 255"
   ]
  },
  {
   "cell_type": "code",
   "execution_count": 26,
   "id": "cfcb4308",
   "metadata": {},
   "outputs": [
    {
     "name": "stdout",
     "output_type": "stream",
     "text": [
      "x_train shape:  (60000, 28, 28, 1)\n",
      "60000 train samples\n",
      "10000 test samples\n"
     ]
    }
   ],
   "source": [
    "# make suare images have shape (28, 28, 1)\n",
    "x_train = np.expand_dims(x_train, -1)\n",
    "x_test = np.expand_dims(x_test, -1)\n",
    "\n",
    "print(\"x_train shape: \", x_train.shape)\n",
    "print(x_train.shape[0], \"train samples\")\n",
    "print(x_test.shape[0], \"test samples\")"
   ]
  },
  {
   "cell_type": "code",
   "execution_count": 27,
   "id": "1a78a582",
   "metadata": {},
   "outputs": [],
   "source": [
    "# Convert class vectors to binary class matrices\n",
    "y_train = keras.utils.to_categorical(y_train, num_classes)\n",
    "y_test = keras.utils.to_categorical(y_test, num_classes)"
   ]
  },
  {
   "cell_type": "code",
   "execution_count": 31,
   "id": "cff96619",
   "metadata": {},
   "outputs": [
    {
     "name": "stdout",
     "output_type": "stream",
     "text": [
      "Model: \"sequential_7\"\n",
      "_________________________________________________________________\n",
      " Layer (type)                Output Shape              Param #   \n",
      "=================================================================\n",
      " flatten (Flatten)           (None, 784)               0         \n",
      "                                                                 \n",
      " dense_7 (Dense)             (None, 10)                7850      \n",
      "                                                                 \n",
      "=================================================================\n",
      "Total params: 7,850\n",
      "Trainable params: 7,850\n",
      "Non-trainable params: 0\n",
      "_________________________________________________________________\n"
     ]
    }
   ],
   "source": [
    "# Build the model\n",
    "model = keras.Sequential(\n",
    "[\n",
    "    keras.Input(shape=input_shape),\n",
    "    tf.keras.layers.Flatten(),\n",
    "    layers.Dense(num_classes, activation=\"softmax\"),\n",
    "])\n",
    "\n",
    "model.summary()"
   ]
  },
  {
   "cell_type": "code",
   "execution_count": 32,
   "id": "505aaba9",
   "metadata": {},
   "outputs": [
    {
     "name": "stdout",
     "output_type": "stream",
     "text": [
      "Epoch 1/30\n",
      "422/422 [==============================] - 1s 2ms/step - loss: 0.7008 - accuracy: 0.8286 - val_loss: 0.3493 - val_accuracy: 0.9122\n",
      "Epoch 2/30\n",
      "422/422 [==============================] - 1s 2ms/step - loss: 0.3773 - accuracy: 0.8987 - val_loss: 0.2859 - val_accuracy: 0.9243\n",
      "Epoch 3/30\n",
      "422/422 [==============================] - 1s 2ms/step - loss: 0.3312 - accuracy: 0.9091 - val_loss: 0.2614 - val_accuracy: 0.9288\n",
      "Epoch 4/30\n",
      "422/422 [==============================] - 1s 2ms/step - loss: 0.3100 - accuracy: 0.9137 - val_loss: 0.2500 - val_accuracy: 0.9332\n",
      "Epoch 5/30\n",
      "422/422 [==============================] - 1s 2ms/step - loss: 0.2968 - accuracy: 0.9176 - val_loss: 0.2452 - val_accuracy: 0.9325\n",
      "Epoch 6/30\n",
      "422/422 [==============================] - 1s 2ms/step - loss: 0.2882 - accuracy: 0.9199 - val_loss: 0.2375 - val_accuracy: 0.9348\n",
      "Epoch 7/30\n",
      "422/422 [==============================] - 1s 2ms/step - loss: 0.2814 - accuracy: 0.9214 - val_loss: 0.2343 - val_accuracy: 0.9358\n",
      "Epoch 8/30\n",
      "422/422 [==============================] - 1s 2ms/step - loss: 0.2767 - accuracy: 0.9228 - val_loss: 0.2311 - val_accuracy: 0.9368\n",
      "Epoch 9/30\n",
      "422/422 [==============================] - 1s 2ms/step - loss: 0.2729 - accuracy: 0.9235 - val_loss: 0.2284 - val_accuracy: 0.9383\n",
      "Epoch 10/30\n",
      "422/422 [==============================] - 1s 2ms/step - loss: 0.2696 - accuracy: 0.9248 - val_loss: 0.2270 - val_accuracy: 0.9383\n",
      "Epoch 11/30\n",
      "422/422 [==============================] - 1s 2ms/step - loss: 0.2664 - accuracy: 0.9256 - val_loss: 0.2256 - val_accuracy: 0.9390\n",
      "Epoch 12/30\n",
      "422/422 [==============================] - 1s 2ms/step - loss: 0.2638 - accuracy: 0.9261 - val_loss: 0.2267 - val_accuracy: 0.9398\n",
      "Epoch 13/30\n",
      "422/422 [==============================] - 1s 2ms/step - loss: 0.2618 - accuracy: 0.9277 - val_loss: 0.2229 - val_accuracy: 0.9408\n",
      "Epoch 14/30\n",
      "422/422 [==============================] - 1s 2ms/step - loss: 0.2598 - accuracy: 0.9272 - val_loss: 0.2230 - val_accuracy: 0.9383\n",
      "Epoch 15/30\n",
      "422/422 [==============================] - 1s 2ms/step - loss: 0.2582 - accuracy: 0.9284 - val_loss: 0.2224 - val_accuracy: 0.9410\n",
      "Epoch 16/30\n",
      "422/422 [==============================] - 1s 2ms/step - loss: 0.2562 - accuracy: 0.9289 - val_loss: 0.2231 - val_accuracy: 0.9403\n",
      "Epoch 17/30\n",
      "422/422 [==============================] - 1s 2ms/step - loss: 0.2549 - accuracy: 0.9283 - val_loss: 0.2237 - val_accuracy: 0.9400\n",
      "Epoch 18/30\n",
      "422/422 [==============================] - 1s 2ms/step - loss: 0.2535 - accuracy: 0.9294 - val_loss: 0.2220 - val_accuracy: 0.9403\n",
      "Epoch 19/30\n",
      "422/422 [==============================] - 1s 2ms/step - loss: 0.2528 - accuracy: 0.9296 - val_loss: 0.2215 - val_accuracy: 0.9403\n",
      "Epoch 20/30\n",
      "422/422 [==============================] - 1s 2ms/step - loss: 0.2512 - accuracy: 0.9301 - val_loss: 0.2227 - val_accuracy: 0.9392\n",
      "Epoch 21/30\n",
      "422/422 [==============================] - 1s 2ms/step - loss: 0.2501 - accuracy: 0.9304 - val_loss: 0.2216 - val_accuracy: 0.9390\n",
      "Epoch 22/30\n",
      "422/422 [==============================] - 1s 2ms/step - loss: 0.2492 - accuracy: 0.9309 - val_loss: 0.2227 - val_accuracy: 0.9388\n",
      "Epoch 23/30\n",
      "422/422 [==============================] - 1s 2ms/step - loss: 0.2486 - accuracy: 0.9306 - val_loss: 0.2216 - val_accuracy: 0.9400\n",
      "Epoch 24/30\n",
      "422/422 [==============================] - 1s 2ms/step - loss: 0.2477 - accuracy: 0.9311 - val_loss: 0.2220 - val_accuracy: 0.9402\n",
      "Epoch 25/30\n",
      "422/422 [==============================] - 1s 2ms/step - loss: 0.2467 - accuracy: 0.9311 - val_loss: 0.2234 - val_accuracy: 0.9393\n",
      "Epoch 26/30\n",
      "422/422 [==============================] - 1s 2ms/step - loss: 0.2458 - accuracy: 0.9320 - val_loss: 0.2217 - val_accuracy: 0.9405\n",
      "Epoch 27/30\n",
      "422/422 [==============================] - 1s 2ms/step - loss: 0.2449 - accuracy: 0.9321 - val_loss: 0.2214 - val_accuracy: 0.9400\n",
      "Epoch 28/30\n",
      "422/422 [==============================] - 1s 2ms/step - loss: 0.2444 - accuracy: 0.9326 - val_loss: 0.2232 - val_accuracy: 0.9397\n",
      "Epoch 29/30\n",
      "422/422 [==============================] - 1s 2ms/step - loss: 0.2438 - accuracy: 0.9328 - val_loss: 0.2220 - val_accuracy: 0.9398\n",
      "Epoch 30/30\n",
      "422/422 [==============================] - 1s 2ms/step - loss: 0.2433 - accuracy: 0.9330 - val_loss: 0.2235 - val_accuracy: 0.9392\n"
     ]
    }
   ],
   "source": [
    "batch_size = 128\n",
    "epochs = 30\n",
    "\n",
    "model.compile(\n",
    "    loss=\"categorical_crossentropy\", \n",
    "    optimizer=\"adam\", \n",
    "    metrics=[\"accuracy\"])\n",
    "\n",
    "# Train the model\n",
    "history = model.fit(x_train, y_train, batch_size=batch_size, epochs=epochs, validation_split=0.1)"
   ]
  },
  {
   "cell_type": "code",
   "execution_count": 33,
   "id": "0d393031",
   "metadata": {},
   "outputs": [
    {
     "name": "stdout",
     "output_type": "stream",
     "text": [
      "Test loss:  0.2631862759590149\n",
      "Test accuracy:  0.9276999831199646\n"
     ]
    }
   ],
   "source": [
    "# Evaluate the trained model\n",
    "score = model.evaluate(x_test, y_test, verbose=0)\n",
    "print(\"Test loss: \", score[0])\n",
    "print(\"Test accuracy: \", score[1])"
   ]
  },
  {
   "cell_type": "code",
   "execution_count": 34,
   "id": "a6051477",
   "metadata": {},
   "outputs": [
    {
     "data": {
      "image/png": "[encoded data removed]",
      "text/plain": [
       "<Figure size 432x288 with 1 Axes>"
      ]
     },
     "metadata": {
      "needs_background": "light"
     },
     "output_type": "display_data"
    }
   ],
   "source": [
    "# Summarize history for accuracy\n",
    "plt.plot(history.history['accuracy'])\n",
    "plt.plot(history.history['val_accuracy'])\n",
    "plt.title('model accuracy')\n",
    "plt.ylabel('accuracy')\n",
    "plt.xlabel('epoch')\n",
    "plt.legend(['train', 'test'], loc='upper left')\n",
    "plt.show()"
   ]
  },
  {
   "cell_type": "code",
   "execution_count": 35,
   "id": "03df2c82",
   "metadata": {},
   "outputs": [
    {
     "data": {
      "image/png": "[encoded data removed]",
      "text/plain": [
       "<Figure size 432x288 with 1 Axes>"
      ]
     },
     "metadata": {
      "needs_background": "light"
     },
     "output_type": "display_data"
    }
   ],
   "source": [
    "# Summarize history for loss\n",
    "plt.plot(history.history['loss'])\n",
    "plt.plot(history.history['val_loss'])\n",
    "plt.title('model loss')\n",
    "plt.ylabel('loss')\n",
    "plt.xlabel('epoch')\n",
    "plt.legend(['train', 'test'], loc='upper left')\n",
    "plt.show()"
   ]
  },
  {
   "cell_type": "code",
   "execution_count": 36,
   "id": "777b5986",
   "metadata": {},
   "outputs": [],
   "source": [
    "a_val_img = x_test[0]"
   ]
  },
  {
   "cell_type": "code",
   "execution_count": 37,
   "id": "aebacaac",
   "metadata": {},
   "outputs": [
    {
     "data": {
      "text/plain": [
       "<matplotlib.image.AxesImage at 0x1444a0910>"
      ]
     },
     "execution_count": 37,
     "metadata": {},
     "output_type": "execute_result"
    },
    {
     "data": {
      "image/png": "[encoded data removed]",
      "text/plain": [
       "<Figure size 432x288 with 1 Axes>"
      ]
     },
     "metadata": {
      "needs_background": "light"
     },
     "output_type": "display_data"
    }
   ],
   "source": [
    "plt.imshow(a_val_img)"
   ]
  },
  {
   "cell_type": "code",
   "execution_count": 38,
   "id": "eb0af0c9",
   "metadata": {},
   "outputs": [
    {
     "data": {
      "text/plain": [
       "array([0., 0., 0., 0., 0., 0., 0., 1., 0., 0.], dtype=float32)"
      ]
     },
     "execution_count": 38,
     "metadata": {},
     "output_type": "execute_result"
    }
   ],
   "source": [
    "y_test[0]"
   ]
  },
  {
   "cell_type": "code",
   "execution_count": 39,
   "id": "c62c87a4",
   "metadata": {},
   "outputs": [
    {
     "data": {
      "text/plain": [
       "(28, 28, 1)"
      ]
     },
     "execution_count": 39,
     "metadata": {},
     "output_type": "execute_result"
    }
   ],
   "source": [
    "np.shape(a_val_img)"
   ]
  },
  {
   "cell_type": "code",
   "execution_count": 40,
   "id": "234b82b4",
   "metadata": {},
   "outputs": [
    {
     "data": {
      "text/plain": [
       "array([[3.5876508e-07, 8.5099771e-13, 1.5497211e-06, 6.1085708e-03,\n",
       "        2.7491686e-07, 2.5504532e-05, 1.3462750e-11, 9.9342138e-01,\n",
       "        1.3341409e-05, 4.2908371e-04]], dtype=float32)"
      ]
     },
     "execution_count": 40,
     "metadata": {},
     "output_type": "execute_result"
    }
   ],
   "source": [
    "model.predict(np.array([a_val_img]))"
   ]
  },
  {
   "cell_type": "code",
   "execution_count": 41,
   "id": "62478024",
   "metadata": {},
   "outputs": [],
   "source": [
    "# save the model to file\n",
    "model.save('./Data/dense_softmax_model.h5')"
   ]
  },
  {
   "cell_type": "code",
   "execution_count": null,
   "id": "a041d583",
   "metadata": {},
   "outputs": [],
   "source": []
  }
 ],
 "metadata": {
  "kernelspec": {
   "display_name": "Python 3 (ipykernel)",
   "language": "python",
   "name": "python3"
  },
  "language_info": {
   "codemirror_mode": {
    "name": "ipython",
    "version": 3
   },
   "file_extension": ".py",
   "mimetype": "text/x-python",
   "name": "python",
   "nbconvert_exporter": "python",
   "pygments_lexer": "ipython3",
   "version": "3.8.9"
  }
 },
 "nbformat": 4,
 "nbformat_minor": 5
}
