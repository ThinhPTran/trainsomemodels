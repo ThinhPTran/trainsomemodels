{
 "cells": [
  {
   "cell_type": "code",
   "execution_count": 1,
   "id": "fea2b095",
   "metadata": {},
   "outputs": [
    {
     "name": "stderr",
     "output_type": "stream",
     "text": [
      "2022-01-24 20:33:21.213731: W tensorflow/stream_executor/platform/default/dso_loader.cc:64] Could not load dynamic library 'libcudart.so.11.0'; dlerror: libcudart.so.11.0: cannot open shared object file: No such file or directory\n",
      "2022-01-24 20:33:21.213830: I tensorflow/stream_executor/cuda/cudart_stub.cc:29] Ignore above cudart dlerror if you do not have a GPU set up on your machine.\n"
     ]
    }
   ],
   "source": [
    "import numpy as np\n",
    "import tensorflow as tf\n",
    "from tensorflow import keras\n",
    "from tensorflow.keras import layers\n",
    "from matplotlib import pyplot as plt"
   ]
  },
  {
   "cell_type": "code",
   "execution_count": 3,
   "id": "0980ff86",
   "metadata": {},
   "outputs": [],
   "source": [
    "# Model / data parameters\n",
    "num_classes = 10\n",
    "input_shape = (28, 28, 1)\n",
    "\n",
    "# the data, split between train and test sets\n",
    "(x_train, y_train), (x_test, y_test) = keras.datasets.mnist.load_data()"
   ]
  },
  {
   "cell_type": "code",
   "execution_count": 4,
   "id": "b4ca8d3c",
   "metadata": {},
   "outputs": [],
   "source": [
    "# Scale images to the [0, 1] range\n",
    "x_train = x_train.astype(\"float32\") / 255\n",
    "x_test = x_test.astype(\"float32\") / 255"
   ]
  },
  {
   "cell_type": "code",
   "execution_count": 5,
   "id": "cfcb4308",
   "metadata": {},
   "outputs": [
    {
     "name": "stdout",
     "output_type": "stream",
     "text": [
      "x_train shape:  (60000, 28, 28, 1)\n",
      "60000 train samples\n",
      "10000 test samples\n"
     ]
    }
   ],
   "source": [
    "# make suare images have shape (28, 28, 1)\n",
    "x_train = np.expand_dims(x_train, -1)\n",
    "x_test = np.expand_dims(x_test, -1)\n",
    "\n",
    "print(\"x_train shape: \", x_train.shape)\n",
    "print(x_train.shape[0], \"train samples\")\n",
    "print(x_test.shape[0], \"test samples\")"
   ]
  },
  {
   "cell_type": "code",
   "execution_count": 6,
   "id": "1a78a582",
   "metadata": {},
   "outputs": [],
   "source": [
    "# Convert class vectors to binary class matrices\n",
    "y_train = keras.utils.to_categorical(y_train, num_classes)\n",
    "y_test = keras.utils.to_categorical(y_test, num_classes)"
   ]
  },
  {
   "cell_type": "code",
   "execution_count": 7,
   "id": "cff96619",
   "metadata": {},
   "outputs": [
    {
     "name": "stdout",
     "output_type": "stream",
     "text": [
      "Model: \"sequential\"\n",
      "_________________________________________________________________\n",
      " Layer (type)                Output Shape              Param #   \n",
      "=================================================================\n",
      " flatten (Flatten)           (None, 784)               0         \n",
      "                                                                 \n",
      " dense (Dense)               (None, 10)                7850      \n",
      "                                                                 \n",
      "=================================================================\n",
      "Total params: 7,850\n",
      "Trainable params: 7,850\n",
      "Non-trainable params: 0\n",
      "_________________________________________________________________\n"
     ]
    },
    {
     "name": "stderr",
     "output_type": "stream",
     "text": [
      "2022-01-24 20:33:42.745516: W tensorflow/stream_executor/platform/default/dso_loader.cc:64] Could not load dynamic library 'libcuda.so.1'; dlerror: libcuda.so.1: cannot open shared object file: No such file or directory\n",
      "2022-01-24 20:33:42.745580: W tensorflow/stream_executor/cuda/cuda_driver.cc:269] failed call to cuInit: UNKNOWN ERROR (303)\n",
      "2022-01-24 20:33:42.745626: I tensorflow/stream_executor/cuda/cuda_diagnostics.cc:156] kernel driver does not appear to be running on this host (ubuntu): /proc/driver/nvidia/version does not exist\n",
      "2022-01-24 20:33:42.746139: I tensorflow/core/platform/cpu_feature_guard.cc:151] This TensorFlow binary is optimized with oneAPI Deep Neural Network Library (oneDNN) to use the following CPU instructions in performance-critical operations:  AVX2\n",
      "To enable them in other operations, rebuild TensorFlow with the appropriate compiler flags.\n"
     ]
    }
   ],
   "source": [
    "# Build the model\n",
    "model = keras.Sequential(\n",
    "[\n",
    "    keras.Input(shape=input_shape),\n",
    "    tf.keras.layers.Flatten(),\n",
    "    layers.Dense(num_classes, activation=\"softmax\"),\n",
    "])\n",
    "\n",
    "model.summary()"
   ]
  },
  {
   "cell_type": "code",
   "execution_count": 8,
   "id": "505aaba9",
   "metadata": {},
   "outputs": [
    {
     "name": "stderr",
     "output_type": "stream",
     "text": [
      "2022-01-24 20:33:44.235840: W tensorflow/core/framework/cpu_allocator_impl.cc:82] Allocation of 169344000 exceeds 10% of free system memory.\n"
     ]
    },
    {
     "name": "stdout",
     "output_type": "stream",
     "text": [
      "Epoch 1/30\n",
      "420/422 [============================>.] - ETA: 0s - loss: 0.7254 - accuracy: 0.8182"
     ]
    },
    {
     "name": "stderr",
     "output_type": "stream",
     "text": [
      "2022-01-24 20:33:49.466580: W tensorflow/core/framework/cpu_allocator_impl.cc:82] Allocation of 18816000 exceeds 10% of free system memory.\n"
     ]
    },
    {
     "name": "stdout",
     "output_type": "stream",
     "text": [
      "422/422 [==============================] - 6s 11ms/step - loss: 0.7239 - accuracy: 0.8186 - val_loss: 0.3576 - val_accuracy: 0.9107\n",
      "Epoch 2/30\n",
      "422/422 [==============================] - 3s 8ms/step - loss: 0.3803 - accuracy: 0.8981 - val_loss: 0.2870 - val_accuracy: 0.9252\n",
      "Epoch 3/30\n",
      "422/422 [==============================] - 3s 8ms/step - loss: 0.3329 - accuracy: 0.9084 - val_loss: 0.2622 - val_accuracy: 0.9295\n",
      "Epoch 4/30\n",
      "422/422 [==============================] - 3s 8ms/step - loss: 0.3109 - accuracy: 0.9140 - val_loss: 0.2496 - val_accuracy: 0.9320\n",
      "Epoch 5/30\n",
      "422/422 [==============================] - 3s 7ms/step - loss: 0.2976 - accuracy: 0.9169 - val_loss: 0.2433 - val_accuracy: 0.9355\n",
      "Epoch 6/30\n",
      "422/422 [==============================] - 3s 7ms/step - loss: 0.2886 - accuracy: 0.9191 - val_loss: 0.2379 - val_accuracy: 0.9378\n",
      "Epoch 7/30\n",
      "422/422 [==============================] - 4s 8ms/step - loss: 0.2822 - accuracy: 0.9210 - val_loss: 0.2339 - val_accuracy: 0.9363\n",
      "Epoch 8/30\n",
      "422/422 [==============================] - 4s 10ms/step - loss: 0.2767 - accuracy: 0.9235 - val_loss: 0.2308 - val_accuracy: 0.9382\n",
      "Epoch 9/30\n",
      "422/422 [==============================] - 4s 10ms/step - loss: 0.2728 - accuracy: 0.9239 - val_loss: 0.2303 - val_accuracy: 0.9378\n",
      "Epoch 10/30\n",
      "422/422 [==============================] - 3s 8ms/step - loss: 0.2692 - accuracy: 0.9245 - val_loss: 0.2269 - val_accuracy: 0.9387\n",
      "Epoch 11/30\n",
      "422/422 [==============================] - 3s 7ms/step - loss: 0.2663 - accuracy: 0.9265 - val_loss: 0.2259 - val_accuracy: 0.9380\n",
      "Epoch 12/30\n",
      "422/422 [==============================] - 3s 7ms/step - loss: 0.2641 - accuracy: 0.9270 - val_loss: 0.2255 - val_accuracy: 0.9400\n",
      "Epoch 13/30\n",
      "422/422 [==============================] - 3s 7ms/step - loss: 0.2616 - accuracy: 0.9269 - val_loss: 0.2251 - val_accuracy: 0.9385\n",
      "Epoch 14/30\n",
      "422/422 [==============================] - 3s 7ms/step - loss: 0.2599 - accuracy: 0.9277 - val_loss: 0.2263 - val_accuracy: 0.9388\n",
      "Epoch 15/30\n",
      "422/422 [==============================] - 3s 6ms/step - loss: 0.2582 - accuracy: 0.9287 - val_loss: 0.2231 - val_accuracy: 0.9382\n",
      "Epoch 16/30\n",
      "422/422 [==============================] - 3s 7ms/step - loss: 0.2561 - accuracy: 0.9286 - val_loss: 0.2226 - val_accuracy: 0.9385\n",
      "Epoch 17/30\n",
      "422/422 [==============================] - 3s 8ms/step - loss: 0.2552 - accuracy: 0.9289 - val_loss: 0.2219 - val_accuracy: 0.9408\n",
      "Epoch 18/30\n",
      "422/422 [==============================] - 3s 8ms/step - loss: 0.2537 - accuracy: 0.9300 - val_loss: 0.2226 - val_accuracy: 0.9400\n",
      "Epoch 19/30\n",
      "422/422 [==============================] - 4s 9ms/step - loss: 0.2526 - accuracy: 0.9302 - val_loss: 0.2223 - val_accuracy: 0.9398\n",
      "Epoch 20/30\n",
      "422/422 [==============================] - 4s 9ms/step - loss: 0.2512 - accuracy: 0.9301 - val_loss: 0.2220 - val_accuracy: 0.9387\n",
      "Epoch 21/30\n",
      "422/422 [==============================] - 4s 9ms/step - loss: 0.2502 - accuracy: 0.9302 - val_loss: 0.2220 - val_accuracy: 0.9407\n",
      "Epoch 22/30\n",
      "422/422 [==============================] - 3s 8ms/step - loss: 0.2494 - accuracy: 0.9312 - val_loss: 0.2228 - val_accuracy: 0.9393\n",
      "Epoch 23/30\n",
      "422/422 [==============================] - 3s 8ms/step - loss: 0.2487 - accuracy: 0.9309 - val_loss: 0.2203 - val_accuracy: 0.9402\n",
      "Epoch 24/30\n",
      "422/422 [==============================] - 3s 8ms/step - loss: 0.2475 - accuracy: 0.9315 - val_loss: 0.2221 - val_accuracy: 0.9398\n",
      "Epoch 25/30\n",
      "422/422 [==============================] - 3s 7ms/step - loss: 0.2467 - accuracy: 0.9315 - val_loss: 0.2214 - val_accuracy: 0.9397\n",
      "Epoch 26/30\n",
      "422/422 [==============================] - 4s 9ms/step - loss: 0.2459 - accuracy: 0.9322 - val_loss: 0.2223 - val_accuracy: 0.9393\n",
      "Epoch 27/30\n",
      "422/422 [==============================] - 3s 8ms/step - loss: 0.2451 - accuracy: 0.9322 - val_loss: 0.2207 - val_accuracy: 0.9408\n",
      "Epoch 28/30\n",
      "422/422 [==============================] - 4s 8ms/step - loss: 0.2447 - accuracy: 0.9325 - val_loss: 0.2208 - val_accuracy: 0.9403\n",
      "Epoch 29/30\n",
      "422/422 [==============================] - 3s 6ms/step - loss: 0.2439 - accuracy: 0.9323 - val_loss: 0.2230 - val_accuracy: 0.9397\n",
      "Epoch 30/30\n",
      "422/422 [==============================] - 3s 6ms/step - loss: 0.2431 - accuracy: 0.9326 - val_loss: 0.2231 - val_accuracy: 0.9390\n"
     ]
    }
   ],
   "source": [
    "batch_size = 128\n",
    "epochs = 30\n",
    "\n",
    "model.compile(\n",
    "    loss=\"categorical_crossentropy\", \n",
    "    optimizer=\"adam\", \n",
    "    metrics=[\"accuracy\"])\n",
    "\n",
    "# Train the model\n",
    "history = model.fit(x_train, y_train, batch_size=batch_size, epochs=epochs, validation_split=0.1)"
   ]
  },
  {
   "cell_type": "code",
   "execution_count": 9,
   "id": "0d393031",
   "metadata": {},
   "outputs": [
    {
     "name": "stderr",
     "output_type": "stream",
     "text": [
      "2022-01-24 20:36:07.680585: W tensorflow/core/framework/cpu_allocator_impl.cc:82] Allocation of 31360000 exceeds 10% of free system memory.\n"
     ]
    },
    {
     "name": "stdout",
     "output_type": "stream",
     "text": [
      "Test loss:  0.2657037377357483\n",
      "Test accuracy:  0.9265000224113464\n"
     ]
    }
   ],
   "source": [
    "# Evaluate the trained model\n",
    "score = model.evaluate(x_test, y_test, verbose=0)\n",
    "print(\"Test loss: \", score[0])\n",
    "print(\"Test accuracy: \", score[1])"
   ]
  },
  {
   "cell_type": "code",
   "execution_count": 12,
   "id": "a6051477",
   "metadata": {},
   "outputs": [
    {
     "data": {
      "image/png": "[encoded data removed]",
      "text/plain": [
       "<Figure size 432x288 with 1 Axes>"
      ]
     },
     "metadata": {
      "needs_background": "light"
     },
     "output_type": "display_data"
    }
   ],
   "source": [
    "# Summarize history for accuracy\n",
    "plt.plot(history.history['accuracy'])\n",
    "plt.plot(history.history['val_accuracy'])\n",
    "plt.title('model accuracy')\n",
    "plt.ylabel('accuracy')\n",
    "plt.xlabel('epoch')\n",
    "plt.legend(['train', 'test'], loc='upper left')\n",
    "plt.show()"
   ]
  },
  {
   "cell_type": "code",
   "execution_count": 13,
   "id": "03df2c82",
   "metadata": {},
   "outputs": [
    {
     "data": {
      "image/png": "[encoded data removed]",
      "text/plain": [
       "<Figure size 432x288 with 1 Axes>"
      ]
     },
     "metadata": {
      "needs_background": "light"
     },
     "output_type": "display_data"
    }
   ],
   "source": [
    "# Summarize history for loss\n",
    "plt.plot(history.history['loss'])\n",
    "plt.plot(history.history['val_loss'])\n",
    "plt.title('model loss')\n",
    "plt.ylabel('loss')\n",
    "plt.xlabel('epoch')\n",
    "plt.legend(['train', 'test'], loc='upper left')\n",
    "plt.show()"
   ]
  },
  {
   "cell_type": "code",
   "execution_count": 14,
   "id": "777b5986",
   "metadata": {},
   "outputs": [],
   "source": [
    "a_val_img = x_test[0]"
   ]
  },
  {
   "cell_type": "code",
   "execution_count": 15,
   "id": "aebacaac",
   "metadata": {},
   "outputs": [
    {
     "data": {
      "text/plain": [
       "<matplotlib.image.AxesImage at 0x7fc5a3d82070>"
      ]
     },
     "execution_count": 15,
     "metadata": {},
     "output_type": "execute_result"
    },
    {
     "data": {
      "image/png": "[encoded data removed]",
      "text/plain": [
       "<Figure size 432x288 with 1 Axes>"
      ]
     },
     "metadata": {
      "needs_background": "light"
     },
     "output_type": "display_data"
    }
   ],
   "source": [
    "plt.imshow(a_val_img)"
   ]
  },
  {
   "cell_type": "code",
   "execution_count": 16,
   "id": "eb0af0c9",
   "metadata": {},
   "outputs": [
    {
     "data": {
      "text/plain": [
       "array([0., 0., 0., 0., 0., 0., 0., 1., 0., 0.], dtype=float32)"
      ]
     },
     "execution_count": 16,
     "metadata": {},
     "output_type": "execute_result"
    }
   ],
   "source": [
    "y_test[0]"
   ]
  },
  {
   "cell_type": "code",
   "execution_count": 17,
   "id": "c62c87a4",
   "metadata": {},
   "outputs": [
    {
     "data": {
      "text/plain": [
       "(28, 28, 1)"
      ]
     },
     "execution_count": 17,
     "metadata": {},
     "output_type": "execute_result"
    }
   ],
   "source": [
    "np.shape(a_val_img)"
   ]
  },
  {
   "cell_type": "code",
   "execution_count": 18,
   "id": "234b82b4",
   "metadata": {},
   "outputs": [
    {
     "data": {
      "text/plain": [
       "array([[4.7791730e-07, 6.0623951e-13, 1.5589544e-06, 5.8967313e-03,\n",
       "        2.7074552e-07, 2.0959236e-05, 1.6274119e-11, 9.9368852e-01,\n",
       "        1.2116020e-05, 3.7941473e-04]], dtype=float32)"
      ]
     },
     "execution_count": 18,
     "metadata": {},
     "output_type": "execute_result"
    }
   ],
   "source": [
    "model.predict(np.array([a_val_img]))"
   ]
  },
  {
   "cell_type": "code",
   "execution_count": 19,
   "id": "62478024",
   "metadata": {},
   "outputs": [],
   "source": [
    "# save the model to file\n",
    "model.save('./Data/dense_softmax_model.h5')"
   ]
  },
  {
   "cell_type": "code",
   "execution_count": null,
   "id": "a041d583",
   "metadata": {},
   "outputs": [],
   "source": []
  }
 ],
 "metadata": {
  "kernelspec": {
   "display_name": "Python 3 (ipykernel)",
   "language": "python",
   "name": "python3"
  },
  "language_info": {
   "codemirror_mode": {
    "name": "ipython",
    "version": 3
   },
   "file_extension": ".py",
   "mimetype": "text/x-python",
   "name": "python",
   "nbconvert_exporter": "python",
   "pygments_lexer": "ipython3",
   "version": "3.8.10"
  }
 },
 "nbformat": 4,
 "nbformat_minor": 5
}
