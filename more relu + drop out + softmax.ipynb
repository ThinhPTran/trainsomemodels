{
 "cells": [
  {
   "cell_type": "code",
   "execution_count": 10,
   "id": "f07def9c",
   "metadata": {},
   "outputs": [],
   "source": [
    "import numpy as np\n",
    "import tensorflow as tf\n",
    "from tensorflow import keras\n",
    "from tensorflow.keras import layers\n",
    "from matplotlib import pyplot as plt"
   ]
  },
  {
   "cell_type": "code",
   "execution_count": 11,
   "id": "7ed4917d",
   "metadata": {},
   "outputs": [],
   "source": [
    "# Model / data parameters\n",
    "num_classes = 10\n",
    "input_shape = (28, 28, 1)\n",
    "\n",
    "# the data, split between train and test sets\n",
    "(x_train, y_train), (x_test, y_test) = keras.datasets.mnist.load_data()"
   ]
  },
  {
   "cell_type": "code",
   "execution_count": 12,
   "id": "9cb2b3af",
   "metadata": {},
   "outputs": [],
   "source": [
    "# Scale images to the [0, 1] range\n",
    "x_train = x_train.astype(\"float32\") / 255\n",
    "x_test = x_test.astype(\"float32\") / 255"
   ]
  },
  {
   "cell_type": "code",
   "execution_count": 13,
   "id": "3ae7f86c",
   "metadata": {},
   "outputs": [
    {
     "name": "stdout",
     "output_type": "stream",
     "text": [
      "x_train shape:  (60000, 784)\n",
      "60000 train samples\n",
      "10000 test samples\n"
     ]
    },
    {
     "data": {
      "text/plain": [
       "<matplotlib.image.AxesImage at 0x141c758e0>"
      ]
     },
     "execution_count": 13,
     "metadata": {},
     "output_type": "execute_result"
    },
    {
     "data": {
      "image/png": "[encoded data removed]",
      "text/plain": [
       "<Figure size 432x288 with 1 Axes>"
      ]
     },
     "metadata": {
      "needs_background": "light"
     },
     "output_type": "display_data"
    }
   ],
   "source": [
    "# make suare images have shape (28, 28, 1)\n",
    "x_train = np.reshape(x_train, (60000, 784))\n",
    "x_test = np.reshape(x_test, (10000, 784))\n",
    "\n",
    "print(\"x_train shape: \", x_train.shape)\n",
    "print(x_train.shape[0], \"train samples\")\n",
    "print(x_test.shape[0], \"test samples\")\n",
    "\n",
    "a_train_img = x_train[0]\n",
    "a_train_img = np.reshape(a_train_img, (28, 28))\n",
    "plt.imshow(a_train_img)"
   ]
  },
  {
   "cell_type": "code",
   "execution_count": 14,
   "id": "addcd4e8",
   "metadata": {},
   "outputs": [],
   "source": [
    "# Convert class vectors to binary class matrices\n",
    "y_train = keras.utils.to_categorical(y_train, num_classes)\n",
    "y_test = keras.utils.to_categorical(y_test, num_classes)"
   ]
  },
  {
   "cell_type": "code",
   "execution_count": 20,
   "id": "89f5267c",
   "metadata": {},
   "outputs": [
    {
     "name": "stdout",
     "output_type": "stream",
     "text": [
      "Model: \"sequential_3\"\n",
      "_________________________________________________________________\n",
      " Layer (type)                Output Shape              Param #   \n",
      "=================================================================\n",
      " dense_15 (Dense)            (None, 200)               157000    \n",
      "                                                                 \n",
      " dropout_3 (Dropout)         (None, 200)               0         \n",
      "                                                                 \n",
      " dense_16 (Dense)            (None, 100)               20100     \n",
      "                                                                 \n",
      " dropout_4 (Dropout)         (None, 100)               0         \n",
      "                                                                 \n",
      " dense_17 (Dense)            (None, 60)                6060      \n",
      "                                                                 \n",
      " dropout_5 (Dropout)         (None, 60)                0         \n",
      "                                                                 \n",
      " dense_18 (Dense)            (None, 30)                1830      \n",
      "                                                                 \n",
      " dropout_6 (Dropout)         (None, 30)                0         \n",
      "                                                                 \n",
      " dense_19 (Dense)            (None, 10)                310       \n",
      "                                                                 \n",
      "=================================================================\n",
      "Total params: 185,300\n",
      "Trainable params: 185,300\n",
      "Non-trainable params: 0\n",
      "_________________________________________________________________\n"
     ]
    }
   ],
   "source": [
    "# Build the model\n",
    "model = keras.Sequential(\n",
    "[\n",
    "      tf.keras.layers.Input(shape=(28*28,)),\n",
    "      tf.keras.layers.Dense(200, activation='relu'),\n",
    "      tf.keras.layers.Dropout(0.25),\n",
    "      tf.keras.layers.Dense(100, activation='relu'),\n",
    "      tf.keras.layers.Dropout(0.25),\n",
    "      tf.keras.layers.Dense(60, activation='relu'),\n",
    "      tf.keras.layers.Dropout(0.25),\n",
    "      tf.keras.layers.Dense(30, activation='relu'),\n",
    "      tf.keras.layers.Dropout(0.25),\n",
    "      tf.keras.layers.Dense(10, activation='softmax')\n",
    "])\n",
    "\n",
    "model.summary()"
   ]
  },
  {
   "cell_type": "code",
   "execution_count": 22,
   "id": "a79b5484",
   "metadata": {},
   "outputs": [
    {
     "name": "stdout",
     "output_type": "stream",
     "text": [
      "Epoch 1/30\n",
      "422/422 [==============================] - 3s 5ms/step - loss: 0.0453 - accuracy: 0.9885 - val_loss: 0.0775 - val_accuracy: 0.9833\n",
      "Epoch 2/30\n",
      "422/422 [==============================] - 2s 4ms/step - loss: 0.0399 - accuracy: 0.9894 - val_loss: 0.0828 - val_accuracy: 0.9823\n",
      "Epoch 3/30\n",
      "422/422 [==============================] - 2s 5ms/step - loss: 0.0417 - accuracy: 0.9892 - val_loss: 0.0921 - val_accuracy: 0.9817\n",
      "Epoch 4/30\n",
      "422/422 [==============================] - 2s 5ms/step - loss: 0.0401 - accuracy: 0.9894 - val_loss: 0.0814 - val_accuracy: 0.9830\n",
      "Epoch 5/30\n",
      "422/422 [==============================] - 2s 4ms/step - loss: 0.0365 - accuracy: 0.9900 - val_loss: 0.0790 - val_accuracy: 0.9840\n",
      "Epoch 6/30\n",
      "422/422 [==============================] - 2s 5ms/step - loss: 0.0393 - accuracy: 0.9897 - val_loss: 0.0937 - val_accuracy: 0.9827\n",
      "Epoch 7/30\n",
      "422/422 [==============================] - 2s 5ms/step - loss: 0.0363 - accuracy: 0.9903 - val_loss: 0.0867 - val_accuracy: 0.9842\n",
      "Epoch 8/30\n",
      "422/422 [==============================] - 2s 4ms/step - loss: 0.0364 - accuracy: 0.9902 - val_loss: 0.0780 - val_accuracy: 0.9862\n",
      "Epoch 9/30\n",
      "422/422 [==============================] - 2s 5ms/step - loss: 0.0337 - accuracy: 0.9910 - val_loss: 0.0729 - val_accuracy: 0.9855\n",
      "Epoch 10/30\n",
      "422/422 [==============================] - 2s 5ms/step - loss: 0.0357 - accuracy: 0.9910 - val_loss: 0.0851 - val_accuracy: 0.9845\n",
      "Epoch 11/30\n",
      "422/422 [==============================] - 2s 4ms/step - loss: 0.0344 - accuracy: 0.9905 - val_loss: 0.0824 - val_accuracy: 0.9838\n",
      "Epoch 12/30\n",
      "422/422 [==============================] - 2s 4ms/step - loss: 0.0350 - accuracy: 0.9906 - val_loss: 0.0855 - val_accuracy: 0.9818\n",
      "Epoch 13/30\n",
      "422/422 [==============================] - 2s 4ms/step - loss: 0.0354 - accuracy: 0.9911 - val_loss: 0.0817 - val_accuracy: 0.9832\n",
      "Epoch 14/30\n",
      "422/422 [==============================] - 2s 4ms/step - loss: 0.0315 - accuracy: 0.9914 - val_loss: 0.0832 - val_accuracy: 0.9852\n",
      "Epoch 15/30\n",
      "422/422 [==============================] - 2s 4ms/step - loss: 0.0331 - accuracy: 0.9914 - val_loss: 0.0798 - val_accuracy: 0.9833\n",
      "Epoch 16/30\n",
      "422/422 [==============================] - 2s 4ms/step - loss: 0.0346 - accuracy: 0.9908 - val_loss: 0.0787 - val_accuracy: 0.9818\n",
      "Epoch 17/30\n",
      "422/422 [==============================] - 2s 4ms/step - loss: 0.0323 - accuracy: 0.9915 - val_loss: 0.0785 - val_accuracy: 0.9832\n",
      "Epoch 18/30\n",
      "422/422 [==============================] - 2s 4ms/step - loss: 0.0342 - accuracy: 0.9908 - val_loss: 0.0756 - val_accuracy: 0.9840\n",
      "Epoch 19/30\n",
      "422/422 [==============================] - 2s 4ms/step - loss: 0.0306 - accuracy: 0.9916 - val_loss: 0.0863 - val_accuracy: 0.9840\n",
      "Epoch 20/30\n",
      "422/422 [==============================] - 2s 4ms/step - loss: 0.0326 - accuracy: 0.9914 - val_loss: 0.0873 - val_accuracy: 0.9832\n",
      "Epoch 21/30\n",
      "422/422 [==============================] - 2s 4ms/step - loss: 0.0322 - accuracy: 0.9911 - val_loss: 0.0851 - val_accuracy: 0.9833\n",
      "Epoch 22/30\n",
      "422/422 [==============================] - 2s 4ms/step - loss: 0.0322 - accuracy: 0.9911 - val_loss: 0.0856 - val_accuracy: 0.9847\n",
      "Epoch 23/30\n",
      "422/422 [==============================] - 2s 4ms/step - loss: 0.0274 - accuracy: 0.9924 - val_loss: 0.0968 - val_accuracy: 0.9823\n",
      "Epoch 24/30\n",
      "422/422 [==============================] - 2s 4ms/step - loss: 0.0285 - accuracy: 0.9924 - val_loss: 0.0888 - val_accuracy: 0.9830\n",
      "Epoch 25/30\n",
      "422/422 [==============================] - 2s 4ms/step - loss: 0.0302 - accuracy: 0.9923 - val_loss: 0.0916 - val_accuracy: 0.9832\n",
      "Epoch 26/30\n",
      "422/422 [==============================] - 2s 4ms/step - loss: 0.0248 - accuracy: 0.9936 - val_loss: 0.0792 - val_accuracy: 0.9845\n",
      "Epoch 27/30\n",
      "422/422 [==============================] - 2s 4ms/step - loss: 0.0263 - accuracy: 0.9928 - val_loss: 0.0858 - val_accuracy: 0.9830\n",
      "Epoch 28/30\n",
      "422/422 [==============================] - 2s 4ms/step - loss: 0.0322 - accuracy: 0.9916 - val_loss: 0.0742 - val_accuracy: 0.9852\n",
      "Epoch 29/30\n",
      "422/422 [==============================] - 2s 4ms/step - loss: 0.0276 - accuracy: 0.9929 - val_loss: 0.0894 - val_accuracy: 0.9850\n",
      "Epoch 30/30\n",
      "422/422 [==============================] - 2s 4ms/step - loss: 0.0280 - accuracy: 0.9926 - val_loss: 0.0899 - val_accuracy: 0.9843\n"
     ]
    }
   ],
   "source": [
    "batch_size = 128\n",
    "epochs = 30\n",
    "\n",
    "model.compile(\n",
    "    loss=\"categorical_crossentropy\", \n",
    "    optimizer=\"adam\", \n",
    "    metrics=[\"accuracy\"])\n",
    "\n",
    "# Train the model\n",
    "history = model.fit(x_train, y_train, batch_size=batch_size, epochs=epochs, validation_split=0.1)"
   ]
  },
  {
   "cell_type": "code",
   "execution_count": 26,
   "id": "8e7b15d4",
   "metadata": {},
   "outputs": [
    {
     "name": "stdout",
     "output_type": "stream",
     "text": [
      "Test loss:  0.10363706201314926\n",
      "Test accuracy:  0.982200026512146\n"
     ]
    }
   ],
   "source": [
    "# Evaluate the trained model\n",
    "score = model.evaluate(x_test, y_test, verbose=0)\n",
    "print(\"Test loss: \", score[0])\n",
    "print(\"Test accuracy: \", score[1])"
   ]
  },
  {
   "cell_type": "code",
   "execution_count": 27,
   "id": "af39dc9c",
   "metadata": {},
   "outputs": [
    {
     "data": {
      "image/png": "[encoded data removed]",
      "text/plain": [
       "<Figure size 432x288 with 1 Axes>"
      ]
     },
     "metadata": {
      "needs_background": "light"
     },
     "output_type": "display_data"
    }
   ],
   "source": [
    "# Summarize history for accuracy\n",
    "plt.plot(history.history['accuracy'])\n",
    "plt.plot(history.history['val_accuracy'])\n",
    "plt.title('model accuracy')\n",
    "plt.ylabel('accuracy')\n",
    "plt.xlabel('epoch')\n",
    "plt.legend(['train', 'test'], loc='upper left')\n",
    "plt.show()"
   ]
  },
  {
   "cell_type": "code",
   "execution_count": 28,
   "id": "f3576ac0",
   "metadata": {},
   "outputs": [
    {
     "data": {
      "image/png": "[encoded data removed]",
      "text/plain": [
       "<Figure size 432x288 with 1 Axes>"
      ]
     },
     "metadata": {
      "needs_background": "light"
     },
     "output_type": "display_data"
    }
   ],
   "source": [
    "# Summarize history for loss\n",
    "plt.plot(history.history['loss'])\n",
    "plt.plot(history.history['val_loss'])\n",
    "plt.title('model loss')\n",
    "plt.ylabel('loss')\n",
    "plt.xlabel('epoch')\n",
    "plt.legend(['train', 'test'], loc='upper left')\n",
    "plt.show()"
   ]
  },
  {
   "cell_type": "code",
   "execution_count": null,
   "id": "ac195d29",
   "metadata": {},
   "outputs": [],
   "source": []
  }
 ],
 "metadata": {
  "kernelspec": {
   "display_name": "Python 3 (ipykernel)",
   "language": "python",
   "name": "python3"
  },
  "language_info": {
   "codemirror_mode": {
    "name": "ipython",
    "version": 3
   },
   "file_extension": ".py",
   "mimetype": "text/x-python",
   "name": "python",
   "nbconvert_exporter": "python",
   "pygments_lexer": "ipython3",
   "version": "3.8.10"
  }
 },
 "nbformat": 4,
 "nbformat_minor": 5
}
