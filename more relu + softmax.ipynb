{
 "cells": [
  {
   "cell_type": "code",
   "execution_count": 2,
   "metadata": {},
   "outputs": [],
   "source": [
    "import numpy as np\n",
    "import tensorflow as tf\n",
    "from tensorflow import keras\n",
    "from tensorflow.keras import layers\n",
    "from matplotlib import pyplot as plt"
   ]
  },
  {
   "cell_type": "code",
   "execution_count": 3,
   "metadata": {},
   "outputs": [],
   "source": [
    "# Model / data parameters\n",
    "num_classes = 10\n",
    "input_shape = (28, 28, 1)\n",
    "\n",
    "# the data, split between train and test sets\n",
    "(x_train, y_train), (x_test, y_test) = keras.datasets.mnist.load_data()"
   ]
  },
  {
   "cell_type": "code",
   "execution_count": 4,
   "metadata": {},
   "outputs": [],
   "source": [
    "# Scale images to the [0, 1] range\n",
    "x_train = x_train.astype(\"float32\") / 255\n",
    "x_test = x_test.astype(\"float32\") / 255"
   ]
  },
  {
   "cell_type": "code",
   "execution_count": 5,
   "metadata": {},
   "outputs": [
    {
     "name": "stdout",
     "output_type": "stream",
     "text": [
      "x_train shape:  (60000, 784)\n",
      "60000 train samples\n",
      "10000 test samples\n"
     ]
    },
    {
     "data": {
      "text/plain": [
       "<matplotlib.image.AxesImage at 0x13d2ff070>"
      ]
     },
     "execution_count": 5,
     "metadata": {},
     "output_type": "execute_result"
    },
    {
     "data": {
      "image/png": "[encoded data removed]",
      "text/plain": [
       "<Figure size 432x288 with 1 Axes>"
      ]
     },
     "metadata": {
      "needs_background": "light"
     },
     "output_type": "display_data"
    }
   ],
   "source": [
    "# make suare images have shape (28, 28, 1)\n",
    "x_train = np.reshape(x_train, (60000, 784))\n",
    "x_test = np.reshape(x_test, (10000, 784))\n",
    "\n",
    "print(\"x_train shape: \", x_train.shape)\n",
    "print(x_train.shape[0], \"train samples\")\n",
    "print(x_test.shape[0], \"test samples\")\n",
    "\n",
    "a_train_img = x_train[0]\n",
    "a_train_img = np.reshape(a_train_img, (28, 28))\n",
    "plt.imshow(a_train_img)"
   ]
  },
  {
   "cell_type": "code",
   "execution_count": 6,
   "metadata": {},
   "outputs": [],
   "source": [
    "# Convert class vectors to binary class matrices\n",
    "y_train = keras.utils.to_categorical(y_train, num_classes)\n",
    "y_test = keras.utils.to_categorical(y_test, num_classes)"
   ]
  },
  {
   "cell_type": "code",
   "execution_count": 13,
   "metadata": {},
   "outputs": [
    {
     "name": "stdout",
     "output_type": "stream",
     "text": [
      "Model: \"sequential_2\"\n",
      "_________________________________________________________________\n",
      " Layer (type)                Output Shape              Param #   \n",
      "=================================================================\n",
      " dense_10 (Dense)            (None, 200)               157000    \n",
      "                                                                 \n",
      " dense_11 (Dense)            (None, 100)               20100     \n",
      "                                                                 \n",
      " dense_12 (Dense)            (None, 60)                6060      \n",
      "                                                                 \n",
      " dense_13 (Dense)            (None, 30)                1830      \n",
      "                                                                 \n",
      " dropout (Dropout)           (None, 30)                0         \n",
      "                                                                 \n",
      " dense_14 (Dense)            (None, 10)                310       \n",
      "                                                                 \n",
      "=================================================================\n",
      "Total params: 185,300\n",
      "Trainable params: 185,300\n",
      "Non-trainable params: 0\n",
      "_________________________________________________________________\n"
     ]
    }
   ],
   "source": [
    "# Build the model\n",
    "model = keras.Sequential(\n",
    "[\n",
    "      tf.keras.layers.Input(shape=(28*28,)),\n",
    "      tf.keras.layers.Dense(200, activation='relu'),\n",
    "      tf.keras.layers.Dense(100, activation='relu'),\n",
    "      tf.keras.layers.Dense(60, activation='relu'),\n",
    "      tf.keras.layers.Dense(30, activation='relu'),\n",
    "      tf.keras.layers.Dense(10, activation='softmax')\n",
    "])\n",
    "\n",
    "model.summary()"
   ]
  },
  {
   "cell_type": "code",
   "execution_count": 9,
   "metadata": {},
   "outputs": [
    {
     "name": "stdout",
     "output_type": "stream",
     "text": [
      "Epoch 1/30\n",
      "422/422 [==============================] - 2s 5ms/step - loss: 0.3647 - accuracy: 0.8887 - val_loss: 0.1199 - val_accuracy: 0.9633\n",
      "Epoch 2/30\n",
      "422/422 [==============================] - 1s 3ms/step - loss: 0.1267 - accuracy: 0.9622 - val_loss: 0.0884 - val_accuracy: 0.9725\n",
      "Epoch 3/30\n",
      "422/422 [==============================] - 1s 3ms/step - loss: 0.0837 - accuracy: 0.9736 - val_loss: 0.0801 - val_accuracy: 0.9753\n",
      "Epoch 4/30\n",
      "422/422 [==============================] - 2s 4ms/step - loss: 0.0625 - accuracy: 0.9803 - val_loss: 0.0816 - val_accuracy: 0.9770\n",
      "Epoch 5/30\n",
      "422/422 [==============================] - 2s 4ms/step - loss: 0.0466 - accuracy: 0.9853 - val_loss: 0.0692 - val_accuracy: 0.9802\n",
      "Epoch 6/30\n",
      "422/422 [==============================] - 2s 4ms/step - loss: 0.0365 - accuracy: 0.9880 - val_loss: 0.0789 - val_accuracy: 0.9782\n",
      "Epoch 7/30\n",
      "422/422 [==============================] - 1s 3ms/step - loss: 0.0325 - accuracy: 0.9894 - val_loss: 0.0811 - val_accuracy: 0.9788\n",
      "Epoch 8/30\n",
      "422/422 [==============================] - 1s 3ms/step - loss: 0.0263 - accuracy: 0.9914 - val_loss: 0.0851 - val_accuracy: 0.9785\n",
      "Epoch 9/30\n",
      "422/422 [==============================] - 1s 3ms/step - loss: 0.0206 - accuracy: 0.9934 - val_loss: 0.0904 - val_accuracy: 0.9758\n",
      "Epoch 10/30\n",
      "422/422 [==============================] - 1s 3ms/step - loss: 0.0222 - accuracy: 0.9927 - val_loss: 0.0851 - val_accuracy: 0.9793\n",
      "Epoch 11/30\n",
      "422/422 [==============================] - 2s 4ms/step - loss: 0.0189 - accuracy: 0.9935 - val_loss: 0.0973 - val_accuracy: 0.9767\n",
      "Epoch 12/30\n",
      "422/422 [==============================] - 1s 3ms/step - loss: 0.0161 - accuracy: 0.9949 - val_loss: 0.0838 - val_accuracy: 0.9808\n",
      "Epoch 13/30\n",
      "422/422 [==============================] - 1s 3ms/step - loss: 0.0145 - accuracy: 0.9953 - val_loss: 0.0841 - val_accuracy: 0.9793\n",
      "Epoch 14/30\n",
      "422/422 [==============================] - 1s 3ms/step - loss: 0.0138 - accuracy: 0.9954 - val_loss: 0.0922 - val_accuracy: 0.9810\n",
      "Epoch 15/30\n",
      "422/422 [==============================] - 2s 4ms/step - loss: 0.0127 - accuracy: 0.9961 - val_loss: 0.0863 - val_accuracy: 0.9793\n",
      "Epoch 16/30\n",
      "422/422 [==============================] - 2s 4ms/step - loss: 0.0130 - accuracy: 0.9956 - val_loss: 0.1064 - val_accuracy: 0.9758\n",
      "Epoch 17/30\n",
      "422/422 [==============================] - 2s 4ms/step - loss: 0.0102 - accuracy: 0.9966 - val_loss: 0.1053 - val_accuracy: 0.9808\n",
      "Epoch 18/30\n",
      "422/422 [==============================] - 2s 4ms/step - loss: 0.0139 - accuracy: 0.9952 - val_loss: 0.0875 - val_accuracy: 0.9820\n",
      "Epoch 19/30\n",
      "422/422 [==============================] - 2s 4ms/step - loss: 0.0088 - accuracy: 0.9969 - val_loss: 0.0930 - val_accuracy: 0.9818\n",
      "Epoch 20/30\n",
      "422/422 [==============================] - 2s 4ms/step - loss: 0.0097 - accuracy: 0.9969 - val_loss: 0.1020 - val_accuracy: 0.9805\n",
      "Epoch 21/30\n",
      "422/422 [==============================] - 1s 3ms/step - loss: 0.0113 - accuracy: 0.9964 - val_loss: 0.0980 - val_accuracy: 0.9808\n",
      "Epoch 22/30\n",
      "422/422 [==============================] - 2s 4ms/step - loss: 0.0047 - accuracy: 0.9984 - val_loss: 0.0948 - val_accuracy: 0.9822\n",
      "Epoch 23/30\n",
      "422/422 [==============================] - 1s 4ms/step - loss: 0.0113 - accuracy: 0.9961 - val_loss: 0.1076 - val_accuracy: 0.9802\n",
      "Epoch 24/30\n",
      "422/422 [==============================] - 2s 4ms/step - loss: 0.0092 - accuracy: 0.9972 - val_loss: 0.1110 - val_accuracy: 0.9802\n",
      "Epoch 25/30\n",
      "422/422 [==============================] - 2s 5ms/step - loss: 0.0082 - accuracy: 0.9972 - val_loss: 0.1021 - val_accuracy: 0.9810\n",
      "Epoch 26/30\n",
      "422/422 [==============================] - 2s 4ms/step - loss: 0.0109 - accuracy: 0.9967 - val_loss: 0.0898 - val_accuracy: 0.9828\n",
      "Epoch 27/30\n",
      "422/422 [==============================] - 2s 4ms/step - loss: 0.0043 - accuracy: 0.9987 - val_loss: 0.1061 - val_accuracy: 0.9788\n",
      "Epoch 28/30\n",
      "422/422 [==============================] - 2s 4ms/step - loss: 0.0110 - accuracy: 0.9962 - val_loss: 0.1028 - val_accuracy: 0.9813\n",
      "Epoch 29/30\n",
      "422/422 [==============================] - 2s 4ms/step - loss: 0.0080 - accuracy: 0.9976 - val_loss: 0.0962 - val_accuracy: 0.9795\n",
      "Epoch 30/30\n",
      "422/422 [==============================] - 2s 4ms/step - loss: 0.0019 - accuracy: 0.9995 - val_loss: 0.1140 - val_accuracy: 0.9797\n"
     ]
    }
   ],
   "source": [
    "batch_size = 128\n",
    "epochs = 30\n",
    "\n",
    "model.compile(\n",
    "    loss=\"categorical_crossentropy\", \n",
    "    optimizer=\"adam\", \n",
    "    metrics=[\"accuracy\"])\n",
    "\n",
    "# Train the model\n",
    "history = model.fit(x_train, y_train, batch_size=batch_size, epochs=epochs, validation_split=0.1)"
   ]
  },
  {
   "cell_type": "code",
   "execution_count": 10,
   "metadata": {},
   "outputs": [
    {
     "name": "stdout",
     "output_type": "stream",
     "text": [
      "Test loss:  0.10789571702480316\n",
      "Test accuracy:  0.9807999730110168\n"
     ]
    }
   ],
   "source": [
    "# Evaluate the trained model\n",
    "score = model.evaluate(x_test, y_test, verbose=0)\n",
    "print(\"Test loss: \", score[0])\n",
    "print(\"Test accuracy: \", score[1])"
   ]
  },
  {
   "cell_type": "code",
   "execution_count": 11,
   "metadata": {},
   "outputs": [
    {
     "data": {
      "image/png": "[encoded data removed]",
      "text/plain": [
       "<Figure size 432x288 with 1 Axes>"
      ]
     },
     "metadata": {
      "needs_background": "light"
     },
     "output_type": "display_data"
    }
   ],
   "source": [
    "# Summarize history for accuracy\n",
    "plt.plot(history.history['accuracy'])\n",
    "plt.plot(history.history['val_accuracy'])\n",
    "plt.title('model accuracy')\n",
    "plt.ylabel('accuracy')\n",
    "plt.xlabel('epoch')\n",
    "plt.legend(['train', 'test'], loc='upper left')\n",
    "plt.show()"
   ]
  },
  {
   "cell_type": "code",
   "execution_count": 12,
   "metadata": {},
   "outputs": [
    {
     "data": {
      "image/png": "[encoded data removed]",
      "text/plain": [
       "<Figure size 432x288 with 1 Axes>"
      ]
     },
     "metadata": {
      "needs_background": "light"
     },
     "output_type": "display_data"
    }
   ],
   "source": [
    "# Summarize history for loss\n",
    "plt.plot(history.history['loss'])\n",
    "plt.plot(history.history['val_loss'])\n",
    "plt.title('model loss')\n",
    "plt.ylabel('loss')\n",
    "plt.xlabel('epoch')\n",
    "plt.legend(['train', 'test'], loc='upper left')\n",
    "plt.show()"
   ]
  },
  {
   "cell_type": "code",
   "execution_count": null,
   "metadata": {},
   "outputs": [],
   "source": []
  }
 ],
 "metadata": {
  "kernelspec": {
   "display_name": "Python 3 (ipykernel)",
   "language": "python",
   "name": "python3"
  },
  "language_info": {
   "codemirror_mode": {
    "name": "ipython",
    "version": 3
   },
   "file_extension": ".py",
   "mimetype": "text/x-python",
   "name": "python",
   "nbconvert_exporter": "python",
   "pygments_lexer": "ipython3",
   "version": "3.8.10"
  }
 },
 "nbformat": 4,
 "nbformat_minor": 5
}
