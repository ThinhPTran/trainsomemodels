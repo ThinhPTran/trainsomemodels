{
 "cells": [
  {
   "cell_type": "code",
   "execution_count": 1,
   "id": "a7c457c6",
   "metadata": {},
   "outputs": [],
   "source": [
    "# Try matplotlib"
   ]
  },
  {
   "cell_type": "code",
   "execution_count": 5,
   "id": "f3ea84fc",
   "metadata": {},
   "outputs": [
    {
     "data": {
      "image/png": "[encoded data removed]",
      "text/plain": [
       "<Figure size 540x252 with 1 Axes>"
      ]
     },
     "metadata": {
      "needs_background": "light"
     },
     "output_type": "display_data"
    }
   ],
   "source": [
    "import numpy as np\n",
    "import matplotlib.pyplot as plt\n",
    "\n",
    "plt.rcParams[\"figure.figsize\"] = [7.50, 3.50]\n",
    "plt.rcParams[\"figure.autolayout\"] = True\n",
    "soa = np.array([[0, 0, 3, 2], [0,0,4,5], [0,0,9,9]])\n",
    "X, Y, U, V = zip(*soa)\n",
    "plt.figure()\n",
    "ax = plt.gca()\n",
    "ax.quiver(X, Y, U, V, angles='xy', scale_units='xy', scale=1, color=['red', 'green', 'yellow'])\n",
    "ax.set_xlim([-1, 10])\n",
    "ax.set_ylim([-1, 10])\n",
    "plt.draw()\n",
    "plt.show()"
   ]
  },
  {
   "cell_type": "code",
   "execution_count": 6,
   "id": "e5854778",
   "metadata": {},
   "outputs": [],
   "source": [
    "# w1 = 0.8, w2 = 0.2\n",
    "# U = w1*x + w2 * y - 5.2\n",
    "# V = w1*y + w2 * x - 70.2"
   ]
  },
  {
   "cell_type": "code",
   "execution_count": 11,
   "id": "e0f6288b",
   "metadata": {},
   "outputs": [
    {
     "data": {
      "text/latex": [
       "$$\n",
       "\\begin{dcases}\n",
       "u = 0.8x + 0.2y - 5.2 \\\\\n",
       "v = 0.2x + 0.8y - 70.2\n",
       "\\end{dcases}\n",
       "u^v\n",
       "$$\n"
      ],
      "text/plain": [
       "<IPython.core.display.Latex object>"
      ]
     },
     "metadata": {},
     "output_type": "display_data"
    }
   ],
   "source": [
    "%%latex\n",
    "$$\n",
    "\\begin{dcases}\n",
    "u = 0.8x + 0.2y - 5.2 \\\\\n",
    "v = 0.2x + 0.8y - 70.2\n",
    "\\end{dcases}\n",
    "$$"
   ]
  },
  {
   "cell_type": "code",
   "execution_count": 38,
   "id": "ded60067",
   "metadata": {},
   "outputs": [
    {
     "data": {
      "text/plain": [
       "array([[ -5.2],\n",
       "       [-70.2],\n",
       "       [  1. ]])"
      ]
     },
     "execution_count": 38,
     "metadata": {},
     "output_type": "execute_result"
    }
   ],
   "source": [
    "# (0,0) -> (-5.2, -70.2)\n",
    "In = np.array([[0], [0], [1]])\n",
    "RT = np.array([[0.8, 0.2, -5.2], [0.2, 0.8, -70.2], [0, 0, 1]])\n",
    "Out = np.matmul(RT, In)\n",
    "Out"
   ]
  },
  {
   "cell_type": "code",
   "execution_count": 39,
   "id": "fa21707a",
   "metadata": {},
   "outputs": [
    {
     "data": {
      "text/plain": [
       "array([[ -4.4],\n",
       "       [-70. ],\n",
       "       [  1. ]])"
      ]
     },
     "execution_count": 39,
     "metadata": {},
     "output_type": "execute_result"
    }
   ],
   "source": [
    "# (1,0) -> (-4.4, -70)\n",
    "In = np.array([[1], [0], [1]])\n",
    "Out = np.matmul(RT, In)\n",
    "Out\n"
   ]
  },
  {
   "cell_type": "code",
   "execution_count": 40,
   "id": "516c504b",
   "metadata": {},
   "outputs": [
    {
     "data": {
      "text/plain": [
       "array([[ -5. ],\n",
       "       [-69.4],\n",
       "       [  1. ]])"
      ]
     },
     "execution_count": 40,
     "metadata": {},
     "output_type": "execute_result"
    }
   ],
   "source": [
    "# (0,1) -> (-5, -69.4)\n",
    "In = np.array([[0], [1], [1]])\n",
    "Out = np.matmul(RT, In)\n",
    "Out"
   ]
  },
  {
   "cell_type": "code",
   "execution_count": 41,
   "id": "81b5d5f5",
   "metadata": {},
   "outputs": [
    {
     "data": {
      "text/plain": [
       "array([[0.],\n",
       "       [0.],\n",
       "       [1.]])"
      ]
     },
     "execution_count": 41,
     "metadata": {},
     "output_type": "execute_result"
    }
   ],
   "source": [
    "#Now remove Translation part\n",
    "# (0,0) -> (0, 0)\n",
    "In = np.array([[0], [0], [1]])\n",
    "RT = np.array([[0.8, 0.2, 0], [0.2, 0.8, 0], [0, 0, 1]])\n",
    "Out = np.matmul(RT, In)\n",
    "Out"
   ]
  },
  {
   "cell_type": "code",
   "execution_count": 42,
   "id": "24e6e095",
   "metadata": {},
   "outputs": [
    {
     "data": {
      "text/plain": [
       "array([[0.8],\n",
       "       [0.2],\n",
       "       [1. ]])"
      ]
     },
     "execution_count": 42,
     "metadata": {},
     "output_type": "execute_result"
    }
   ],
   "source": [
    "# (1,0) -> (0.8, 0.2)\n",
    "In = np.array([[1], [0], [1]])\n",
    "Out = np.matmul(RT, In)\n",
    "Out"
   ]
  },
  {
   "cell_type": "code",
   "execution_count": 43,
   "id": "c77e762f",
   "metadata": {},
   "outputs": [
    {
     "data": {
      "text/plain": [
       "array([[0.2],\n",
       "       [0.8],\n",
       "       [1. ]])"
      ]
     },
     "execution_count": 43,
     "metadata": {},
     "output_type": "execute_result"
    }
   ],
   "source": [
    "# (0,1) -> (0.2, 0.8)\n",
    "In = np.array([[0], [1], [1]])\n",
    "Out = np.matmul(RT, In)\n",
    "Out"
   ]
  },
  {
   "cell_type": "code",
   "execution_count": 62,
   "id": "370f9223",
   "metadata": {},
   "outputs": [
    {
     "data": {
      "image/png": "[encoded data removed]",
      "text/plain": [
       "<Figure size 252x252 with 1 Axes>"
      ]
     },
     "metadata": {
      "needs_background": "light"
     },
     "output_type": "display_data"
    }
   ],
   "source": [
    "plt.rcParams[\"figure.figsize\"] = [3.5, 3.5]\n",
    "soa = np.array([[0, 0, 1, 0], [0,0,0,1], [0,0,0.8,0.2], [0,0,0.2,0.8], [0,0,-0.8,-0.2], [0,0,-0.2,-0.8], []])\n",
    "X, Y, U, V = zip(*soa)\n",
    "plt.figure()\n",
    "ax = plt.gca()\n",
    "ax.quiver(X, Y, U, V, angles='xy', scale_units='xy', scale=1, color=['lightblue','orange', 'blue', 'red', 'blue', 'red'])\n",
    "ax.set_xlim([-1, 1])\n",
    "ax.set_ylim([-1, 1])\n",
    "plt.draw()\n",
    "plt.show()"
   ]
  },
  {
   "cell_type": "code",
   "execution_count": 63,
   "id": "f69a085b",
   "metadata": {},
   "outputs": [
    {
     "data": {
      "text/plain": [
       "array([[1.],\n",
       "       [1.],\n",
       "       [1.]])"
      ]
     },
     "execution_count": 63,
     "metadata": {},
     "output_type": "execute_result"
    }
   ],
   "source": [
    "# (1,0) -> (0.8, 0.2)\n",
    "In = np.array([[1], [1], [1]])\n",
    "Out = np.matmul(RT, In)\n",
    "Out"
   ]
  },
  {
   "cell_type": "code",
   "execution_count": null,
   "id": "234521ea",
   "metadata": {},
   "outputs": [],
   "source": []
  }
 ],
 "metadata": {
  "kernelspec": {
   "display_name": "Python 3 (ipykernel)",
   "language": "python",
   "name": "python3"
  },
  "language_info": {
   "codemirror_mode": {
    "name": "ipython",
    "version": 3
   },
   "file_extension": ".py",
   "mimetype": "text/x-python",
   "name": "python",
   "nbconvert_exporter": "python",
   "pygments_lexer": "ipython3",
   "version": "3.9.10"
  }
 },
 "nbformat": 4,
 "nbformat_minor": 5
}
