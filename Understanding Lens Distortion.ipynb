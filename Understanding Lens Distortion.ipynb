{
 "cells": [
  {
   "cell_type": "markdown",
   "id": "dcdf7721",
   "metadata": {},
   "source": [
    "To generate clear and sharp images the diameter of the aperture\n",
    "(hole) of a pinhole camera should e as small as possible. \n",
    "If we increase the size of the aperture, we know that rays \n",
    "from multiple points of the object whould be incident on the\n",
    "same part of the screen creating a blurred image."
   ]
  },
  {
   "cell_type": "markdown",
   "id": "088cd319",
   "metadata": {},
   "source": [
    "So, smaller the aperture of the pinhole camera, more focused is \n",
    "the image but, at the same time, darker and noisier it is."
   ]
  },
  {
   "cell_type": "markdown",
   "id": "6e9fe53b",
   "metadata": {},
   "source": [
    "How do we get a sharp image but at the same time capture more \n",
    "light rays to make the image bright?"
   ]
  },
  {
   "cell_type": "markdown",
   "id": "285a8467",
   "metadata": {},
   "source": [
    "We replace the pinhole by a lens thus increasing the size of \n",
    "the apeture through which light rays can pass. A lens allows \n",
    "larger number of rays to pass through the hole and because of \n",
    "its optical properties it can also focus them on the screen. \n",
    "This make image brighter."
   ]
  },
  {
   "cell_type": "markdown",
   "id": "91c69447",
   "metadata": {},
   "source": [
    "Awesome! So we have bright and sharp, focused image using a lens.\n",
    "\n",
    "The problem is solved? Right? Not so fast. Nothing comes for free!"
   ]
  },
  {
   "cell_type": "markdown",
   "id": "62f79c2e",
   "metadata": {},
   "source": [
    "By using a lens we get better quality images but the lens \n",
    "introduces some distorsion effects. There are two major types\n",
    "of distortion effects:\n",
    "    \n",
    "1. Radial distortion: This type of distortion usually occor\n",
    "    due unequal bending of light. The rays bend more near \n",
    "    the edges of the lens than the rays near the center of the \n",
    "    lens. Due to radial distortion straight lines in real world\n",
    "    appear to be curved in the image. The light ray get displaced\n",
    "    radially inward or outward from its ideal location before\n",
    "    hitting the image sensor. There are two type of radial \n",
    "    distortion effect.\n",
    "    a. Barrel distortion effect which corresponds to negative \n",
    "    radial displacement.\n",
    "    b. Pincushion distortion effect which corresponds to a \n",
    "    positive radial displacement.\n",
    "2. Tangential distortion: This usually occurs when image screen\n",
    "    or sensor is at an angle with respect to the lens. Thus the\n",
    "    image seems to be tilted and stretched."
   ]
  },
  {
   "cell_type": "markdown",
   "id": "a20063b5",
   "metadata": {},
   "source": [
    "![title](https://learnopencv.com/wp-content/uploads/2019/10/radial-distortions.png)"
   ]
  },
  {
   "cell_type": "code",
   "execution_count": null,
   "id": "f5df23ec",
   "metadata": {},
   "outputs": [],
   "source": []
  }
 ],
 "metadata": {
  "kernelspec": {
   "display_name": "Python 3 (ipykernel)",
   "language": "python",
   "name": "python3"
  },
  "language_info": {
   "codemirror_mode": {
    "name": "ipython",
    "version": 3
   },
   "file_extension": ".py",
   "mimetype": "text/x-python",
   "name": "python",
   "nbconvert_exporter": "python",
   "pygments_lexer": "ipython3",
   "version": "3.9.10"
  }
 },
 "nbformat": 4,
 "nbformat_minor": 5
}
