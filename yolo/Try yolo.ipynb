{
 "cells": [
  {
   "cell_type": "code",
   "execution_count": 1,
   "id": "a754a451",
   "metadata": {},
   "outputs": [],
   "source": [
    "import numpy as np\n",
    "import time\n",
    "import cv2"
   ]
  },
  {
   "cell_type": "code",
   "execution_count": 5,
   "id": "1d92ff38",
   "metadata": {},
   "outputs": [],
   "source": [
    "INPUT_FILE='../Image/zebra.jpg'\n",
    "OUTPUT_FILE='../Image/predicted.jpg'\n",
    "LABELS_FILE='./coco.names'\n",
    "CONFIG_FILE='../Data/yolov3.cfg'\n",
    "WEIGHTS_FILE='../Data/yolov3.weights'\n",
    "CONFIDENCE_THRESHOLD=0.1"
   ]
  },
  {
   "cell_type": "code",
   "execution_count": 6,
   "id": "d654ee54",
   "metadata": {},
   "outputs": [
    {
     "name": "stdout",
     "output_type": "stream",
     "text": [
      "['person', 'bicycle', 'car', 'motorbike', 'aeroplane', 'bus', 'train', 'truck', 'boat', 'traffic light', 'fire hydrant', 'stop sign', 'parking meter', 'bench', 'bird', 'cat', 'dog', 'horse', 'sheep', 'cow', 'elephant', 'bear', 'zebra', 'giraffe', 'backpack', 'umbrella', 'handbag', 'tie', 'suitcase', 'frisbee', 'skis', 'snowboard', 'sports ball', 'kite', 'baseball bat', 'baseball glove', 'skateboard', 'surfboard', 'tennis racket', 'bottle', 'wine glass', 'cup', 'fork', 'knife', 'spoon', 'bowl', 'banana', 'apple', 'sandwich', 'orange', 'broccoli', 'carrot', 'hot dog', 'pizza', 'donut', 'cake', 'chair', 'sofa', 'pottedplant', 'bed', 'diningtable', 'toilet', 'tvmonitor', 'laptop', 'mouse', 'remote', 'keyboard', 'cell phone', 'microwave', 'oven', 'toaster', 'sink', 'refrigerator', 'book', 'clock', 'vase', 'scissors', 'teddy bear', 'hair drier', 'toothbrush']\n"
     ]
    }
   ],
   "source": [
    "LABELS = open(LABELS_FILE).read().strip().split(\"\\n\")\n",
    "print(LABELS)"
   ]
  },
  {
   "cell_type": "code",
   "execution_count": 7,
   "id": "acaa2f82",
   "metadata": {},
   "outputs": [],
   "source": [
    "np.random.seed(4)\n",
    "COLORS = np.random.randint(0, 255, size=(len(LABELS), 3),dtype=\"uint8\")"
   ]
  },
  {
   "cell_type": "code",
   "execution_count": 8,
   "id": "a2ab5ffa",
   "metadata": {},
   "outputs": [],
   "source": [
    "net = cv2.dnn.readNetFromDarknet(CONFIG_FILE, WEIGHTS_FILE)\n",
    "net.setPreferableBackend(cv2.dnn.DNN_BACKEND_OPENCV)"
   ]
  },
  {
   "cell_type": "code",
   "execution_count": 9,
   "id": "8ccab936",
   "metadata": {},
   "outputs": [
    {
     "name": "stdout",
     "output_type": "stream",
     "text": [
      "H: 386 W: 640\n"
     ]
    }
   ],
   "source": [
    "image = cv2.imread(INPUT_FILE)\n",
    "(H, W) = image.shape[:2]\n",
    "\n",
    "print(\"H: %d W: %d\" %(H, W))"
   ]
  },
  {
   "cell_type": "code",
   "execution_count": 27,
   "id": "504b77e2",
   "metadata": {},
   "outputs": [
    {
     "name": "stdout",
     "output_type": "stream",
     "text": [
      "('conv_0', 'bn_0', 'leaky_1', 'conv_1', 'bn_1', 'leaky_2', 'conv_2', 'bn_2', 'leaky_3', 'conv_3', 'bn_3', 'leaky_4', 'shortcut_4', 'conv_5', 'bn_5', 'leaky_6', 'conv_6', 'bn_6', 'leaky_7', 'conv_7', 'bn_7', 'leaky_8', 'shortcut_8', 'conv_9', 'bn_9', 'leaky_10', 'conv_10', 'bn_10', 'leaky_11', 'shortcut_11', 'conv_12', 'bn_12', 'leaky_13', 'conv_13', 'bn_13', 'leaky_14', 'conv_14', 'bn_14', 'leaky_15', 'shortcut_15', 'conv_16', 'bn_16', 'leaky_17', 'conv_17', 'bn_17', 'leaky_18', 'shortcut_18', 'conv_19', 'bn_19', 'leaky_20', 'conv_20', 'bn_20', 'leaky_21', 'shortcut_21', 'conv_22', 'bn_22', 'leaky_23', 'conv_23', 'bn_23', 'leaky_24', 'shortcut_24', 'conv_25', 'bn_25', 'leaky_26', 'conv_26', 'bn_26', 'leaky_27', 'shortcut_27', 'conv_28', 'bn_28', 'leaky_29', 'conv_29', 'bn_29', 'leaky_30', 'shortcut_30', 'conv_31', 'bn_31', 'leaky_32', 'conv_32', 'bn_32', 'leaky_33', 'shortcut_33', 'conv_34', 'bn_34', 'leaky_35', 'conv_35', 'bn_35', 'leaky_36', 'shortcut_36', 'conv_37', 'bn_37', 'leaky_38', 'conv_38', 'bn_38', 'leaky_39', 'conv_39', 'bn_39', 'leaky_40', 'shortcut_40', 'conv_41', 'bn_41', 'leaky_42', 'conv_42', 'bn_42', 'leaky_43', 'shortcut_43', 'conv_44', 'bn_44', 'leaky_45', 'conv_45', 'bn_45', 'leaky_46', 'shortcut_46', 'conv_47', 'bn_47', 'leaky_48', 'conv_48', 'bn_48', 'leaky_49', 'shortcut_49', 'conv_50', 'bn_50', 'leaky_51', 'conv_51', 'bn_51', 'leaky_52', 'shortcut_52', 'conv_53', 'bn_53', 'leaky_54', 'conv_54', 'bn_54', 'leaky_55', 'shortcut_55', 'conv_56', 'bn_56', 'leaky_57', 'conv_57', 'bn_57', 'leaky_58', 'shortcut_58', 'conv_59', 'bn_59', 'leaky_60', 'conv_60', 'bn_60', 'leaky_61', 'shortcut_61', 'conv_62', 'bn_62', 'leaky_63', 'conv_63', 'bn_63', 'leaky_64', 'conv_64', 'bn_64', 'leaky_65', 'shortcut_65', 'conv_66', 'bn_66', 'leaky_67', 'conv_67', 'bn_67', 'leaky_68', 'shortcut_68', 'conv_69', 'bn_69', 'leaky_70', 'conv_70', 'bn_70', 'leaky_71', 'shortcut_71', 'conv_72', 'bn_72', 'leaky_73', 'conv_73', 'bn_73', 'leaky_74', 'shortcut_74', 'conv_75', 'bn_75', 'leaky_76', 'conv_76', 'bn_76', 'leaky_77', 'conv_77', 'bn_77', 'leaky_78', 'conv_78', 'bn_78', 'leaky_79', 'conv_79', 'bn_79', 'leaky_80', 'conv_80', 'bn_80', 'leaky_81', 'conv_81', 'permute_82', 'yolo_82', 'identity_83', 'conv_84', 'bn_84', 'leaky_85', 'upsample_85', 'concat_86', 'conv_87', 'bn_87', 'leaky_88', 'conv_88', 'bn_88', 'leaky_89', 'conv_89', 'bn_89', 'leaky_90', 'conv_90', 'bn_90', 'leaky_91', 'conv_91', 'bn_91', 'leaky_92', 'conv_92', 'bn_92', 'leaky_93', 'conv_93', 'permute_94', 'yolo_94', 'identity_95', 'conv_96', 'bn_96', 'leaky_97', 'upsample_97', 'concat_98', 'conv_99', 'bn_99', 'leaky_100', 'conv_100', 'bn_100', 'leaky_101', 'conv_101', 'bn_101', 'leaky_102', 'conv_102', 'bn_102', 'leaky_103', 'conv_103', 'bn_103', 'leaky_104', 'conv_104', 'bn_104', 'leaky_105', 'conv_105', 'permute_106', 'yolo_106')\n",
      "-----------------------\n",
      "['yolo_82', 'yolo_94', 'yolo_106']\n"
     ]
    }
   ],
   "source": [
    "# determine only the *output* layer names that we need from YOLO\n",
    "ln = net.getLayerNames()\n",
    "print(ln)\n",
    "ln = [ln[i - 1] for i in net.getUnconnectedOutLayers()]\n",
    "print(\"-----------------------\")\n",
    "print(ln)"
   ]
  },
  {
   "cell_type": "code",
   "execution_count": 28,
   "id": "686318af",
   "metadata": {},
   "outputs": [],
   "source": [
    "blob = cv2.dnn.blobFromImage(image, 1 / 255.0, (416, 416), swapRB=True, crop=False)"
   ]
  },
  {
   "cell_type": "code",
   "execution_count": 29,
   "id": "9a5e5ea6",
   "metadata": {},
   "outputs": [],
   "source": [
    "net.setInput(blob)"
   ]
  },
  {
   "cell_type": "code",
   "execution_count": 30,
   "id": "cd4d02a7",
   "metadata": {},
   "outputs": [],
   "source": [
    "start = time.time()\n",
    "layerOutputs = net.forward(ln)\n",
    "end = time.time()"
   ]
  },
  {
   "cell_type": "code",
   "execution_count": 31,
   "id": "c9de2634",
   "metadata": {},
   "outputs": [
    {
     "name": "stdout",
     "output_type": "stream",
     "text": [
      "[INFO] YOLO took 2.425287 seconds\n"
     ]
    }
   ],
   "source": [
    "print(\"[INFO] YOLO took {:.6f} seconds\".format(end - start))"
   ]
  },
  {
   "cell_type": "code",
   "execution_count": 32,
   "id": "dbce1955",
   "metadata": {
    "scrolled": true
   },
   "outputs": [
    {
     "name": "stdout",
     "output_type": "stream",
     "text": [
      "3\n",
      "(507, 85)\n",
      "(2028, 85)\n",
      "(8112, 85)\n"
     ]
    }
   ],
   "source": [
    "print(len(layerOutputs))\n",
    "for out in layerOutputs:\n",
    "    print(out.shape)"
   ]
  },
  {
   "cell_type": "code",
   "execution_count": 33,
   "id": "7dd1f738",
   "metadata": {},
   "outputs": [
    {
     "data": {
      "text/plain": [
       "True"
      ]
     },
     "execution_count": 33,
     "metadata": {},
     "output_type": "execute_result"
    }
   ],
   "source": [
    "# initialize our lists of detected bounding boxes, confidences, and\n",
    "# class IDs, respectively\n",
    "boxes = []\n",
    "confidences = []\n",
    "classIDs = []\n",
    "\n",
    "# loop over each of the layer outputs\n",
    "for output in layerOutputs:\n",
    "\t# loop over each of the detections\n",
    "\tfor detection in output:\n",
    "\t\t# extract the class ID and confidence (i.e., probability) of\n",
    "\t\t# the current object detection\n",
    "\t\tscores = detection[5:]\n",
    "\t\tclassID = np.argmax(scores)\n",
    "\t\tconfidence = scores[classID]\n",
    "\n",
    "\t\t# filter out weak predictions by ensuring the detected\n",
    "\t\t# probability is greater than the minimum probability\n",
    "\t\tif confidence > CONFIDENCE_THRESHOLD:\n",
    "\t\t\t# scale the bounding box coordinates back relative to the\n",
    "\t\t\t# size of the image, keeping in mind that YOLO actually\n",
    "\t\t\t# returns the center (x, y)-coordinates of the bounding\n",
    "\t\t\t# box followed by the boxes' width and height\n",
    "\t\t\tbox = detection[0:4] * np.array([W, H, W, H])\n",
    "\t\t\t(centerX, centerY, width, height) = box.astype(\"int\")\n",
    "\n",
    "\t\t\t# use the center (x, y)-coordinates to derive the top and\n",
    "\t\t\t# and left corner of the bounding box\n",
    "\t\t\tx = int(centerX - (width / 2))\n",
    "\t\t\ty = int(centerY - (height / 2))\n",
    "\n",
    "\t\t\t# update our list of bounding box coordinates, confidences,\n",
    "\t\t\t# and class IDs\n",
    "\t\t\tboxes.append([x, y, int(width), int(height)])\n",
    "\t\t\tconfidences.append(float(confidence))\n",
    "\t\t\tclassIDs.append(classID)\n",
    "\n",
    "# apply non-maxima suppression to suppress weak, overlapping bounding\n",
    "# boxes\n",
    "idxs = cv2.dnn.NMSBoxes(boxes, confidences, CONFIDENCE_THRESHOLD,\n",
    "\tCONFIDENCE_THRESHOLD)\n",
    "\n",
    "# ensure at least one detection exists\n",
    "if len(idxs) > 0:\n",
    "\t# loop over the indexes we are keeping\n",
    "\tfor i in idxs.flatten():\n",
    "\t\t# extract the bounding box coordinates\n",
    "\t\t(x, y) = (boxes[i][0], boxes[i][1])\n",
    "\t\t(w, h) = (boxes[i][2], boxes[i][3])\n",
    "\n",
    "\t\tcolor = [int(c) for c in COLORS[classIDs[i]]]\n",
    "\n",
    "\t\tcv2.rectangle(image, (x, y), (x + w, y + h), color, 2)\n",
    "\t\ttext = \"{}: {:.4f}\".format(LABELS[classIDs[i]], confidences[i])\n",
    "\t\tcv2.putText(image, text, (x, y - 5), cv2.FONT_HERSHEY_SIMPLEX,\n",
    "\t\t\t0.5, color, 2)\n",
    "\n",
    "# show the output image\n",
    "cv2.imwrite(\"example.png\", image)"
   ]
  },
  {
   "cell_type": "code",
   "execution_count": null,
   "id": "3e9962fb",
   "metadata": {},
   "outputs": [],
   "source": []
  }
 ],
 "metadata": {
  "kernelspec": {
   "display_name": "Python 3 (ipykernel)",
   "language": "python",
   "name": "python3"
  },
  "language_info": {
   "codemirror_mode": {
    "name": "ipython",
    "version": 3
   },
   "file_extension": ".py",
   "mimetype": "text/x-python",
   "name": "python",
   "nbconvert_exporter": "python",
   "pygments_lexer": "ipython3",
   "version": "3.8.10"
  }
 },
 "nbformat": 4,
 "nbformat_minor": 5
}
