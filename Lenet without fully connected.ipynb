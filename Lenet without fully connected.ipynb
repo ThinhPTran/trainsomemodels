{
 "cells": [
  {
   "cell_type": "code",
   "execution_count": 1,
   "id": "12850ce2",
   "metadata": {},
   "outputs": [],
   "source": [
    "from pylab import *\n",
    "%matplotlib inline"
   ]
  },
  {
   "cell_type": "code",
   "execution_count": 2,
   "id": "1976e73f",
   "metadata": {},
   "outputs": [],
   "source": [
    "caffe_root = '../'  # this file should be run from {caffe_root}/examples (otherwise change this line)\n",
    "import caffe\n",
    "import sys"
   ]
  },
  {
   "cell_type": "code",
   "execution_count": 3,
   "id": "1d80e21c",
   "metadata": {},
   "outputs": [
    {
     "name": "stdout",
     "output_type": "stream",
     "text": [
      "Downloading...\n",
      "Creating lmdb...\n",
      "I0127 10:19:11.276899  4018 db_lmdb.cpp:35] Opened lmdb examples/mnist/mnist_train_lmdb\n",
      "I0127 10:19:11.277186  4018 convert_mnist_data.cpp:88] A total of 60000 items.\n",
      "I0127 10:19:11.277289  4018 convert_mnist_data.cpp:89] Rows: 28 Cols: 28\n",
      "I0127 10:19:12.352427  4018 convert_mnist_data.cpp:108] Processed 60000 files.\n",
      "I0127 10:19:12.360935  4019 db_lmdb.cpp:35] Opened lmdb examples/mnist/mnist_test_lmdb\n",
      "I0127 10:19:12.361186  4019 convert_mnist_data.cpp:88] A total of 10000 items.\n",
      "I0127 10:19:12.361193  4019 convert_mnist_data.cpp:89] Rows: 28 Cols: 28\n",
      "I0127 10:19:12.548287  4019 convert_mnist_data.cpp:108] Processed 10000 files.\n",
      "Done.\n"
     ]
    }
   ],
   "source": [
    "# run scripts from caffe root\n",
    "import os\n",
    "os.chdir(caffe_root)\n",
    "# Download data\n",
    "!data/mnist/get_mnist.sh\n",
    "# Prepare data\n",
    "!examples/mnist/create_mnist.sh\n",
    "# back to examples\n",
    "os.chdir('examples')"
   ]
  },
  {
   "cell_type": "code",
   "execution_count": 4,
   "id": "3ff156ea",
   "metadata": {},
   "outputs": [],
   "source": [
    "from caffe import layers as L, params as P\n",
    "\n",
    "def lenet(lmdb, batch_size):\n",
    "    # our version of LeNet: a series of linear and simple nonlinear transformations\n",
    "    n = caffe.NetSpec()\n",
    "    \n",
    "    n.data, n.label = L.Data(batch_size=batch_size, backend=P.Data.LMDB, source=lmdb,\n",
    "                             transform_param=dict(scale=1./255), ntop=2)\n",
    "    \n",
    "    n.conv1 = L.Convolution(n.data, kernel_size=5, num_output=20, weight_filler=dict(type='xavier'))\n",
    "    n.pool1 = L.Pooling(n.conv1, kernel_size=2, stride=2, pool=P.Pooling.MAX)\n",
    "    n.conv2 = L.Convolution(n.pool1, kernel_size=5, num_output=50, weight_filler=dict(type='xavier'))\n",
    "    n.pool2 = L.Pooling(n.conv2, kernel_size=2, stride=2, pool=P.Pooling.MAX)\n",
    "    n.prd1 =  L.InnerProduct(n.pool2, num_output=500, weight_filler=dict(type='xavier'))\n",
    "    n.score = L.InnerProduct(n.prd1, num_output=10, weight_filler=dict(type='xavier'))\n",
    "    n.loss =  L.SoftmaxWithLoss(n.score, n.label)\n",
    "    \n",
    "    return n.to_proto()\n",
    "    \n",
    "with open('mnist/lenet_auto_train.prototxt', 'w') as f:\n",
    "    f.write(str(lenet('mnist/mnist_train_lmdb', 64)))\n",
    "    \n",
    "with open('mnist/lenet_auto_test.prototxt', 'w') as f:\n",
    "    f.write(str(lenet('mnist/mnist_test_lmdb', 100)))"
   ]
  },
  {
   "cell_type": "code",
   "execution_count": 5,
   "id": "b3b25463",
   "metadata": {},
   "outputs": [
    {
     "name": "stdout",
     "output_type": "stream",
     "text": [
      "layer {\r\n",
      "  name: \"data\"\r\n",
      "  type: \"Data\"\r\n",
      "  top: \"data\"\r\n",
      "  top: \"label\"\r\n",
      "  transform_param {\r\n",
      "    scale: 0.003921568859368563\r\n",
      "  }\r\n",
      "  data_param {\r\n",
      "    source: \"mnist/mnist_train_lmdb\"\r\n",
      "    batch_size: 64\r\n",
      "    backend: LMDB\r\n",
      "  }\r\n",
      "}\r\n",
      "layer {\r\n",
      "  name: \"conv1\"\r\n",
      "  type: \"Convolution\"\r\n",
      "  bottom: \"data\"\r\n",
      "  top: \"conv1\"\r\n",
      "  convolution_param {\r\n",
      "    num_output: 20\r\n",
      "    kernel_size: 5\r\n",
      "    weight_filler {\r\n",
      "      type: \"xavier\"\r\n",
      "    }\r\n",
      "  }\r\n",
      "}\r\n",
      "layer {\r\n",
      "  name: \"pool1\"\r\n",
      "  type: \"Pooling\"\r\n",
      "  bottom: \"conv1\"\r\n",
      "  top: \"pool1\"\r\n",
      "  pooling_param {\r\n",
      "    pool: MAX\r\n",
      "    kernel_size: 2\r\n",
      "    stride: 2\r\n",
      "  }\r\n",
      "}\r\n",
      "layer {\r\n",
      "  name: \"conv2\"\r\n",
      "  type: \"Convolution\"\r\n",
      "  bottom: \"pool1\"\r\n",
      "  top: \"conv2\"\r\n",
      "  convolution_param {\r\n",
      "    num_output: 50\r\n",
      "    kernel_size: 5\r\n",
      "    weight_filler {\r\n",
      "      type: \"xavier\"\r\n",
      "    }\r\n",
      "  }\r\n",
      "}\r\n",
      "layer {\r\n",
      "  name: \"pool2\"\r\n",
      "  type: \"Pooling\"\r\n",
      "  bottom: \"conv2\"\r\n",
      "  top: \"pool2\"\r\n",
      "  pooling_param {\r\n",
      "    pool: MAX\r\n",
      "    kernel_size: 2\r\n",
      "    stride: 2\r\n",
      "  }\r\n",
      "}\r\n",
      "layer {\r\n",
      "  name: \"prd1\"\r\n",
      "  type: \"InnerProduct\"\r\n",
      "  bottom: \"pool2\"\r\n",
      "  top: \"prd1\"\r\n",
      "  inner_product_param {\r\n",
      "    num_output: 500\r\n",
      "    weight_filler {\r\n",
      "      type: \"xavier\"\r\n",
      "    }\r\n",
      "  }\r\n",
      "}\r\n",
      "layer {\r\n",
      "  name: \"score\"\r\n",
      "  type: \"InnerProduct\"\r\n",
      "  bottom: \"prd1\"\r\n",
      "  top: \"score\"\r\n",
      "  inner_product_param {\r\n",
      "    num_output: 10\r\n",
      "    weight_filler {\r\n",
      "      type: \"xavier\"\r\n",
      "    }\r\n",
      "  }\r\n",
      "}\r\n",
      "layer {\r\n",
      "  name: \"loss\"\r\n",
      "  type: \"SoftmaxWithLoss\"\r\n",
      "  bottom: \"score\"\r\n",
      "  bottom: \"label\"\r\n",
      "  top: \"loss\"\r\n",
      "}\r\n"
     ]
    }
   ],
   "source": [
    "# Check model config\n",
    "!cat mnist/lenet_auto_train.prototxt"
   ]
  },
  {
   "cell_type": "code",
   "execution_count": 6,
   "id": "b5d7501f",
   "metadata": {},
   "outputs": [
    {
     "name": "stdout",
     "output_type": "stream",
     "text": [
      "# The train/test net protocol buffer definition\r\n",
      "train_net: \"mnist/lenet_auto_train.prototxt\"\r\n",
      "test_net: \"mnist/lenet_auto_test.prototxt\"\r\n",
      "# test_iter specifies how many forward passes the test should carry out.\r\n",
      "# In the case of MNIST, we have test batch size 100 and 100 test iterations,\r\n",
      "# covering the full 10,000 testing images.\r\n",
      "test_iter: 100\r\n",
      "# Carry out testing every 500 training iterations.\r\n",
      "test_interval: 500\r\n",
      "# The base learning rate, momentum and the weight decay of the network.\r\n",
      "base_lr: 0.01\r\n",
      "momentum: 0.9\r\n",
      "weight_decay: 0.0005\r\n",
      "# The learning rate policy\r\n",
      "lr_policy: \"inv\"\r\n",
      "gamma: 0.0001\r\n",
      "power: 0.75\r\n",
      "# Display every 100 iterations\r\n",
      "display: 100\r\n",
      "# The maximum number of iterations\r\n",
      "max_iter: 10000\r\n",
      "# snapshot intermediate results\r\n",
      "snapshot: 50\r\n",
      "snapshot_prefix: \"mnist/lenet\"\r\n"
     ]
    }
   ],
   "source": [
    "# Check solver config\n",
    "!cat mnist/lenet_auto_solver.prototxt"
   ]
  },
  {
   "cell_type": "code",
   "execution_count": 7,
   "id": "42318d95",
   "metadata": {},
   "outputs": [
    {
     "name": "stderr",
     "output_type": "stream",
     "text": [
      "WARNING: Logging before InitGoogleLogging() is written to STDERR\n",
      "I0127 10:19:15.753087  3886 solver.cpp:45] Initializing solver from parameters: \n",
      "train_net: \"mnist/lenet_auto_train.prototxt\"\n",
      "test_net: \"mnist/lenet_auto_test.prototxt\"\n",
      "test_iter: 100\n",
      "test_interval: 500\n",
      "base_lr: 0.01\n",
      "display: 100\n",
      "max_iter: 10000\n",
      "lr_policy: \"inv\"\n",
      "gamma: 0.0001\n",
      "power: 0.75\n",
      "momentum: 0.9\n",
      "weight_decay: 0.0005\n",
      "snapshot: 50\n",
      "snapshot_prefix: \"mnist/lenet\"\n",
      "I0127 10:19:15.753295  3886 solver.cpp:92] Creating training net from train_net file: mnist/lenet_auto_train.prototxt\n",
      "I0127 10:19:15.753479  3886 net.cpp:53] Initializing net from parameters: \n",
      "state {\n",
      "  phase: TRAIN\n",
      "}\n",
      "layer {\n",
      "  name: \"data\"\n",
      "  type: \"Data\"\n",
      "  top: \"data\"\n",
      "  top: \"label\"\n",
      "  transform_param {\n",
      "    scale: 0.00392156886\n",
      "  }\n",
      "  data_param {\n",
      "    source: \"mnist/mnist_train_lmdb\"\n",
      "    batch_size: 64\n",
      "    backend: LMDB\n",
      "  }\n",
      "}\n",
      "layer {\n",
      "  name: \"conv1\"\n",
      "  type: \"Convolution\"\n",
      "  bottom: \"data\"\n",
      "  top: \"conv1\"\n",
      "  convolution_param {\n",
      "    num_output: 20\n",
      "    kernel_size: 5\n",
      "    weight_filler {\n",
      "      type: \"xavier\"\n",
      "    }\n",
      "  }\n",
      "}\n",
      "layer {\n",
      "  name: \"pool1\"\n",
      "  type: \"Pooling\"\n",
      "  bottom: \"conv1\"\n",
      "  top: \"pool1\"\n",
      "  pooling_param {\n",
      "    pool: MAX\n",
      "    kernel_size: 2\n",
      "    stride: 2\n",
      "  }\n",
      "}\n",
      "layer {\n",
      "  name: \"conv2\"\n",
      "  type: \"Convolution\"\n",
      "  bottom: \"pool1\"\n",
      "  top: \"conv2\"\n",
      "  convolution_param {\n",
      "    num_output: 50\n",
      "    kernel_size: 5\n",
      "    weight_filler {\n",
      "      type: \"xavier\"\n",
      "    }\n",
      "  }\n",
      "}\n",
      "layer {\n",
      "  name: \"pool2\"\n",
      "  type: \"Pooling\"\n",
      "  bottom: \"conv2\"\n",
      "  top: \"pool2\"\n",
      "  pooling_param {\n",
      "    pool: MAX\n",
      "    kernel_size: 2\n",
      "    stride: 2\n",
      "  }\n",
      "}\n",
      "layer {\n",
      "  name: \"prd1\"\n",
      "  type: \"InnerProduct\"\n",
      "  bottom: \"pool2\"\n",
      "  top: \"prd1\"\n",
      "  inner_product_param {\n",
      "    num_output: 500\n",
      "    weight_filler {\n",
      "      type: \"xavier\"\n",
      "    }\n",
      "  }\n",
      "}\n",
      "layer {\n",
      "  name: \"score\"\n",
      "  type: \"InnerProduct\"\n",
      "  bottom: \"prd1\"\n",
      "  top: \"score\"\n",
      "  inner_product_param {\n",
      "    num_output: 10\n",
      "    weight_filler {\n",
      "      type: \"xavier\"\n",
      "    }\n",
      "  }\n",
      "}\n",
      "layer {\n",
      "  name: \"loss\"\n",
      "  type: \"SoftmaxWithLoss\"\n",
      "  bottom: \"score\"\n",
      "  bottom: \"label\"\n",
      "  top: \"loss\"\n",
      "}\n",
      "I0127 10:19:15.753588  3886 layer_factory.hpp:77] Creating layer data\n",
      "I0127 10:19:15.753664  3886 db_lmdb.cpp:35] Opened lmdb mnist/mnist_train_lmdb\n",
      "I0127 10:19:15.753684  3886 net.cpp:86] Creating Layer data\n",
      "I0127 10:19:15.753691  3886 net.cpp:382] data -> data\n",
      "I0127 10:19:15.753708  3886 net.cpp:382] data -> label\n",
      "I0127 10:19:15.753732  3886 data_layer.cpp:45] output data size: 64,1,28,28\n",
      "I0127 10:19:15.754132  3886 net.cpp:124] Setting up data\n",
      "I0127 10:19:15.754139  3886 net.cpp:131] Top shape: 64 1 28 28 (50176)\n",
      "I0127 10:19:15.754148  3886 net.cpp:131] Top shape: 64 (64)\n",
      "I0127 10:19:15.754155  3886 net.cpp:139] Memory required for data: 200960\n",
      "I0127 10:19:15.754161  3886 layer_factory.hpp:77] Creating layer conv1\n",
      "I0127 10:19:15.754170  3886 net.cpp:86] Creating Layer conv1\n",
      "I0127 10:19:15.754175  3886 net.cpp:408] conv1 <- data\n",
      "I0127 10:19:15.754184  3886 net.cpp:382] conv1 -> conv1\n",
      "I0127 10:19:15.754215  3886 net.cpp:124] Setting up conv1\n",
      "I0127 10:19:15.754220  3886 net.cpp:131] Top shape: 64 20 24 24 (737280)\n",
      "I0127 10:19:15.754227  3886 net.cpp:139] Memory required for data: 3150080\n",
      "I0127 10:19:15.754263  3886 layer_factory.hpp:77] Creating layer pool1\n",
      "I0127 10:19:15.754276  3886 net.cpp:86] Creating Layer pool1\n",
      "I0127 10:19:15.754281  3886 net.cpp:408] pool1 <- conv1\n",
      "I0127 10:19:15.754288  3886 net.cpp:382] pool1 -> pool1\n",
      "I0127 10:19:15.754302  3886 net.cpp:124] Setting up pool1\n",
      "I0127 10:19:15.754307  3886 net.cpp:131] Top shape: 64 20 12 12 (184320)\n",
      "I0127 10:19:15.754314  3886 net.cpp:139] Memory required for data: 3887360\n",
      "I0127 10:19:15.754319  3886 layer_factory.hpp:77] Creating layer conv2\n",
      "I0127 10:19:15.754328  3886 net.cpp:86] Creating Layer conv2\n",
      "I0127 10:19:15.754331  3886 net.cpp:408] conv2 <- pool1\n",
      "I0127 10:19:15.754338  3886 net.cpp:382] conv2 -> conv2\n",
      "I0127 10:19:15.754508  3886 net.cpp:124] Setting up conv2\n",
      "I0127 10:19:15.754513  3886 net.cpp:131] Top shape: 64 50 8 8 (204800)\n",
      "I0127 10:19:15.754520  3886 net.cpp:139] Memory required for data: 4706560\n",
      "I0127 10:19:15.754529  3886 layer_factory.hpp:77] Creating layer pool2\n",
      "I0127 10:19:15.754536  3886 net.cpp:86] Creating Layer pool2\n",
      "I0127 10:19:15.754540  3886 net.cpp:408] pool2 <- conv2\n",
      "I0127 10:19:15.754547  3886 net.cpp:382] pool2 -> pool2\n",
      "I0127 10:19:15.754555  3886 net.cpp:124] Setting up pool2\n",
      "I0127 10:19:15.754560  3886 net.cpp:131] Top shape: 64 50 4 4 (51200)\n",
      "I0127 10:19:15.754567  3886 net.cpp:139] Memory required for data: 4911360\n",
      "I0127 10:19:15.754572  3886 layer_factory.hpp:77] Creating layer prd1\n",
      "I0127 10:19:15.754580  3886 net.cpp:86] Creating Layer prd1\n",
      "I0127 10:19:15.754585  3886 net.cpp:408] prd1 <- pool2\n",
      "I0127 10:19:15.754591  3886 net.cpp:382] prd1 -> prd1\n",
      "I0127 10:19:15.766834  3886 net.cpp:124] Setting up prd1\n",
      "I0127 10:19:15.766850  3886 net.cpp:131] Top shape: 64 500 (32000)\n",
      "I0127 10:19:15.766860  3886 net.cpp:139] Memory required for data: 5039360\n",
      "I0127 10:19:15.766875  3886 layer_factory.hpp:77] Creating layer score\n",
      "I0127 10:19:15.766885  3886 net.cpp:86] Creating Layer score\n",
      "I0127 10:19:15.766892  3886 net.cpp:408] score <- prd1\n",
      "I0127 10:19:15.766903  3886 net.cpp:382] score -> score\n",
      "I0127 10:19:15.767031  3886 net.cpp:124] Setting up score\n",
      "I0127 10:19:15.767040  3886 net.cpp:131] Top shape: 64 10 (640)\n",
      "I0127 10:19:15.767050  3886 net.cpp:139] Memory required for data: 5041920\n",
      "I0127 10:19:15.767060  3886 layer_factory.hpp:77] Creating layer loss\n",
      "I0127 10:19:15.767076  3886 net.cpp:86] Creating Layer loss\n",
      "I0127 10:19:15.767082  3886 net.cpp:408] loss <- score\n",
      "I0127 10:19:15.767091  3886 net.cpp:408] loss <- label\n",
      "I0127 10:19:15.767099  3886 net.cpp:382] loss -> loss\n",
      "I0127 10:19:15.767112  3886 layer_factory.hpp:77] Creating layer loss\n",
      "I0127 10:19:15.767135  3886 net.cpp:124] Setting up loss\n",
      "I0127 10:19:15.767143  3886 net.cpp:131] Top shape: (1)\n",
      "I0127 10:19:15.767151  3886 net.cpp:134]     with loss weight 1\n",
      "I0127 10:19:15.767166  3886 net.cpp:139] Memory required for data: 5041924\n",
      "I0127 10:19:15.767172  3886 net.cpp:200] loss needs backward computation.\n",
      "I0127 10:19:15.767179  3886 net.cpp:200] score needs backward computation.\n",
      "I0127 10:19:15.767185  3886 net.cpp:200] prd1 needs backward computation.\n",
      "I0127 10:19:15.767192  3886 net.cpp:200] pool2 needs backward computation.\n",
      "I0127 10:19:15.767199  3886 net.cpp:200] conv2 needs backward computation.\n",
      "I0127 10:19:15.767205  3886 net.cpp:200] pool1 needs backward computation.\n",
      "I0127 10:19:15.767211  3886 net.cpp:200] conv1 needs backward computation.\n",
      "I0127 10:19:15.767218  3886 net.cpp:202] data does not need backward computation.\n",
      "I0127 10:19:15.767225  3886 net.cpp:244] This network produces output loss\n",
      "I0127 10:19:15.767236  3886 net.cpp:257] Network initialization done.\n",
      "I0127 10:19:15.767441  3886 solver.cpp:190] Creating test net (#0) specified by test_net file: mnist/lenet_auto_test.prototxt\n",
      "I0127 10:19:15.767472  3886 net.cpp:53] Initializing net from parameters: \n",
      "state {\n",
      "  phase: TEST\n",
      "}\n",
      "layer {\n",
      "  name: \"data\"\n",
      "  type: \"Data\"\n",
      "  top: \"data\"\n",
      "  top: \"label\"\n",
      "  transform_param {\n",
      "    scale: 0.00392156886\n",
      "  }\n",
      "  data_param {\n",
      "    source: \"mnist/mnist_test_lmdb\"\n",
      "    batch_size: 100\n",
      "    backend: LMDB\n",
      "  }\n",
      "}\n",
      "layer {\n",
      "  name: \"conv1\"\n",
      "  type: \"Convolution\"\n",
      "  bottom: \"data\"\n",
      "  top: \"conv1\"\n",
      "  convolution_param {\n",
      "    num_output: 20\n",
      "    kernel_size: 5\n",
      "    weight_filler {\n",
      "      type: \"xavier\"\n",
      "    }\n",
      "  }\n",
      "}\n",
      "layer {\n",
      "  name: \"pool1\"\n",
      "  type: \"Pooling\"\n",
      "  bottom: \"conv1\"\n",
      "  top: \"pool1\"\n",
      "  pooling_param {\n",
      "    pool: MAX\n",
      "    kernel_size: 2\n",
      "    stride: 2\n",
      "  }\n",
      "}\n",
      "layer {\n",
      "  name: \"conv2\"\n",
      "  type: \"Convolution\"\n",
      "  bottom: \"pool1\"\n",
      "  top: \"conv2\"\n",
      "  convolution_param {\n",
      "    num_output: 50\n",
      "    kernel_size: 5\n",
      "    weight_filler {\n",
      "      type: \"xavier\"\n",
      "    }\n",
      "  }\n",
      "}\n",
      "layer {\n",
      "  name: \"pool2\"\n",
      "  type: \"Pooling\"\n",
      "  bottom: \"conv2\"\n",
      "  top: \"pool2\"\n",
      "  pooling_param {\n",
      "    pool: MAX\n",
      "    kernel_size: 2\n",
      "    stride: 2\n",
      "  }\n",
      "}\n",
      "layer {\n",
      "  name: \"prd1\"\n",
      "  type: \"InnerProduct\"\n",
      "  bottom: \"pool2\"\n",
      "  top: \"prd1\"\n",
      "  inner_product_param {\n",
      "    num_output: 500\n",
      "    weight_filler {\n",
      "      type: \"xavier\"\n",
      "    }\n",
      "  }\n",
      "}\n",
      "layer {\n",
      "  name: \"score\"\n",
      "  type: \"InnerProduct\"\n",
      "  bottom: \"prd1\"\n",
      "  top: \"score\"\n",
      "  inner_product_param {\n",
      "    num_output: 10\n",
      "    weight_filler {\n",
      "      type: \"xavier\"\n",
      "    }\n",
      "  }\n",
      "}\n",
      "layer {\n",
      "  name: \"loss\"\n",
      "  type: \"SoftmaxWithLoss\"\n",
      "  bottom: \"score\"\n",
      "  bottom: \"label\"\n",
      "  top: \"loss\"\n",
      "}\n",
      "I0127 10:19:15.767590  3886 layer_factory.hpp:77] Creating layer data\n",
      "I0127 10:19:15.767666  3886 db_lmdb.cpp:35] Opened lmdb mnist/mnist_test_lmdb\n",
      "I0127 10:19:15.767686  3886 net.cpp:86] Creating Layer data\n",
      "I0127 10:19:15.767699  3886 net.cpp:382] data -> data\n",
      "I0127 10:19:15.767709  3886 net.cpp:382] data -> label\n",
      "I0127 10:19:15.767729  3886 data_layer.cpp:45] output data size: 100,1,28,28\n",
      "I0127 10:19:15.768211  3886 net.cpp:124] Setting up data\n",
      "I0127 10:19:15.768222  3886 net.cpp:131] Top shape: 100 1 28 28 (78400)\n",
      "I0127 10:19:15.768234  3886 net.cpp:131] Top shape: 100 (100)\n",
      "I0127 10:19:15.768241  3886 net.cpp:139] Memory required for data: 314000\n",
      "I0127 10:19:15.768249  3886 layer_factory.hpp:77] Creating layer conv1\n",
      "I0127 10:19:15.768262  3886 net.cpp:86] Creating Layer conv1\n",
      "I0127 10:19:15.768270  3886 net.cpp:408] conv1 <- data\n",
      "I0127 10:19:15.768278  3886 net.cpp:382] conv1 -> conv1\n",
      "I0127 10:19:15.768318  3886 net.cpp:124] Setting up conv1\n",
      "I0127 10:19:15.768326  3886 net.cpp:131] Top shape: 100 20 24 24 (1152000)\n",
      "I0127 10:19:15.768334  3886 net.cpp:139] Memory required for data: 4922000\n",
      "I0127 10:19:15.768347  3886 layer_factory.hpp:77] Creating layer pool1\n",
      "I0127 10:19:15.768359  3886 net.cpp:86] Creating Layer pool1\n",
      "I0127 10:19:15.768368  3886 net.cpp:408] pool1 <- conv1\n",
      "I0127 10:19:15.768375  3886 net.cpp:382] pool1 -> pool1\n",
      "I0127 10:19:15.768388  3886 net.cpp:124] Setting up pool1\n",
      "I0127 10:19:15.768393  3886 net.cpp:131] Top shape: 100 20 12 12 (288000)\n",
      "I0127 10:19:15.768404  3886 net.cpp:139] Memory required for data: 6074000\n",
      "I0127 10:19:15.768410  3886 layer_factory.hpp:77] Creating layer conv2\n",
      "I0127 10:19:15.768419  3886 net.cpp:86] Creating Layer conv2\n",
      "I0127 10:19:15.768426  3886 net.cpp:408] conv2 <- pool1\n",
      "I0127 10:19:15.768452  3886 net.cpp:382] conv2 -> conv2\n",
      "I0127 10:19:15.768784  3886 net.cpp:124] Setting up conv2\n",
      "I0127 10:19:15.768793  3886 net.cpp:131] Top shape: 100 50 8 8 (320000)\n",
      "I0127 10:19:15.768803  3886 net.cpp:139] Memory required for data: 7354000\n",
      "I0127 10:19:15.768816  3886 layer_factory.hpp:77] Creating layer pool2\n",
      "I0127 10:19:15.768831  3886 net.cpp:86] Creating Layer pool2\n",
      "I0127 10:19:15.768836  3886 net.cpp:408] pool2 <- conv2\n",
      "I0127 10:19:15.768846  3886 net.cpp:382] pool2 -> pool2\n",
      "I0127 10:19:15.768857  3886 net.cpp:124] Setting up pool2\n",
      "I0127 10:19:15.768863  3886 net.cpp:131] Top shape: 100 50 4 4 (80000)\n",
      "I0127 10:19:15.768872  3886 net.cpp:139] Memory required for data: 7674000\n",
      "I0127 10:19:15.768903  3886 layer_factory.hpp:77] Creating layer prd1\n",
      "I0127 10:19:15.768913  3886 net.cpp:86] Creating Layer prd1\n",
      "I0127 10:19:15.768919  3886 net.cpp:408] prd1 <- pool2\n",
      "I0127 10:19:15.768930  3886 net.cpp:382] prd1 -> prd1\n",
      "I0127 10:19:15.772959  3886 net.cpp:124] Setting up prd1\n",
      "I0127 10:19:15.772980  3886 net.cpp:131] Top shape: 100 500 (50000)\n",
      "I0127 10:19:15.772990  3886 net.cpp:139] Memory required for data: 7874000\n",
      "I0127 10:19:15.773005  3886 layer_factory.hpp:77] Creating layer score\n",
      "I0127 10:19:15.773020  3886 net.cpp:86] Creating Layer score\n",
      "I0127 10:19:15.773027  3886 net.cpp:408] score <- prd1\n",
      "I0127 10:19:15.773038  3886 net.cpp:382] score -> score\n",
      "I0127 10:19:15.773113  3886 net.cpp:124] Setting up score\n",
      "I0127 10:19:15.773119  3886 net.cpp:131] Top shape: 100 10 (1000)\n",
      "I0127 10:19:15.773128  3886 net.cpp:139] Memory required for data: 7878000\n",
      "I0127 10:19:15.773142  3886 layer_factory.hpp:77] Creating layer loss\n",
      "I0127 10:19:15.773159  3886 net.cpp:86] Creating Layer loss\n",
      "I0127 10:19:15.773166  3886 net.cpp:408] loss <- score\n",
      "I0127 10:19:15.773172  3886 net.cpp:408] loss <- label\n",
      "I0127 10:19:15.773180  3886 net.cpp:382] loss -> loss\n",
      "I0127 10:19:15.773190  3886 layer_factory.hpp:77] Creating layer loss\n",
      "I0127 10:19:15.773209  3886 net.cpp:124] Setting up loss\n",
      "I0127 10:19:15.773214  3886 net.cpp:131] Top shape: (1)\n",
      "I0127 10:19:15.773221  3886 net.cpp:134]     with loss weight 1\n",
      "I0127 10:19:15.773233  3886 net.cpp:139] Memory required for data: 7878004\n",
      "I0127 10:19:15.773238  3886 net.cpp:200] loss needs backward computation.\n",
      "I0127 10:19:15.773243  3886 net.cpp:200] score needs backward computation.\n",
      "I0127 10:19:15.773248  3886 net.cpp:200] prd1 needs backward computation.\n",
      "I0127 10:19:15.773253  3886 net.cpp:200] pool2 needs backward computation.\n",
      "I0127 10:19:15.773259  3886 net.cpp:200] conv2 needs backward computation.\n",
      "I0127 10:19:15.773264  3886 net.cpp:200] pool1 needs backward computation.\n",
      "I0127 10:19:15.773269  3886 net.cpp:200] conv1 needs backward computation.\n",
      "I0127 10:19:15.773277  3886 net.cpp:202] data does not need backward computation.\n",
      "I0127 10:19:15.773281  3886 net.cpp:244] This network produces output loss\n",
      "I0127 10:19:15.773291  3886 net.cpp:257] Network initialization done.\n",
      "I0127 10:19:15.773319  3886 solver.cpp:57] Solver scaffolding done.\n"
     ]
    }
   ],
   "source": [
    "# Loading and checking the solver\n",
    "caffe.set_mode_cpu()\n",
    "\n",
    "### load the solver and create train and test nets\n",
    "solver = None  # ignore this workaround for lmdb data (can't instantiate two solvers on the same data)\n",
    "solver = caffe.SGDSolver('mnist/lenet_auto_solver.prototxt')"
   ]
  },
  {
   "cell_type": "code",
   "execution_count": 8,
   "id": "55d1b6f7",
   "metadata": {},
   "outputs": [
    {
     "data": {
      "text/plain": [
       "[('data', (64, 1, 28, 28)),\n",
       " ('label', (64,)),\n",
       " ('conv1', (64, 20, 24, 24)),\n",
       " ('pool1', (64, 20, 12, 12)),\n",
       " ('conv2', (64, 50, 8, 8)),\n",
       " ('pool2', (64, 50, 4, 4)),\n",
       " ('prd1', (64, 500)),\n",
       " ('score', (64, 10)),\n",
       " ('loss', ())]"
      ]
     },
     "execution_count": 8,
     "metadata": {},
     "output_type": "execute_result"
    }
   ],
   "source": [
    "# each output is (batch size, feature dim, spatial dim)\n",
    "[(k, v.data.shape) for k, v in solver.net.blobs.items()]"
   ]
  },
  {
   "cell_type": "code",
   "execution_count": 9,
   "id": "17f63226",
   "metadata": {},
   "outputs": [
    {
     "data": {
      "text/plain": [
       "[('conv1', (20, 1, 5, 5)),\n",
       " ('conv2', (50, 20, 5, 5)),\n",
       " ('prd1', (500, 800)),\n",
       " ('score', (10, 500))]"
      ]
     },
     "execution_count": 9,
     "metadata": {},
     "output_type": "execute_result"
    }
   ],
   "source": [
    "# just print the weight sizes (we'll omit the biases)\n",
    "[(k, v[0].data.shape) for k, v in solver.net.params.items()]"
   ]
  },
  {
   "cell_type": "code",
   "execution_count": 10,
   "id": "64ddfca3",
   "metadata": {},
   "outputs": [
    {
     "data": {
      "text/plain": [
       "{'loss': array(2.4826918, dtype=float32)}"
      ]
     },
     "execution_count": 10,
     "metadata": {},
     "output_type": "execute_result"
    }
   ],
   "source": [
    "solver.net.forward()  # train net"
   ]
  },
  {
   "cell_type": "code",
   "execution_count": 11,
   "id": "ff6956b1",
   "metadata": {},
   "outputs": [
    {
     "data": {
      "text/plain": [
       "{'loss': array(2.5132852, dtype=float32)}"
      ]
     },
     "execution_count": 11,
     "metadata": {},
     "output_type": "execute_result"
    }
   ],
   "source": [
    "solver.test_nets[0].forward()  # test net (there can be more than one)"
   ]
  },
  {
   "cell_type": "code",
   "execution_count": 12,
   "id": "8fd847a8",
   "metadata": {},
   "outputs": [
    {
     "name": "stdout",
     "output_type": "stream",
     "text": [
      "train labels: [5. 0. 4. 1. 9. 2. 1. 3. 1. 4.]\n"
     ]
    },
    {
     "data": {
      "image/png": "[encoded data removed]",
      "text/plain": [
       "<Figure size 432x288 with 1 Axes>"
      ]
     },
     "metadata": {
      "needs_background": "light"
     },
     "output_type": "display_data"
    }
   ],
   "source": [
    "# we use a little trick to tile the first 10 images\n",
    "imshow(solver.net.blobs['data'].data[:10, 0].transpose(1, 0, 2).reshape(28, 10*28), cmap='gray'); axis('off')\n",
    "print('train labels:', solver.net.blobs['label'].data[:10])"
   ]
  },
  {
   "cell_type": "code",
   "execution_count": 13,
   "id": "91f7f4a0",
   "metadata": {},
   "outputs": [
    {
     "name": "stdout",
     "output_type": "stream",
     "text": [
      "test labels: [7. 2. 1. 0. 4. 1. 4. 9. 5. 9.]\n"
     ]
    },
    {
     "data": {
      "image/png": "[encoded data removed]",
      "text/plain": [
       "<Figure size 432x288 with 1 Axes>"
      ]
     },
     "metadata": {
      "needs_background": "light"
     },
     "output_type": "display_data"
    }
   ],
   "source": [
    "imshow(solver.test_nets[0].blobs['data'].data[:10, 0].transpose(1, 0, 2).reshape(28, 10*28), cmap='gray'); axis('off')\n",
    "print('test labels:', solver.test_nets[0].blobs['label'].data[:10])"
   ]
  },
  {
   "cell_type": "code",
   "execution_count": 14,
   "id": "6d9ae128",
   "metadata": {},
   "outputs": [
    {
     "name": "stderr",
     "output_type": "stream",
     "text": [
      "I0127 10:19:26.280738  3886 solver.cpp:347] Iteration 0, Testing net (#0)\n",
      "I0127 10:19:31.419776  4023 data_layer.cpp:73] Restarting data prefetching from start.\n",
      "I0127 10:19:31.706224  3886 solver.cpp:414]     Test net output #0: loss = 2.48292 (* 1 = 2.48292 loss)\n",
      "I0127 10:19:31.814652  3886 solver.cpp:239] Iteration 0 (-9.41176e-34 iter/s, 5.535s/100 iters), loss = 2.60473\n",
      "I0127 10:19:31.814703  3886 solver.cpp:258]     Train net output #0: loss = 2.60473 (* 1 = 2.60473 loss)\n",
      "I0127 10:19:31.814719  3886 sgd_solver.cpp:112] Iteration 0, lr = 0.01\n"
     ]
    },
    {
     "name": "stdout",
     "output_type": "stream",
     "text": [
      "Iteration 0 testing...\n"
     ]
    },
    {
     "name": "stderr",
     "output_type": "stream",
     "text": [
      "I0127 10:19:37.610553  4023 data_layer.cpp:73] Restarting data prefetching from start.\n"
     ]
    },
    {
     "name": "stdout",
     "output_type": "stream",
     "text": [
      "Iteration 25 testing...\n"
     ]
    },
    {
     "name": "stderr",
     "output_type": "stream",
     "text": [
      "I0127 10:19:47.540189  4023 data_layer.cpp:73] Restarting data prefetching from start.\n",
      "I0127 10:19:50.613205  3886 solver.cpp:464] Snapshotting to binary proto file mnist/lenet_iter_50.caffemodel\n",
      "I0127 10:19:50.624121  3886 sgd_solver.cpp:284] Snapshotting solver state to binary proto file mnist/lenet_iter_50.solverstate\n"
     ]
    },
    {
     "name": "stdout",
     "output_type": "stream",
     "text": [
      "Iteration 50 testing...\n"
     ]
    },
    {
     "name": "stderr",
     "output_type": "stream",
     "text": [
      "I0127 10:19:55.312238  4023 data_layer.cpp:73] Restarting data prefetching from start.\n"
     ]
    },
    {
     "name": "stdout",
     "output_type": "stream",
     "text": [
      "Iteration 75 testing...\n"
     ]
    },
    {
     "name": "stderr",
     "output_type": "stream",
     "text": [
      "I0127 10:20:03.044142  4023 data_layer.cpp:73] Restarting data prefetching from start.\n",
      "I0127 10:20:06.991991  3886 solver.cpp:464] Snapshotting to binary proto file mnist/lenet_iter_100.caffemodel\n",
      "I0127 10:20:07.004500  3886 sgd_solver.cpp:284] Snapshotting solver state to binary proto file mnist/lenet_iter_100.solverstate\n",
      "I0127 10:20:07.171696  3886 solver.cpp:239] Iteration 100 (2.82837 iter/s, 35.356s/100 iters), loss = 0.254028\n",
      "I0127 10:20:07.171743  3886 solver.cpp:258]     Train net output #0: loss = 0.254028 (* 1 = 0.254028 loss)\n",
      "I0127 10:20:07.171752  3886 sgd_solver.cpp:112] Iteration 100, lr = 0.00992565\n"
     ]
    },
    {
     "name": "stdout",
     "output_type": "stream",
     "text": [
      "Iteration 100 testing...\n"
     ]
    },
    {
     "name": "stderr",
     "output_type": "stream",
     "text": [
      "I0127 10:20:12.662381  4023 data_layer.cpp:73] Restarting data prefetching from start.\n"
     ]
    },
    {
     "name": "stdout",
     "output_type": "stream",
     "text": [
      "Iteration 125 testing...\n"
     ]
    },
    {
     "name": "stderr",
     "output_type": "stream",
     "text": [
      "I0127 10:20:22.332993  4023 data_layer.cpp:73] Restarting data prefetching from start.\n",
      "I0127 10:20:26.899106  3886 solver.cpp:464] Snapshotting to binary proto file mnist/lenet_iter_150.caffemodel\n",
      "I0127 10:20:26.908051  3886 sgd_solver.cpp:284] Snapshotting solver state to binary proto file mnist/lenet_iter_150.solverstate\n"
     ]
    },
    {
     "name": "stdout",
     "output_type": "stream",
     "text": [
      "Iteration 150 testing...\n"
     ]
    },
    {
     "name": "stderr",
     "output_type": "stream",
     "text": [
      "I0127 10:20:31.857827  4023 data_layer.cpp:73] Restarting data prefetching from start.\n"
     ]
    },
    {
     "name": "stdout",
     "output_type": "stream",
     "text": [
      "Iteration 175 testing...\n"
     ]
    },
    {
     "name": "stderr",
     "output_type": "stream",
     "text": [
      "I0127 10:20:40.879956  4023 data_layer.cpp:73] Restarting data prefetching from start.\n"
     ]
    },
    {
     "name": "stdout",
     "output_type": "stream",
     "text": [
      "CPU times: user 1min 42s, sys: 31.6 s, total: 2min 14s\n",
      "Wall time: 1min 18s\n"
     ]
    },
    {
     "name": "stderr",
     "output_type": "stream",
     "text": [
      "I0127 10:20:44.452704  3886 solver.cpp:464] Snapshotting to binary proto file mnist/lenet_iter_200.caffemodel\n",
      "I0127 10:20:44.464092  3886 sgd_solver.cpp:284] Snapshotting solver state to binary proto file mnist/lenet_iter_200.solverstate\n"
     ]
    }
   ],
   "source": [
    "%%time\n",
    "niter = 200\n",
    "test_interval = 25\n",
    "# losses will also be stored in the log\n",
    "train_loss = zeros(niter)\n",
    "test_acc = zeros(int(np.ceil(niter / test_interval)))\n",
    "output = zeros((niter, 8, 10))\n",
    "\n",
    "# the main solver loop\n",
    "for it in range(niter):\n",
    "    solver.step(1)  # SGD by Caffe\n",
    "    \n",
    "    # store the train loss\n",
    "    train_loss[it] = solver.net.blobs['loss'].data\n",
    "    \n",
    "    # store the output on the first test batch\n",
    "    # (start the forward pass at conv1 to avoid loading new data)\n",
    "    solver.test_nets[0].forward(start='conv1')\n",
    "    output[it] = solver.test_nets[0].blobs['score'].data[:8]\n",
    "    \n",
    "    # run a full test every so often\n",
    "    # (Caffe can also do this for us and write to a log, but we show here\n",
    "    #  how to do it directly in Python, where more complicated things are easier.)\n",
    "    if it % test_interval == 0:\n",
    "        print('Iteration', it, 'testing...')\n",
    "        correct = 0\n",
    "        for test_it in range(100):\n",
    "            solver.test_nets[0].forward()\n",
    "            correct += sum(solver.test_nets[0].blobs['score'].data.argmax(1)\n",
    "                           == solver.test_nets[0].blobs['label'].data)\n",
    "        test_acc[it // test_interval] = correct / 1e4"
   ]
  },
  {
   "cell_type": "code",
   "execution_count": 17,
   "id": "0f365bb1",
   "metadata": {},
   "outputs": [
    {
     "data": {
      "text/plain": [
       "Text(0.5, 1.0, 'Test Accuracy: 0.93')"
      ]
     },
     "execution_count": 17,
     "metadata": {},
     "output_type": "execute_result"
    },
    {
     "data": {
      "image/png": "[encoded data removed]",
      "text/plain": [
       "<Figure size 432x288 with 2 Axes>"
      ]
     },
     "metadata": {
      "needs_background": "light"
     },
     "output_type": "display_data"
    }
   ],
   "source": [
    "_, ax1 = subplots()\n",
    "ax2 = ax1.twinx()\n",
    "ax1.plot(arange(niter), train_loss)\n",
    "ax2.plot(test_interval * arange(len(test_acc)), test_acc, 'r')\n",
    "ax1.set_xlabel('iteration')\n",
    "ax1.set_ylabel('train loss')\n",
    "ax2.set_ylabel('test accuracy')\n",
    "ax2.set_title('Test Accuracy: {:.2f}'.format(test_acc[-1]))"
   ]
  },
  {
   "cell_type": "code",
   "execution_count": 18,
   "id": "fe030a2e",
   "metadata": {},
   "outputs": [
    {
     "data": {
      "image/png": "[encoded data removed]",
      "text/plain": [
       "<Figure size 144x144 with 1 Axes>"
      ]
     },
     "metadata": {
      "needs_background": "light"
     },
     "output_type": "display_data"
    },
    {
     "data": {
      "image/png": "[encoded data removed]",
      "text/plain": [
       "<Figure size 720x144 with 1 Axes>"
      ]
     },
     "metadata": {
      "needs_background": "light"
     },
     "output_type": "display_data"
    },
    {
     "data": {
      "image/png": "[encoded data removed]",
      "text/plain": [
       "<Figure size 144x144 with 1 Axes>"
      ]
     },
     "metadata": {
      "needs_background": "light"
     },
     "output_type": "display_data"
    },
    {
     "data": {
      "image/png": "[encoded data removed]",
      "text/plain": [
       "<Figure size 720x144 with 1 Axes>"
      ]
     },
     "metadata": {
      "needs_background": "light"
     },
     "output_type": "display_data"
    },
    {
     "data": {
      "image/png": "[encoded data removed]",
      "text/plain": [
       "<Figure size 144x144 with 1 Axes>"
      ]
     },
     "metadata": {
      "needs_background": "light"
     },
     "output_type": "display_data"
    },
    {
     "data": {
      "image/png": "[encoded data removed]",
      "text/plain": [
       "<Figure size 720x144 with 1 Axes>"
      ]
     },
     "metadata": {
      "needs_background": "light"
     },
     "output_type": "display_data"
    },
    {
     "data": {
      "image/png": "[encoded data removed]",
      "text/plain": [
       "<Figure size 144x144 with 1 Axes>"
      ]
     },
     "metadata": {
      "needs_background": "light"
     },
     "output_type": "display_data"
    },
    {
     "data": {
      "image/png": "[encoded data removed]",
      "text/plain": [
       "<Figure size 720x144 with 1 Axes>"
      ]
     },
     "metadata": {
      "needs_background": "light"
     },
     "output_type": "display_data"
    },
    {
     "data": {
      "image/png": "[encoded data removed]",
      "text/plain": [
       "<Figure size 144x144 with 1 Axes>"
      ]
     },
     "metadata": {
      "needs_background": "light"
     },
     "output_type": "display_data"
    },
    {
     "data": {
      "image/png": "[encoded data removed]",
      "text/plain": [
       "<Figure size 720x144 with 1 Axes>"
      ]
     },
     "metadata": {
      "needs_background": "light"
     },
     "output_type": "display_data"
    },
    {
     "data": {
      "image/png": "[encoded data removed]",
      "text/plain": [
       "<Figure size 144x144 with 1 Axes>"
      ]
     },
     "metadata": {
      "needs_background": "light"
     },
     "output_type": "display_data"
    },
    {
     "data": {
      "image/png": "[encoded data removed]",
      "text/plain": [
       "<Figure size 720x144 with 1 Axes>"
      ]
     },
     "metadata": {
      "needs_background": "light"
     },
     "output_type": "display_data"
    },
    {
     "data": {
      "image/png": "[encoded data removed]",
      "text/plain": [
       "<Figure size 144x144 with 1 Axes>"
      ]
     },
     "metadata": {
      "needs_background": "light"
     },
     "output_type": "display_data"
    },
    {
     "data": {
      "image/png": "[encoded data removed]",
      "text/plain": [
       "<Figure size 720x144 with 1 Axes>"
      ]
     },
     "metadata": {
      "needs_background": "light"
     },
     "output_type": "display_data"
    },
    {
     "data": {
      "image/png": "[encoded data removed]",
      "text/plain": [
       "<Figure size 144x144 with 1 Axes>"
      ]
     },
     "metadata": {
      "needs_background": "light"
     },
     "output_type": "display_data"
    },
    {
     "data": {
      "image/png": "[encoded data removed]",
      "text/plain": [
       "<Figure size 720x144 with 1 Axes>"
      ]
     },
     "metadata": {
      "needs_background": "light"
     },
     "output_type": "display_data"
    }
   ],
   "source": [
    "for i in range(8):\n",
    "    figure(figsize=(2, 2))\n",
    "    imshow(solver.test_nets[0].blobs['data'].data[i, 0], cmap='gray')\n",
    "    figure(figsize=(10, 2))\n",
    "    imshow(output[:50, i].T, interpolation='nearest', cmap='gray')\n",
    "    xlabel('iteration')\n",
    "    ylabel('label')"
   ]
  },
  {
   "cell_type": "code",
   "execution_count": 19,
   "id": "e3176b33",
   "metadata": {},
   "outputs": [
    {
     "data": {
      "image/png": "[encoded data removed]",
      "text/plain": [
       "<Figure size 144x144 with 1 Axes>"
      ]
     },
     "metadata": {
      "needs_background": "light"
     },
     "output_type": "display_data"
    },
    {
     "data": {
      "image/png": "[encoded data removed]",
      "text/plain": [
       "<Figure size 720x144 with 1 Axes>"
      ]
     },
     "metadata": {
      "needs_background": "light"
     },
     "output_type": "display_data"
    },
    {
     "data": {
      "image/png": "[encoded data removed]",
      "text/plain": [
       "<Figure size 144x144 with 1 Axes>"
      ]
     },
     "metadata": {
      "needs_background": "light"
     },
     "output_type": "display_data"
    },
    {
     "data": {
      "image/png": "[encoded data removed]",
      "text/plain": [
       "<Figure size 720x144 with 1 Axes>"
      ]
     },
     "metadata": {
      "needs_background": "light"
     },
     "output_type": "display_data"
    },
    {
     "data": {
      "image/png": "[encoded data removed]",
      "text/plain": [
       "<Figure size 144x144 with 1 Axes>"
      ]
     },
     "metadata": {
      "needs_background": "light"
     },
     "output_type": "display_data"
    },
    {
     "data": {
      "image/png": "[encoded data removed]",
      "text/plain": [
       "<Figure size 720x144 with 1 Axes>"
      ]
     },
     "metadata": {
      "needs_background": "light"
     },
     "output_type": "display_data"
    },
    {
     "data": {
      "image/png": "[encoded data removed]",
      "text/plain": [
       "<Figure size 144x144 with 1 Axes>"
      ]
     },
     "metadata": {
      "needs_background": "light"
     },
     "output_type": "display_data"
    },
    {
     "data": {
      "image/png": "[encoded data removed]",
      "text/plain": [
       "<Figure size 720x144 with 1 Axes>"
      ]
     },
     "metadata": {
      "needs_background": "light"
     },
     "output_type": "display_data"
    },
    {
     "data": {
      "image/png": "[encoded data removed]",
      "text/plain": [
       "<Figure size 144x144 with 1 Axes>"
      ]
     },
     "metadata": {
      "needs_background": "light"
     },
     "output_type": "display_data"
    },
    {
     "data": {
      "image/png": "[encoded data removed]",
      "text/plain": [
       "<Figure size 720x144 with 1 Axes>"
      ]
     },
     "metadata": {
      "needs_background": "light"
     },
     "output_type": "display_data"
    },
    {
     "data": {
      "image/png": "[encoded data removed]",
      "text/plain": [
       "<Figure size 144x144 with 1 Axes>"
      ]
     },
     "metadata": {
      "needs_background": "light"
     },
     "output_type": "display_data"
    },
    {
     "data": {
      "image/png": "[encoded data removed]",
      "text/plain": [
       "<Figure size 720x144 with 1 Axes>"
      ]
     },
     "metadata": {
      "needs_background": "light"
     },
     "output_type": "display_data"
    },
    {
     "data": {
      "image/png": "[encoded data removed]",
      "text/plain": [
       "<Figure size 144x144 with 1 Axes>"
      ]
     },
     "metadata": {
      "needs_background": "light"
     },
     "output_type": "display_data"
    },
    {
     "data": {
      "image/png": "[encoded data removed]",
      "text/plain": [
       "<Figure size 720x144 with 1 Axes>"
      ]
     },
     "metadata": {
      "needs_background": "light"
     },
     "output_type": "display_data"
    },
    {
     "data": {
      "image/png": "[encoded data removed]",
      "text/plain": [
       "<Figure size 144x144 with 1 Axes>"
      ]
     },
     "metadata": {
      "needs_background": "light"
     },
     "output_type": "display_data"
    },
    {
     "data": {
      "image/png": "[encoded data removed]",
      "text/plain": [
       "<Figure size 720x144 with 1 Axes>"
      ]
     },
     "metadata": {
      "needs_background": "light"
     },
     "output_type": "display_data"
    }
   ],
   "source": [
    "for i in range(8):\n",
    "    figure(figsize=(2, 2))\n",
    "    imshow(solver.test_nets[0].blobs['data'].data[i, 0], cmap='gray')\n",
    "    figure(figsize=(10, 2))\n",
    "    imshow(exp(output[:50, i].T) / exp(output[:50, i].T).sum(0), interpolation='nearest', cmap='gray')\n",
    "    xlabel('iteration')\n",
    "    ylabel('label')"
   ]
  },
  {
   "cell_type": "code",
   "execution_count": null,
   "id": "89228dae",
   "metadata": {},
   "outputs": [],
   "source": []
  }
 ],
 "metadata": {
  "kernelspec": {
   "display_name": "Python 3 (ipykernel)",
   "language": "python",
   "name": "python3"
  },
  "language_info": {
   "codemirror_mode": {
    "name": "ipython",
    "version": 3
   },
   "file_extension": ".py",
   "mimetype": "text/x-python",
   "name": "python",
   "nbconvert_exporter": "python",
   "pygments_lexer": "ipython3",
   "version": "3.8.10"
  }
 },
 "nbformat": 4,
 "nbformat_minor": 5
}
