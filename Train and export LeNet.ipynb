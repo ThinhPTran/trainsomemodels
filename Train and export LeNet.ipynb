{
 "cells": [
  {
   "cell_type": "code",
   "execution_count": 27,
   "id": "ae74da5c",
   "metadata": {},
   "outputs": [],
   "source": [
    "from pylab import *\n",
    "%matplotlib inline"
   ]
  },
  {
   "cell_type": "code",
   "execution_count": 28,
   "id": "2691d268",
   "metadata": {},
   "outputs": [],
   "source": [
    "caffe_root = '../'  # this file should be run from {caffe_root}/examples (otherwise change this line)\n",
    "import caffe\n",
    "import sys"
   ]
  },
  {
   "cell_type": "code",
   "execution_count": 29,
   "id": "1a1c018c",
   "metadata": {},
   "outputs": [
    {
     "name": "stdout",
     "output_type": "stream",
     "text": [
      "Downloading...\n",
      "Creating lmdb...\n",
      "I0126 10:20:21.445968  7930 db_lmdb.cpp:35] Opened lmdb examples/mnist/mnist_train_lmdb\n",
      "I0126 10:20:21.446364  7930 convert_mnist_data.cpp:88] A total of 60000 items.\n",
      "I0126 10:20:21.446372  7930 convert_mnist_data.cpp:89] Rows: 28 Cols: 28\n",
      "I0126 10:20:22.648087  7930 convert_mnist_data.cpp:108] Processed 60000 files.\n",
      "I0126 10:20:22.659241  7931 db_lmdb.cpp:35] Opened lmdb examples/mnist/mnist_test_lmdb\n",
      "I0126 10:20:22.659562  7931 convert_mnist_data.cpp:88] A total of 10000 items.\n",
      "I0126 10:20:22.659587  7931 convert_mnist_data.cpp:89] Rows: 28 Cols: 28\n",
      "I0126 10:20:22.865546  7931 convert_mnist_data.cpp:108] Processed 10000 files.\n",
      "Done.\n"
     ]
    }
   ],
   "source": [
    "# run scripts from caffe root\n",
    "import os\n",
    "os.chdir(caffe_root)\n",
    "# Download data\n",
    "!data/mnist/get_mnist.sh\n",
    "# Prepare data\n",
    "!examples/mnist/create_mnist.sh\n",
    "# back to examples\n",
    "os.chdir('examples')"
   ]
  },
  {
   "cell_type": "code",
   "execution_count": 30,
   "id": "6dd2aaab",
   "metadata": {},
   "outputs": [],
   "source": [
    "from caffe import layers as L, params as P\n",
    "\n",
    "def lenet(lmdb, batch_size):\n",
    "    # our version of LeNet: a series of linear and simple nonlinear transformations\n",
    "    n = caffe.NetSpec()\n",
    "    \n",
    "    n.data, n.label = L.Data(batch_size=batch_size, backend=P.Data.LMDB, source=lmdb,\n",
    "                             transform_param=dict(scale=1./255), ntop=2)\n",
    "    \n",
    "    n.conv1 = L.Convolution(n.data, kernel_size=5, num_output=20, weight_filler=dict(type='xavier'))\n",
    "    n.pool1 = L.Pooling(n.conv1, kernel_size=2, stride=2, pool=P.Pooling.MAX)\n",
    "    n.conv2 = L.Convolution(n.pool1, kernel_size=5, num_output=50, weight_filler=dict(type='xavier'))\n",
    "    n.pool2 = L.Pooling(n.conv2, kernel_size=2, stride=2, pool=P.Pooling.MAX)\n",
    "    n.fc1 =   L.InnerProduct(n.pool2, num_output=500, weight_filler=dict(type='xavier'))\n",
    "    n.relu1 = L.ReLU(n.fc1, in_place=True)\n",
    "    n.score = L.InnerProduct(n.relu1, num_output=10, weight_filler=dict(type='xavier'))\n",
    "    n.loss =  L.SoftmaxWithLoss(n.score, n.label)\n",
    "    \n",
    "    return n.to_proto()\n",
    "    \n",
    "with open('mnist/lenet_auto_train.prototxt', 'w') as f:\n",
    "    f.write(str(lenet('mnist/mnist_train_lmdb', 64)))\n",
    "    \n",
    "with open('mnist/lenet_auto_test.prototxt', 'w') as f:\n",
    "    f.write(str(lenet('mnist/mnist_test_lmdb', 100)))"
   ]
  },
  {
   "cell_type": "code",
   "execution_count": 31,
   "id": "4bf43e72",
   "metadata": {},
   "outputs": [
    {
     "name": "stdout",
     "output_type": "stream",
     "text": [
      "layer {\r\n",
      "  name: \"data\"\r\n",
      "  type: \"Data\"\r\n",
      "  top: \"data\"\r\n",
      "  top: \"label\"\r\n",
      "  transform_param {\r\n",
      "    scale: 0.003921568859368563\r\n",
      "  }\r\n",
      "  data_param {\r\n",
      "    source: \"mnist/mnist_train_lmdb\"\r\n",
      "    batch_size: 64\r\n",
      "    backend: LMDB\r\n",
      "  }\r\n",
      "}\r\n",
      "layer {\r\n",
      "  name: \"conv1\"\r\n",
      "  type: \"Convolution\"\r\n",
      "  bottom: \"data\"\r\n",
      "  top: \"conv1\"\r\n",
      "  convolution_param {\r\n",
      "    num_output: 20\r\n",
      "    kernel_size: 5\r\n",
      "    weight_filler {\r\n",
      "      type: \"xavier\"\r\n",
      "    }\r\n",
      "  }\r\n",
      "}\r\n",
      "layer {\r\n",
      "  name: \"pool1\"\r\n",
      "  type: \"Pooling\"\r\n",
      "  bottom: \"conv1\"\r\n",
      "  top: \"pool1\"\r\n",
      "  pooling_param {\r\n",
      "    pool: MAX\r\n",
      "    kernel_size: 2\r\n",
      "    stride: 2\r\n",
      "  }\r\n",
      "}\r\n",
      "layer {\r\n",
      "  name: \"conv2\"\r\n",
      "  type: \"Convolution\"\r\n",
      "  bottom: \"pool1\"\r\n",
      "  top: \"conv2\"\r\n",
      "  convolution_param {\r\n",
      "    num_output: 50\r\n",
      "    kernel_size: 5\r\n",
      "    weight_filler {\r\n",
      "      type: \"xavier\"\r\n",
      "    }\r\n",
      "  }\r\n",
      "}\r\n",
      "layer {\r\n",
      "  name: \"pool2\"\r\n",
      "  type: \"Pooling\"\r\n",
      "  bottom: \"conv2\"\r\n",
      "  top: \"pool2\"\r\n",
      "  pooling_param {\r\n",
      "    pool: MAX\r\n",
      "    kernel_size: 2\r\n",
      "    stride: 2\r\n",
      "  }\r\n",
      "}\r\n",
      "layer {\r\n",
      "  name: \"fc1\"\r\n",
      "  type: \"InnerProduct\"\r\n",
      "  bottom: \"pool2\"\r\n",
      "  top: \"fc1\"\r\n",
      "  inner_product_param {\r\n",
      "    num_output: 500\r\n",
      "    weight_filler {\r\n",
      "      type: \"xavier\"\r\n",
      "    }\r\n",
      "  }\r\n",
      "}\r\n",
      "layer {\r\n",
      "  name: \"relu1\"\r\n",
      "  type: \"ReLU\"\r\n",
      "  bottom: \"fc1\"\r\n",
      "  top: \"fc1\"\r\n",
      "}\r\n",
      "layer {\r\n",
      "  name: \"score\"\r\n",
      "  type: \"InnerProduct\"\r\n",
      "  bottom: \"fc1\"\r\n",
      "  top: \"score\"\r\n",
      "  inner_product_param {\r\n",
      "    num_output: 10\r\n",
      "    weight_filler {\r\n",
      "      type: \"xavier\"\r\n",
      "    }\r\n",
      "  }\r\n",
      "}\r\n",
      "layer {\r\n",
      "  name: \"loss\"\r\n",
      "  type: \"SoftmaxWithLoss\"\r\n",
      "  bottom: \"score\"\r\n",
      "  bottom: \"label\"\r\n",
      "  top: \"loss\"\r\n",
      "}\r\n"
     ]
    }
   ],
   "source": [
    "# Check model config\n",
    "!cat mnist/lenet_auto_train.prototxt"
   ]
  },
  {
   "cell_type": "code",
   "execution_count": 32,
   "id": "a5492b70",
   "metadata": {},
   "outputs": [
    {
     "name": "stdout",
     "output_type": "stream",
     "text": [
      "# The train/test net protocol buffer definition\r\n",
      "train_net: \"mnist/lenet_auto_train.prototxt\"\r\n",
      "test_net: \"mnist/lenet_auto_test.prototxt\"\r\n",
      "# test_iter specifies how many forward passes the test should carry out.\r\n",
      "# In the case of MNIST, we have test batch size 100 and 100 test iterations,\r\n",
      "# covering the full 10,000 testing images.\r\n",
      "test_iter: 100\r\n",
      "# Carry out testing every 500 training iterations.\r\n",
      "test_interval: 500\r\n",
      "# The base learning rate, momentum and the weight decay of the network.\r\n",
      "base_lr: 0.01\r\n",
      "momentum: 0.9\r\n",
      "weight_decay: 0.0005\r\n",
      "# The learning rate policy\r\n",
      "lr_policy: \"inv\"\r\n",
      "gamma: 0.0001\r\n",
      "power: 0.75\r\n",
      "# Display every 100 iterations\r\n",
      "display: 100\r\n",
      "# The maximum number of iterations\r\n",
      "max_iter: 10000\r\n",
      "# snapshot intermediate results\r\n",
      "snapshot: 50\r\n",
      "snapshot_prefix: \"mnist/lenet\"\r\n"
     ]
    }
   ],
   "source": [
    "# Check solver config\n",
    "!cat mnist/lenet_auto_solver.prototxt"
   ]
  },
  {
   "cell_type": "code",
   "execution_count": 33,
   "id": "408d92b7",
   "metadata": {},
   "outputs": [
    {
     "name": "stderr",
     "output_type": "stream",
     "text": [
      "I0126 10:20:37.106871  5139 solver.cpp:45] Initializing solver from parameters: \n",
      "train_net: \"mnist/lenet_auto_train.prototxt\"\n",
      "test_net: \"mnist/lenet_auto_test.prototxt\"\n",
      "test_iter: 100\n",
      "test_interval: 500\n",
      "base_lr: 0.01\n",
      "display: 100\n",
      "max_iter: 10000\n",
      "lr_policy: \"inv\"\n",
      "gamma: 0.0001\n",
      "power: 0.75\n",
      "momentum: 0.9\n",
      "weight_decay: 0.0005\n",
      "snapshot: 50\n",
      "snapshot_prefix: \"mnist/lenet\"\n",
      "I0126 10:20:37.107105  5139 solver.cpp:92] Creating training net from train_net file: mnist/lenet_auto_train.prototxt\n",
      "I0126 10:20:37.107378  5139 net.cpp:53] Initializing net from parameters: \n",
      "state {\n",
      "  phase: TRAIN\n",
      "}\n",
      "layer {\n",
      "  name: \"data\"\n",
      "  type: \"Data\"\n",
      "  top: \"data\"\n",
      "  top: \"label\"\n",
      "  transform_param {\n",
      "    scale: 0.00392156886\n",
      "  }\n",
      "  data_param {\n",
      "    source: \"mnist/mnist_train_lmdb\"\n",
      "    batch_size: 64\n",
      "    backend: LMDB\n",
      "  }\n",
      "}\n",
      "layer {\n",
      "  name: \"conv1\"\n",
      "  type: \"Convolution\"\n",
      "  bottom: \"data\"\n",
      "  top: \"conv1\"\n",
      "  convolution_param {\n",
      "    num_output: 20\n",
      "    kernel_size: 5\n",
      "    weight_filler {\n",
      "      type: \"xavier\"\n",
      "    }\n",
      "  }\n",
      "}\n",
      "layer {\n",
      "  name: \"pool1\"\n",
      "  type: \"Pooling\"\n",
      "  bottom: \"conv1\"\n",
      "  top: \"pool1\"\n",
      "  pooling_param {\n",
      "    pool: MAX\n",
      "    kernel_size: 2\n",
      "    stride: 2\n",
      "  }\n",
      "}\n",
      "layer {\n",
      "  name: \"conv2\"\n",
      "  type: \"Convolution\"\n",
      "  bottom: \"pool1\"\n",
      "  top: \"conv2\"\n",
      "  convolution_param {\n",
      "    num_output: 50\n",
      "    kernel_size: 5\n",
      "    weight_filler {\n",
      "      type: \"xavier\"\n",
      "    }\n",
      "  }\n",
      "}\n",
      "layer {\n",
      "  name: \"pool2\"\n",
      "  type: \"Pooling\"\n",
      "  bottom: \"conv2\"\n",
      "  top: \"pool2\"\n",
      "  pooling_param {\n",
      "    pool: MAX\n",
      "    kernel_size: 2\n",
      "    stride: 2\n",
      "  }\n",
      "}\n",
      "layer {\n",
      "  name: \"fc1\"\n",
      "  type: \"InnerProduct\"\n",
      "  bottom: \"pool2\"\n",
      "  top: \"fc1\"\n",
      "  inner_product_param {\n",
      "    num_output: 500\n",
      "    weight_filler {\n",
      "      type: \"xavier\"\n",
      "    }\n",
      "  }\n",
      "}\n",
      "layer {\n",
      "  name: \"relu1\"\n",
      "  type: \"ReLU\"\n",
      "  bottom: \"fc1\"\n",
      "  top: \"fc1\"\n",
      "}\n",
      "layer {\n",
      "  name: \"score\"\n",
      "  type: \"InnerProduct\"\n",
      "  bottom: \"fc1\"\n",
      "  top: \"score\"\n",
      "  inner_product_param {\n",
      "    num_output: 10\n",
      "    weight_filler {\n",
      "      type: \"xavier\"\n",
      "    }\n",
      "  }\n",
      "}\n",
      "layer {\n",
      "  name: \"loss\"\n",
      "  type: \"SoftmaxWithLoss\"\n",
      "  bottom: \"score\"\n",
      "  bottom: \"label\"\n",
      "  top: \"loss\"\n",
      "}\n",
      "I0126 10:20:37.108181  5139 layer_factory.hpp:77] Creating layer data\n",
      "I0126 10:20:37.108338  5139 db_lmdb.cpp:35] Opened lmdb mnist/mnist_train_lmdb\n",
      "I0126 10:20:37.108430  5139 net.cpp:86] Creating Layer data\n",
      "I0126 10:20:37.108445  5139 net.cpp:382] data -> data\n",
      "I0126 10:20:37.108811  5139 net.cpp:382] data -> label\n",
      "I0126 10:20:37.108866  5139 data_layer.cpp:45] output data size: 64,1,28,28\n",
      "I0126 10:20:37.109582  5139 net.cpp:124] Setting up data\n",
      "I0126 10:20:37.109606  5139 net.cpp:131] Top shape: 64 1 28 28 (50176)\n",
      "I0126 10:20:37.109691  5139 net.cpp:131] Top shape: 64 (64)\n",
      "I0126 10:20:37.109699  5139 net.cpp:139] Memory required for data: 200960\n",
      "I0126 10:20:37.109705  5139 layer_factory.hpp:77] Creating layer conv1\n",
      "I0126 10:20:37.109747  5139 net.cpp:86] Creating Layer conv1\n",
      "I0126 10:20:37.109769  5139 net.cpp:408] conv1 <- data\n",
      "I0126 10:20:37.109781  5139 net.cpp:382] conv1 -> conv1\n",
      "I0126 10:20:37.109835  5139 net.cpp:124] Setting up conv1\n",
      "I0126 10:20:37.110028  5139 net.cpp:131] Top shape: 64 20 24 24 (737280)\n",
      "I0126 10:20:37.110175  5139 net.cpp:139] Memory required for data: 3150080\n",
      "I0126 10:20:37.110193  5139 layer_factory.hpp:77] Creating layer pool1\n",
      "I0126 10:20:37.110321  5139 net.cpp:86] Creating Layer pool1\n",
      "I0126 10:20:37.110342  5139 net.cpp:408] pool1 <- conv1\n",
      "I0126 10:20:37.110353  5139 net.cpp:382] pool1 -> pool1\n",
      "I0126 10:20:37.110383  5139 net.cpp:124] Setting up pool1\n",
      "I0126 10:20:37.110435  5139 net.cpp:131] Top shape: 64 20 12 12 (184320)\n",
      "I0126 10:20:37.110468  5139 net.cpp:139] Memory required for data: 3887360\n",
      "I0126 10:20:37.110476  5139 layer_factory.hpp:77] Creating layer conv2\n",
      "I0126 10:20:37.110486  5139 net.cpp:86] Creating Layer conv2\n",
      "I0126 10:20:37.110502  5139 net.cpp:408] conv2 <- pool1\n",
      "I0126 10:20:37.110569  5139 net.cpp:382] conv2 -> conv2\n",
      "I0126 10:20:37.111452  5139 net.cpp:124] Setting up conv2\n",
      "I0126 10:20:37.111773  5139 net.cpp:131] Top shape: 64 50 8 8 (204800)\n",
      "I0126 10:20:37.111785  5139 net.cpp:139] Memory required for data: 4706560\n",
      "I0126 10:20:37.111814  5139 layer_factory.hpp:77] Creating layer pool2\n",
      "I0126 10:20:37.111829  5139 net.cpp:86] Creating Layer pool2\n",
      "I0126 10:20:37.111835  5139 net.cpp:408] pool2 <- conv2\n",
      "I0126 10:20:37.111972  5139 net.cpp:382] pool2 -> pool2\n",
      "I0126 10:20:37.112000  5139 net.cpp:124] Setting up pool2\n",
      "I0126 10:20:37.112080  5139 net.cpp:131] Top shape: 64 50 4 4 (51200)\n",
      "I0126 10:20:37.112089  5139 net.cpp:139] Memory required for data: 4911360\n",
      "I0126 10:20:37.112095  5139 layer_factory.hpp:77] Creating layer fc1\n",
      "I0126 10:20:37.112107  5139 net.cpp:86] Creating Layer fc1\n",
      "I0126 10:20:37.112124  5139 net.cpp:408] fc1 <- pool2\n",
      "I0126 10:20:37.112131  5139 net.cpp:382] fc1 -> fc1\n",
      "I0126 10:20:37.117388  5139 net.cpp:124] Setting up fc1\n",
      "I0126 10:20:37.117424  5139 net.cpp:131] Top shape: 64 500 (32000)\n",
      "I0126 10:20:37.117434  5139 net.cpp:139] Memory required for data: 5039360\n",
      "I0126 10:20:37.117445  5139 layer_factory.hpp:77] Creating layer relu1\n",
      "I0126 10:20:37.117470  5139 net.cpp:86] Creating Layer relu1\n",
      "I0126 10:20:37.117475  5139 net.cpp:408] relu1 <- fc1\n",
      "I0126 10:20:37.117482  5139 net.cpp:369] relu1 -> fc1 (in-place)\n",
      "I0126 10:20:37.117508  5139 net.cpp:124] Setting up relu1\n",
      "I0126 10:20:37.117516  5139 net.cpp:131] Top shape: 64 500 (32000)\n",
      "I0126 10:20:37.117523  5139 net.cpp:139] Memory required for data: 5167360\n",
      "I0126 10:20:37.117666  5139 layer_factory.hpp:77] Creating layer score\n",
      "I0126 10:20:37.117681  5139 net.cpp:86] Creating Layer score\n",
      "I0126 10:20:37.117688  5139 net.cpp:408] score <- fc1\n",
      "I0126 10:20:37.117710  5139 net.cpp:382] score -> score\n",
      "I0126 10:20:37.117805  5139 net.cpp:124] Setting up score\n",
      "I0126 10:20:37.117813  5139 net.cpp:131] Top shape: 64 10 (640)\n",
      "I0126 10:20:37.117838  5139 net.cpp:139] Memory required for data: 5169920\n",
      "I0126 10:20:37.117853  5139 layer_factory.hpp:77] Creating layer loss\n",
      "I0126 10:20:37.117880  5139 net.cpp:86] Creating Layer loss\n",
      "I0126 10:20:37.117887  5139 net.cpp:408] loss <- score\n",
      "I0126 10:20:37.117893  5139 net.cpp:408] loss <- label\n",
      "I0126 10:20:37.117913  5139 net.cpp:382] loss -> loss\n",
      "I0126 10:20:37.117923  5139 layer_factory.hpp:77] Creating layer loss\n",
      "I0126 10:20:37.117938  5139 net.cpp:124] Setting up loss\n",
      "I0126 10:20:37.117955  5139 net.cpp:131] Top shape: (1)\n",
      "I0126 10:20:37.117961  5139 net.cpp:134]     with loss weight 1\n",
      "I0126 10:20:37.117974  5139 net.cpp:139] Memory required for data: 5169924\n",
      "I0126 10:20:37.117980  5139 net.cpp:200] loss needs backward computation.\n",
      "I0126 10:20:37.117996  5139 net.cpp:200] score needs backward computation.\n",
      "I0126 10:20:37.118002  5139 net.cpp:200] relu1 needs backward computation.\n",
      "I0126 10:20:37.118007  5139 net.cpp:200] fc1 needs backward computation.\n",
      "I0126 10:20:37.118012  5139 net.cpp:200] pool2 needs backward computation.\n",
      "I0126 10:20:37.118018  5139 net.cpp:200] conv2 needs backward computation.\n",
      "I0126 10:20:37.118036  5139 net.cpp:200] pool1 needs backward computation.\n",
      "I0126 10:20:37.118041  5139 net.cpp:200] conv1 needs backward computation.\n",
      "I0126 10:20:37.118046  5139 net.cpp:202] data does not need backward computation.\n",
      "I0126 10:20:37.118052  5139 net.cpp:244] This network produces output loss\n",
      "I0126 10:20:37.118073  5139 net.cpp:257] Network initialization done.\n",
      "I0126 10:20:37.118331  5139 solver.cpp:190] Creating test net (#0) specified by test_net file: mnist/lenet_auto_test.prototxt\n",
      "I0126 10:20:37.118366  5139 net.cpp:53] Initializing net from parameters: \n",
      "state {\n",
      "  phase: TEST\n",
      "}\n",
      "layer {\n",
      "  name: \"data\"\n",
      "  type: \"Data\"\n",
      "  top: \"data\"\n",
      "  top: \"label\"\n",
      "  transform_param {\n",
      "    scale: 0.00392156886\n",
      "  }\n",
      "  data_param {\n",
      "    source: \"mnist/mnist_test_lmdb\"\n",
      "    batch_size: 100\n",
      "    backend: LMDB\n",
      "  }\n",
      "}\n",
      "layer {\n",
      "  name: \"conv1\"\n",
      "  type: \"Convolution\"\n",
      "  bottom: \"data\"\n",
      "  top: \"conv1\"\n",
      "  convolution_param {\n",
      "    num_output: 20\n",
      "    kernel_size: 5\n",
      "    weight_filler {\n",
      "      type: \"xavier\"\n",
      "    }\n",
      "  }\n",
      "}\n",
      "layer {\n",
      "  name: \"pool1\"\n",
      "  type: \"Pooling\"\n",
      "  bottom: \"conv1\"\n",
      "  top: \"pool1\"\n",
      "  pooling_param {\n",
      "    pool: MAX\n",
      "    kernel_size: 2\n",
      "    stride: 2\n",
      "  }\n",
      "}\n",
      "layer {\n",
      "  name: \"conv2\"\n",
      "  type: \"Convolution\"\n",
      "  bottom: \"pool1\"\n",
      "  top: \"conv2\"\n",
      "  convolution_param {\n",
      "    num_output: 50\n",
      "    kernel_size: 5\n",
      "    weight_filler {\n",
      "      type: \"xavier\"\n",
      "    }\n",
      "  }\n",
      "}\n",
      "layer {\n",
      "  name: \"pool2\"\n",
      "  type: \"Pooling\"\n",
      "  bottom: \"conv2\"\n",
      "  top: \"pool2\"\n",
      "  pooling_param {\n",
      "    pool: MAX\n",
      "    kernel_size: 2\n",
      "    stride: 2\n",
      "  }\n",
      "}\n",
      "layer {\n",
      "  name: \"fc1\"\n",
      "  type: \"InnerProduct\"\n",
      "  bottom: \"pool2\"\n",
      "  top: \"fc1\"\n",
      "  inner_product_param {\n",
      "    num_output: 500\n",
      "    weight_filler {\n",
      "      type: \"xavier\"\n",
      "    }\n",
      "  }\n",
      "}\n",
      "layer {\n",
      "  name: \"relu1\"\n",
      "  type: \"ReLU\"\n",
      "  bottom: \"fc1\"\n",
      "  top: \"fc1\"\n",
      "}\n",
      "layer {\n",
      "  name: \"score\"\n",
      "  type: \"InnerProduct\"\n",
      "  bottom: \"fc1\"\n",
      "  top: \"score\"\n",
      "  inner_product_param {\n",
      "    num_output: 10\n",
      "    weight_filler {\n",
      "      type: \"xavier\"\n",
      "    }\n",
      "  }\n",
      "}\n",
      "layer {\n",
      "  name: \"loss\"\n",
      "  type: \"SoftmaxWithLoss\"\n",
      "  bottom: \"score\"\n",
      "  bottom: \"label\"\n",
      "  top: \"loss\"\n",
      "}\n",
      "I0126 10:20:37.118500  5139 layer_factory.hpp:77] Creating layer data\n",
      "I0126 10:20:37.118659  5139 db_lmdb.cpp:35] Opened lmdb mnist/mnist_test_lmdb\n",
      "I0126 10:20:37.118687  5139 net.cpp:86] Creating Layer data\n",
      "I0126 10:20:37.118695  5139 net.cpp:382] data -> data\n",
      "I0126 10:20:37.118702  5139 net.cpp:382] data -> label\n",
      "I0126 10:20:37.118731  5139 data_layer.cpp:45] output data size: 100,1,28,28\n",
      "I0126 10:20:37.119390  5139 net.cpp:124] Setting up data\n",
      "I0126 10:20:37.119398  5139 net.cpp:131] Top shape: 100 1 28 28 (78400)\n",
      "I0126 10:20:37.119406  5139 net.cpp:131] Top shape: 100 (100)\n",
      "I0126 10:20:37.119424  5139 net.cpp:139] Memory required for data: 314000\n",
      "I0126 10:20:37.119429  5139 layer_factory.hpp:77] Creating layer conv1\n",
      "I0126 10:20:37.119438  5139 net.cpp:86] Creating Layer conv1\n",
      "I0126 10:20:37.119443  5139 net.cpp:408] conv1 <- data\n",
      "I0126 10:20:37.119462  5139 net.cpp:382] conv1 -> conv1\n",
      "I0126 10:20:37.119524  5139 net.cpp:124] Setting up conv1\n",
      "I0126 10:20:37.119532  5139 net.cpp:131] Top shape: 100 20 24 24 (1152000)\n",
      "I0126 10:20:37.119551  5139 net.cpp:139] Memory required for data: 4922000\n",
      "I0126 10:20:37.119563  5139 layer_factory.hpp:77] Creating layer pool1\n",
      "I0126 10:20:37.119572  5139 net.cpp:86] Creating Layer pool1\n",
      "I0126 10:20:37.119588  5139 net.cpp:408] pool1 <- conv1\n",
      "I0126 10:20:37.119596  5139 net.cpp:382] pool1 -> pool1\n",
      "I0126 10:20:37.119606  5139 net.cpp:124] Setting up pool1\n",
      "I0126 10:20:37.119611  5139 net.cpp:131] Top shape: 100 20 12 12 (288000)\n",
      "I0126 10:20:37.119629  5139 net.cpp:139] Memory required for data: 6074000\n",
      "I0126 10:20:37.119634  5139 layer_factory.hpp:77] Creating layer conv2\n",
      "I0126 10:20:37.119642  5139 net.cpp:86] Creating Layer conv2\n",
      "I0126 10:20:37.119647  5139 net.cpp:408] conv2 <- pool1\n",
      "I0126 10:20:37.119653  5139 net.cpp:382] conv2 -> conv2\n",
      "I0126 10:20:37.119884  5139 net.cpp:124] Setting up conv2\n",
      "I0126 10:20:37.119889  5139 net.cpp:131] Top shape: 100 50 8 8 (320000)\n",
      "I0126 10:20:37.119896  5139 net.cpp:139] Memory required for data: 7354000\n",
      "I0126 10:20:37.119916  5139 layer_factory.hpp:77] Creating layer pool2\n",
      "I0126 10:20:37.119925  5139 net.cpp:86] Creating Layer pool2\n",
      "I0126 10:20:37.119930  5139 net.cpp:408] pool2 <- conv2\n",
      "I0126 10:20:37.119935  5139 net.cpp:382] pool2 -> pool2\n",
      "I0126 10:20:37.119956  5139 net.cpp:124] Setting up pool2\n",
      "I0126 10:20:37.119961  5139 net.cpp:131] Top shape: 100 50 4 4 (80000)\n",
      "I0126 10:20:37.119967  5139 net.cpp:139] Memory required for data: 7674000\n",
      "I0126 10:20:37.119972  5139 layer_factory.hpp:77] Creating layer fc1\n",
      "I0126 10:20:37.119982  5139 net.cpp:86] Creating Layer fc1\n",
      "I0126 10:20:37.119997  5139 net.cpp:408] fc1 <- pool2\n",
      "I0126 10:20:37.120005  5139 net.cpp:382] fc1 -> fc1\n",
      "I0126 10:20:37.128719  5139 net.cpp:124] Setting up fc1\n",
      "I0126 10:20:37.128737  5139 net.cpp:131] Top shape: 100 500 (50000)\n",
      "I0126 10:20:37.128758  5139 net.cpp:139] Memory required for data: 7874000\n",
      "I0126 10:20:37.128773  5139 layer_factory.hpp:77] Creating layer relu1\n",
      "I0126 10:20:37.128798  5139 net.cpp:86] Creating Layer relu1\n",
      "I0126 10:20:37.128805  5139 net.cpp:408] relu1 <- fc1\n",
      "I0126 10:20:37.128814  5139 net.cpp:369] relu1 -> fc1 (in-place)\n",
      "I0126 10:20:37.128835  5139 net.cpp:124] Setting up relu1\n",
      "I0126 10:20:37.128841  5139 net.cpp:131] Top shape: 100 500 (50000)\n",
      "I0126 10:20:37.128849  5139 net.cpp:139] Memory required for data: 8074000\n",
      "I0126 10:20:37.128854  5139 layer_factory.hpp:77] Creating layer score\n",
      "I0126 10:20:37.128875  5139 net.cpp:86] Creating Layer score\n",
      "I0126 10:20:37.128880  5139 net.cpp:408] score <- fc1\n",
      "I0126 10:20:37.128888  5139 net.cpp:382] score -> score\n",
      "I0126 10:20:37.128973  5139 net.cpp:124] Setting up score\n",
      "I0126 10:20:37.128979  5139 net.cpp:131] Top shape: 100 10 (1000)\n",
      "I0126 10:20:37.128998  5139 net.cpp:139] Memory required for data: 8078000\n",
      "I0126 10:20:37.129007  5139 layer_factory.hpp:77] Creating layer loss\n",
      "I0126 10:20:37.130640  5139 net.cpp:86] Creating Layer loss\n",
      "I0126 10:20:37.130668  5139 net.cpp:408] loss <- score\n",
      "I0126 10:20:37.130678  5139 net.cpp:408] loss <- label\n",
      "I0126 10:20:37.130688  5139 net.cpp:382] loss -> loss\n",
      "I0126 10:20:37.130714  5139 layer_factory.hpp:77] Creating layer loss\n",
      "I0126 10:20:37.130749  5139 net.cpp:124] Setting up loss\n",
      "I0126 10:20:37.130756  5139 net.cpp:131] Top shape: (1)\n",
      "I0126 10:20:37.130765  5139 net.cpp:134]     with loss weight 1\n",
      "I0126 10:20:37.130790  5139 net.cpp:139] Memory required for data: 8078004\n",
      "I0126 10:20:37.130796  5139 net.cpp:200] loss needs backward computation.\n",
      "I0126 10:20:37.130802  5139 net.cpp:200] score needs backward computation.\n",
      "I0126 10:20:37.130810  5139 net.cpp:200] relu1 needs backward computation.\n",
      "I0126 10:20:37.130826  5139 net.cpp:200] fc1 needs backward computation.\n",
      "I0126 10:20:37.130832  5139 net.cpp:200] pool2 needs backward computation.\n",
      "I0126 10:20:37.130839  5139 net.cpp:200] conv2 needs backward computation.\n",
      "I0126 10:20:37.130846  5139 net.cpp:200] pool1 needs backward computation.\n",
      "I0126 10:20:37.130852  5139 net.cpp:200] conv1 needs backward computation.\n",
      "I0126 10:20:37.130870  5139 net.cpp:202] data does not need backward computation.\n",
      "I0126 10:20:37.130877  5139 net.cpp:244] This network produces output loss\n",
      "I0126 10:20:37.130888  5139 net.cpp:257] Network initialization done.\n",
      "I0126 10:20:37.130959  5139 solver.cpp:57] Solver scaffolding done.\n"
     ]
    }
   ],
   "source": [
    "# Loading and checking the solver\n",
    "caffe.set_mode_cpu()\n",
    "\n",
    "### load the solver and create train and test nets\n",
    "solver = None  # ignore this workaround for lmdb data (can't instantiate two solvers on the same data)\n",
    "solver = caffe.SGDSolver('mnist/lenet_auto_solver.prototxt')"
   ]
  },
  {
   "cell_type": "code",
   "execution_count": 34,
   "id": "2ea19076",
   "metadata": {},
   "outputs": [
    {
     "data": {
      "text/plain": [
       "[('data', (64, 1, 28, 28)),\n",
       " ('label', (64,)),\n",
       " ('conv1', (64, 20, 24, 24)),\n",
       " ('pool1', (64, 20, 12, 12)),\n",
       " ('conv2', (64, 50, 8, 8)),\n",
       " ('pool2', (64, 50, 4, 4)),\n",
       " ('fc1', (64, 500)),\n",
       " ('score', (64, 10)),\n",
       " ('loss', ())]"
      ]
     },
     "execution_count": 34,
     "metadata": {},
     "output_type": "execute_result"
    }
   ],
   "source": [
    "# each output is (batch size, feature dim, spatial dim)\n",
    "[(k, v.data.shape) for k, v in solver.net.blobs.items()]"
   ]
  },
  {
   "cell_type": "code",
   "execution_count": 35,
   "id": "f8cf7596",
   "metadata": {},
   "outputs": [
    {
     "data": {
      "text/plain": [
       "[('conv1', (20, 1, 5, 5)),\n",
       " ('conv2', (50, 20, 5, 5)),\n",
       " ('fc1', (500, 800)),\n",
       " ('score', (10, 500))]"
      ]
     },
     "execution_count": 35,
     "metadata": {},
     "output_type": "execute_result"
    }
   ],
   "source": [
    "# just print the weight sizes (we'll omit the biases)\n",
    "[(k, v[0].data.shape) for k, v in solver.net.params.items()]"
   ]
  },
  {
   "cell_type": "code",
   "execution_count": 36,
   "id": "5f960f95",
   "metadata": {},
   "outputs": [
    {
     "data": {
      "text/plain": [
       "{'loss': array(2.3903763, dtype=float32)}"
      ]
     },
     "execution_count": 36,
     "metadata": {},
     "output_type": "execute_result"
    }
   ],
   "source": [
    "solver.net.forward()  # train net"
   ]
  },
  {
   "cell_type": "code",
   "execution_count": 37,
   "id": "e54e53ea",
   "metadata": {},
   "outputs": [
    {
     "data": {
      "text/plain": [
       "{'loss': array(2.337625, dtype=float32)}"
      ]
     },
     "execution_count": 37,
     "metadata": {},
     "output_type": "execute_result"
    }
   ],
   "source": [
    "solver.test_nets[0].forward()  # test net (there can be more than one)"
   ]
  },
  {
   "cell_type": "code",
   "execution_count": 38,
   "id": "19579fd3",
   "metadata": {},
   "outputs": [
    {
     "name": "stdout",
     "output_type": "stream",
     "text": [
      "train labels: [5. 0. 4. 1. 9. 2. 1. 3. 1. 4. 3. 5. 3. 6. 1. 7. 2. 8. 6. 9.]\n"
     ]
    },
    {
     "data": {
      "image/png": "[encoded data removed]",
      "text/plain": [
       "<Figure size 432x288 with 1 Axes>"
      ]
     },
     "metadata": {
      "needs_background": "light"
     },
     "output_type": "display_data"
    }
   ],
   "source": [
    "# we use a little trick to tile the first 20 images\n",
    "imshow(solver.net.blobs['data'].data[:20, 0].transpose(1, 0, 2).reshape(28, 20*28), cmap='gray'); axis('off')\n",
    "print('train labels:', solver.net.blobs['label'].data[:20])"
   ]
  },
  {
   "cell_type": "code",
   "execution_count": 39,
   "id": "6bd03c89",
   "metadata": {},
   "outputs": [
    {
     "name": "stdout",
     "output_type": "stream",
     "text": [
      "test labels: [7. 2. 1. 0. 4. 1. 4. 9. 5. 9. 0. 6. 9. 0. 1. 5. 9. 7. 3. 4.]\n"
     ]
    },
    {
     "data": {
      "image/png": "[encoded data removed]",
      "text/plain": [
       "<Figure size 432x288 with 1 Axes>"
      ]
     },
     "metadata": {
      "needs_background": "light"
     },
     "output_type": "display_data"
    }
   ],
   "source": [
    "imshow(solver.test_nets[0].blobs['data'].data[:20, 0].transpose(1, 0, 2).reshape(28, 20*28), cmap='gray'); axis('off')\n",
    "print('test labels:', solver.test_nets[0].blobs['label'].data[:20])"
   ]
  },
  {
   "cell_type": "code",
   "execution_count": 40,
   "id": "faefec17",
   "metadata": {},
   "outputs": [
    {
     "name": "stderr",
     "output_type": "stream",
     "text": [
      "I0126 10:21:05.618067  5139 solver.cpp:347] Iteration 0, Testing net (#0)\n",
      "I0126 10:21:13.295078  7939 data_layer.cpp:73] Restarting data prefetching from start.\n",
      "I0126 10:21:13.583055  5139 solver.cpp:414]     Test net output #0: loss = 2.4548 (* 1 = 2.4548 loss)\n",
      "I0126 10:21:13.669083  5139 solver.cpp:239] Iteration 0 (-12.4193 iter/s, 8.052s/100 iters), loss = 2.40285\n",
      "I0126 10:21:13.669168  5139 solver.cpp:258]     Train net output #0: loss = 2.40285 (* 1 = 2.40285 loss)\n",
      "I0126 10:21:13.669186  5139 sgd_solver.cpp:112] Iteration 0, lr = 0.01\n"
     ]
    },
    {
     "name": "stdout",
     "output_type": "stream",
     "text": [
      "Iteration 0 testing...\n"
     ]
    },
    {
     "name": "stderr",
     "output_type": "stream",
     "text": [
      "I0126 10:21:21.012863  7939 data_layer.cpp:73] Restarting data prefetching from start.\n"
     ]
    },
    {
     "name": "stdout",
     "output_type": "stream",
     "text": [
      "Iteration 25 testing...\n"
     ]
    },
    {
     "name": "stderr",
     "output_type": "stream",
     "text": [
      "I0126 10:21:30.828758  7939 data_layer.cpp:73] Restarting data prefetching from start.\n",
      "I0126 10:21:34.479818  5139 solver.cpp:464] Snapshotting to binary proto file mnist/lenet_iter_50.caffemodel\n",
      "I0126 10:21:34.487318  5139 sgd_solver.cpp:284] Snapshotting solver state to binary proto file mnist/lenet_iter_50.solverstate\n"
     ]
    },
    {
     "name": "stdout",
     "output_type": "stream",
     "text": [
      "Iteration 50 testing...\n"
     ]
    },
    {
     "name": "stderr",
     "output_type": "stream",
     "text": [
      "I0126 10:21:40.305544  7939 data_layer.cpp:73] Restarting data prefetching from start.\n"
     ]
    },
    {
     "name": "stdout",
     "output_type": "stream",
     "text": [
      "Iteration 75 testing...\n"
     ]
    },
    {
     "name": "stderr",
     "output_type": "stream",
     "text": [
      "I0126 10:21:50.008826  7939 data_layer.cpp:73] Restarting data prefetching from start.\n",
      "I0126 10:21:54.435047  5139 solver.cpp:464] Snapshotting to binary proto file mnist/lenet_iter_100.caffemodel\n",
      "I0126 10:21:54.444909  5139 sgd_solver.cpp:284] Snapshotting solver state to binary proto file mnist/lenet_iter_100.solverstate\n",
      "I0126 10:21:54.609261  5139 solver.cpp:239] Iteration 100 (2.4426 iter/s, 40.94s/100 iters), loss = 0.248564\n",
      "I0126 10:21:54.609338  5139 solver.cpp:258]     Train net output #0: loss = 0.248564 (* 1 = 0.248564 loss)\n",
      "I0126 10:21:54.609354  5139 sgd_solver.cpp:112] Iteration 100, lr = 0.00992565\n"
     ]
    },
    {
     "name": "stdout",
     "output_type": "stream",
     "text": [
      "Iteration 100 testing...\n"
     ]
    },
    {
     "name": "stderr",
     "output_type": "stream",
     "text": [
      "I0126 10:22:02.560832  7939 data_layer.cpp:73] Restarting data prefetching from start.\n"
     ]
    },
    {
     "name": "stdout",
     "output_type": "stream",
     "text": [
      "Iteration 125 testing...\n"
     ]
    },
    {
     "name": "stderr",
     "output_type": "stream",
     "text": [
      "I0126 10:22:12.548480  7939 data_layer.cpp:73] Restarting data prefetching from start.\n",
      "I0126 10:22:16.217180  5139 solver.cpp:464] Snapshotting to binary proto file mnist/lenet_iter_150.caffemodel\n",
      "I0126 10:22:16.222535  5139 sgd_solver.cpp:284] Snapshotting solver state to binary proto file mnist/lenet_iter_150.solverstate\n"
     ]
    },
    {
     "name": "stdout",
     "output_type": "stream",
     "text": [
      "Iteration 150 testing...\n"
     ]
    },
    {
     "name": "stderr",
     "output_type": "stream",
     "text": [
      "I0126 10:22:22.170673  7939 data_layer.cpp:73] Restarting data prefetching from start.\n"
     ]
    },
    {
     "name": "stdout",
     "output_type": "stream",
     "text": [
      "Iteration 175 testing...\n"
     ]
    },
    {
     "name": "stderr",
     "output_type": "stream",
     "text": [
      "I0126 10:22:31.339776  7939 data_layer.cpp:73] Restarting data prefetching from start.\n"
     ]
    },
    {
     "name": "stdout",
     "output_type": "stream",
     "text": [
      "CPU times: user 2min 12s, sys: 36.5 s, total: 2min 48s\n",
      "Wall time: 1min 29s\n"
     ]
    },
    {
     "name": "stderr",
     "output_type": "stream",
     "text": [
      "I0126 10:22:35.291903  5139 solver.cpp:464] Snapshotting to binary proto file mnist/lenet_iter_200.caffemodel\n",
      "I0126 10:22:35.300362  5139 sgd_solver.cpp:284] Snapshotting solver state to binary proto file mnist/lenet_iter_200.solverstate\n"
     ]
    }
   ],
   "source": [
    "%%time\n",
    "niter = 200\n",
    "test_interval = 25\n",
    "# losses will also be stored in the log\n",
    "train_loss = zeros(niter)\n",
    "test_acc = zeros(int(np.ceil(niter / test_interval)))\n",
    "output = zeros((niter, 8, 10))\n",
    "\n",
    "# the main solver loop\n",
    "for it in range(niter):\n",
    "    solver.step(1)  # SGD by Caffe\n",
    "    \n",
    "    # store the train loss\n",
    "    train_loss[it] = solver.net.blobs['loss'].data\n",
    "    \n",
    "    # store the output on the first test batch\n",
    "    # (start the forward pass at conv1 to avoid loading new data)\n",
    "    solver.test_nets[0].forward(start='conv1')\n",
    "    output[it] = solver.test_nets[0].blobs['score'].data[:8]\n",
    "    \n",
    "    # run a full test every so often\n",
    "    # (Caffe can also do this for us and write to a log, but we show here\n",
    "    #  how to do it directly in Python, where more complicated things are easier.)\n",
    "    if it % test_interval == 0:\n",
    "        print('Iteration', it, 'testing...')\n",
    "        correct = 0\n",
    "        for test_it in range(100):\n",
    "            solver.test_nets[0].forward()\n",
    "            correct += sum(solver.test_nets[0].blobs['score'].data.argmax(1)\n",
    "                           == solver.test_nets[0].blobs['label'].data)\n",
    "        test_acc[it // test_interval] = correct / 1e4"
   ]
  },
  {
   "cell_type": "code",
   "execution_count": 16,
   "id": "d1c15ae4",
   "metadata": {},
   "outputs": [
    {
     "data": {
      "text/plain": [
       "Text(0.5, 1.0, 'Test Accuracy: 0.93')"
      ]
     },
     "execution_count": 16,
     "metadata": {},
     "output_type": "execute_result"
    },
    {
     "data": {
      "image/png": "[encoded data removed]",
      "text/plain": [
       "<Figure size 432x288 with 2 Axes>"
      ]
     },
     "metadata": {
      "needs_background": "light"
     },
     "output_type": "display_data"
    }
   ],
   "source": [
    "_, ax1 = subplots()\n",
    "ax2 = ax1.twinx()\n",
    "ax1.plot(arange(niter), train_loss)\n",
    "ax2.plot(test_interval * arange(len(test_acc)), test_acc, 'r')\n",
    "ax1.set_xlabel('iteration')\n",
    "ax1.set_ylabel('train loss')\n",
    "ax2.set_ylabel('test accuracy')\n",
    "ax2.set_title('Test Accuracy: {:.2f}'.format(test_acc[-1]))"
   ]
  },
  {
   "cell_type": "code",
   "execution_count": 17,
   "id": "4c6f6e22",
   "metadata": {},
   "outputs": [
    {
     "data": {
      "image/png": "[encoded data removed]",
      "text/plain": [
       "<Figure size 144x144 with 1 Axes>"
      ]
     },
     "metadata": {
      "needs_background": "light"
     },
     "output_type": "display_data"
    },
    {
     "data": {
      "image/png": "[encoded data removed]",
      "text/plain": [
       "<Figure size 720x144 with 1 Axes>"
      ]
     },
     "metadata": {
      "needs_background": "light"
     },
     "output_type": "display_data"
    },
    {
     "data": {
      "image/png": "[encoded data removed]",
      "text/plain": [
       "<Figure size 144x144 with 1 Axes>"
      ]
     },
     "metadata": {
      "needs_background": "light"
     },
     "output_type": "display_data"
    },
    {
     "data": {
      "image/png": "[encoded data removed]",
      "text/plain": [
       "<Figure size 720x144 with 1 Axes>"
      ]
     },
     "metadata": {
      "needs_background": "light"
     },
     "output_type": "display_data"
    },
    {
     "data": {
      "image/png": "[encoded data removed]",
      "text/plain": [
       "<Figure size 144x144 with 1 Axes>"
      ]
     },
     "metadata": {
      "needs_background": "light"
     },
     "output_type": "display_data"
    },
    {
     "data": {
      "image/png": "[encoded data removed]",
      "text/plain": [
       "<Figure size 720x144 with 1 Axes>"
      ]
     },
     "metadata": {
      "needs_background": "light"
     },
     "output_type": "display_data"
    },
    {
     "data": {
      "image/png": "[encoded data removed]",
      "text/plain": [
       "<Figure size 144x144 with 1 Axes>"
      ]
     },
     "metadata": {
      "needs_background": "light"
     },
     "output_type": "display_data"
    },
    {
     "data": {
      "image/png": "[encoded data removed]",
      "text/plain": [
       "<Figure size 720x144 with 1 Axes>"
      ]
     },
     "metadata": {
      "needs_background": "light"
     },
     "output_type": "display_data"
    },
    {
     "data": {
      "image/png": "[encoded data removed]",
      "text/plain": [
       "<Figure size 144x144 with 1 Axes>"
      ]
     },
     "metadata": {
      "needs_background": "light"
     },
     "output_type": "display_data"
    },
    {
     "data": {
      "image/png": "[encoded data removed]",
      "text/plain": [
       "<Figure size 720x144 with 1 Axes>"
      ]
     },
     "metadata": {
      "needs_background": "light"
     },
     "output_type": "display_data"
    },
    {
     "data": {
      "image/png": "[encoded data removed]",
      "text/plain": [
       "<Figure size 144x144 with 1 Axes>"
      ]
     },
     "metadata": {
      "needs_background": "light"
     },
     "output_type": "display_data"
    },
    {
     "data": {
      "image/png": "[encoded data removed]",
      "text/plain": [
       "<Figure size 720x144 with 1 Axes>"
      ]
     },
     "metadata": {
      "needs_background": "light"
     },
     "output_type": "display_data"
    },
    {
     "data": {
      "image/png": "[encoded data removed]",
      "text/plain": [
       "<Figure size 144x144 with 1 Axes>"
      ]
     },
     "metadata": {
      "needs_background": "light"
     },
     "output_type": "display_data"
    },
    {
     "data": {
      "image/png": "[encoded data removed]",
      "text/plain": [
       "<Figure size 720x144 with 1 Axes>"
      ]
     },
     "metadata": {
      "needs_background": "light"
     },
     "output_type": "display_data"
    },
    {
     "data": {
      "image/png": "[encoded data removed]",
      "text/plain": [
       "<Figure size 144x144 with 1 Axes>"
      ]
     },
     "metadata": {
      "needs_background": "light"
     },
     "output_type": "display_data"
    },
    {
     "data": {
      "image/png": "[encoded data removed]",
      "text/plain": [
       "<Figure size 720x144 with 1 Axes>"
      ]
     },
     "metadata": {
      "needs_background": "light"
     },
     "output_type": "display_data"
    }
   ],
   "source": [
    "for i in range(8):\n",
    "    figure(figsize=(2, 2))\n",
    "    imshow(solver.test_nets[0].blobs['data'].data[i, 0], cmap='gray')\n",
    "    figure(figsize=(10, 2))\n",
    "    imshow(output[:50, i].T, interpolation='nearest', cmap='gray')\n",
    "    xlabel('iteration')\n",
    "    ylabel('label')"
   ]
  },
  {
   "cell_type": "code",
   "execution_count": 18,
   "id": "52f320e8",
   "metadata": {},
   "outputs": [
    {
     "data": {
      "image/png": "[encoded data removed]",
      "text/plain": [
       "<Figure size 144x144 with 1 Axes>"
      ]
     },
     "metadata": {
      "needs_background": "light"
     },
     "output_type": "display_data"
    },
    {
     "data": {
      "image/png": "[encoded data removed]",
      "text/plain": [
       "<Figure size 720x144 with 1 Axes>"
      ]
     },
     "metadata": {
      "needs_background": "light"
     },
     "output_type": "display_data"
    },
    {
     "data": {
      "image/png": "[encoded data removed]",
      "text/plain": [
       "<Figure size 144x144 with 1 Axes>"
      ]
     },
     "metadata": {
      "needs_background": "light"
     },
     "output_type": "display_data"
    },
    {
     "data": {
      "image/png": "[encoded data removed]",
      "text/plain": [
       "<Figure size 720x144 with 1 Axes>"
      ]
     },
     "metadata": {
      "needs_background": "light"
     },
     "output_type": "display_data"
    },
    {
     "data": {
      "image/png": "[encoded data removed]",
      "text/plain": [
       "<Figure size 144x144 with 1 Axes>"
      ]
     },
     "metadata": {
      "needs_background": "light"
     },
     "output_type": "display_data"
    },
    {
     "data": {
      "image/png": "[encoded data removed]",
      "text/plain": [
       "<Figure size 720x144 with 1 Axes>"
      ]
     },
     "metadata": {
      "needs_background": "light"
     },
     "output_type": "display_data"
    },
    {
     "data": {
      "image/png": "[encoded data removed]",
      "text/plain": [
       "<Figure size 144x144 with 1 Axes>"
      ]
     },
     "metadata": {
      "needs_background": "light"
     },
     "output_type": "display_data"
    },
    {
     "data": {
      "image/png": "[encoded data removed]",
      "text/plain": [
       "<Figure size 720x144 with 1 Axes>"
      ]
     },
     "metadata": {
      "needs_background": "light"
     },
     "output_type": "display_data"
    },
    {
     "data": {
      "image/png": "[encoded data removed]",
      "text/plain": [
       "<Figure size 144x144 with 1 Axes>"
      ]
     },
     "metadata": {
      "needs_background": "light"
     },
     "output_type": "display_data"
    },
    {
     "data": {
      "image/png": "[encoded data removed]",
      "text/plain": [
       "<Figure size 720x144 with 1 Axes>"
      ]
     },
     "metadata": {
      "needs_background": "light"
     },
     "output_type": "display_data"
    },
    {
     "data": {
      "image/png": "[encoded data removed]",
      "text/plain": [
       "<Figure size 144x144 with 1 Axes>"
      ]
     },
     "metadata": {
      "needs_background": "light"
     },
     "output_type": "display_data"
    },
    {
     "data": {
      "image/png": "[encoded data removed]",
      "text/plain": [
       "<Figure size 720x144 with 1 Axes>"
      ]
     },
     "metadata": {
      "needs_background": "light"
     },
     "output_type": "display_data"
    },
    {
     "data": {
      "image/png": "[encoded data removed]",
      "text/plain": [
       "<Figure size 144x144 with 1 Axes>"
      ]
     },
     "metadata": {
      "needs_background": "light"
     },
     "output_type": "display_data"
    },
    {
     "data": {
      "image/png": "[encoded data removed]",
      "text/plain": [
       "<Figure size 720x144 with 1 Axes>"
      ]
     },
     "metadata": {
      "needs_background": "light"
     },
     "output_type": "display_data"
    },
    {
     "data": {
      "image/png": "[encoded data removed]",
      "text/plain": [
       "<Figure size 144x144 with 1 Axes>"
      ]
     },
     "metadata": {
      "needs_background": "light"
     },
     "output_type": "display_data"
    },
    {
     "data": {
      "image/png": "[encoded data removed]",
      "text/plain": [
       "<Figure size 720x144 with 1 Axes>"
      ]
     },
     "metadata": {
      "needs_background": "light"
     },
     "output_type": "display_data"
    }
   ],
   "source": [
    "for i in range(8):\n",
    "    figure(figsize=(2, 2))\n",
    "    imshow(solver.test_nets[0].blobs['data'].data[i, 0], cmap='gray')\n",
    "    figure(figsize=(10, 2))\n",
    "    imshow(exp(output[:50, i].T) / exp(output[:50, i].T).sum(0), interpolation='nearest', cmap='gray')\n",
    "    xlabel('iteration')\n",
    "    ylabel('label')"
   ]
  },
  {
   "cell_type": "code",
   "execution_count": 19,
   "id": "79691f25",
   "metadata": {},
   "outputs": [
    {
     "data": {
      "text/plain": [
       "<caffe._caffe.Net at 0x7f7830a1e040>"
      ]
     },
     "execution_count": 19,
     "metadata": {},
     "output_type": "execute_result"
    }
   ],
   "source": [
    "solver.net"
   ]
  },
  {
   "cell_type": "code",
   "execution_count": 21,
   "id": "2ab2be45",
   "metadata": {},
   "outputs": [
    {
     "data": {
      "text/plain": [
       "<caffe.net_spec.NetSpec at 0x7f782b1bbb50>"
      ]
     },
     "execution_count": 21,
     "metadata": {},
     "output_type": "execute_result"
    }
   ],
   "source": [
    "caffe.NetSpec()"
   ]
  },
  {
   "cell_type": "code",
   "execution_count": null,
   "id": "ea822ad9",
   "metadata": {},
   "outputs": [],
   "source": []
  }
 ],
 "metadata": {
  "kernelspec": {
   "display_name": "Python 3 (ipykernel)",
   "language": "python",
   "name": "python3"
  },
  "language_info": {
   "codemirror_mode": {
    "name": "ipython",
    "version": 3
   },
   "file_extension": ".py",
   "mimetype": "text/x-python",
   "name": "python",
   "nbconvert_exporter": "python",
   "pygments_lexer": "ipython3",
   "version": "3.8.10"
  }
 },
 "nbformat": 4,
 "nbformat_minor": 5
}
